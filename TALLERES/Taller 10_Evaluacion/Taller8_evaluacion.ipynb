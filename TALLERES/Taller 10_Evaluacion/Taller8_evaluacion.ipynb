{
 "cells": [
  {
   "cell_type": "markdown",
   "metadata": {},
   "source": [
    "# Taller 8"
   ]
  },
  {
   "cell_type": "markdown",
   "metadata": {},
   "source": [
    "## Objetivos"
   ]
  },
  {
   "cell_type": "raw",
   "metadata": {},
   "source": [
    "Evaluar el desempeño y capacidad de prediccion del modelo de susceptibilidad o amenaza construido."
   ]
  },
  {
   "cell_type": "markdown",
   "metadata": {},
   "source": [
    "## Actividades a realizar"
   ]
  },
  {
   "cell_type": "raw",
   "metadata": {},
   "source": [
    "Se debe evaluar el desempeño y capacidad de predicción del modelo a travez de la matriz de confusion y curva AUC para el modelo implementado."
   ]
  },
  {
   "cell_type": "markdown",
   "metadata": {},
   "source": [
    "## Python"
   ]
  },
  {
   "cell_type": "raw",
   "metadata": {},
   "source": [
    "En primera medida se evaluará el desempeño de todos los modelos de Machine Learning del Taller 5 utilizando la librearia Sklearn de python, y finalmente se indica cómo construir la curva de éxito de cualquier modelo implementado en otra herramienta, asi como la matriz de confusión."
   ]
  },
  {
   "cell_type": "markdown",
   "metadata": {},
   "source": [
    "### Machine learning"
   ]
  },
  {
   "cell_type": "raw",
   "metadata": {},
   "source": [
    "Se construyen los modelos del Taller 5, importando las librerias y variables a utilizar."
   ]
  },
  {
   "cell_type": "code",
   "execution_count": 1,
   "metadata": {},
   "outputs": [],
   "source": [
    "import pandas as pd\n",
    "import matplotlib.pyplot as plt\n",
    "import numpy as np\n",
    "from osgeo import gdal\n",
    "from pandas import DataFrame\n",
    "from sklearn.model_selection import train_test_split\n",
    "from sklearn.preprocessing import StandardScaler\n",
    "from sklearn.metrics import classification_report,confusion_matrix, roc_auc_score, accuracy_score, roc_curve, auc"
   ]
  },
  {
   "cell_type": "code",
   "execution_count": 2,
   "metadata": {},
   "outputs": [],
   "source": [
    "driver = gdal.GetDriverByName('GTiff')\n",
    "file = gdal.Open(r'G:\\My Drive\\CATEDRA\\MACHINE LEARNING/datos/raster/slope_rad')\n",
    "pendiente = file.GetRasterBand(1)\n",
    "pendiente = pendiente.ReadAsArray()\n",
    "pendiente=np.where(pendiente==-3.4028234663852886e+38,np.nan,pendiente)\n",
    "pendiente=pendiente*180/np.pi\n",
    "pendiente_vector=pendiente.ravel()\n",
    "pendiente_vector2=np.nan_to_num(pendiente_vector)\n",
    "pendiente_vector_MenM=pendiente_vector[~np.isnan(pendiente_vector)] # para eliminar  del vector los datos inf\n",
    "\n",
    "raster = gdal.Open(r'G:\\My Drive\\CATEDRA\\MACHINE LEARNING/datos/raster/curvatura')\n",
    "curvatura=raster.GetRasterBand(1)\n",
    "curvatura=curvatura.ReadAsArray()\n",
    "curvatura=np.where(curvatura==-3.4028234663852886e+38,np.nan,curvatura)\n",
    "curvatura_vector=curvatura.ravel()\n",
    "curvatura_vector2=np.nan_to_num(curvatura_vector)\n",
    "curvatura_vector_MenM=curvatura_vector[~np.isnan(curvatura_vector)]\n",
    "\n",
    "raster = gdal.Open(r'G:\\My Drive\\CATEDRA\\MACHINE LEARNING/datos/raster/aspecto')\n",
    "aspecto=raster.GetRasterBand(1)\n",
    "aspecto=aspecto.ReadAsArray()\n",
    "aspecto=np.where(aspecto==-3.4028234663852886e+38,np.nan,aspecto)\n",
    "aspecto_vector=aspecto.ravel()\n",
    "aspecto_vector2=np.nan_to_num(aspecto_vector)\n",
    "aspecto_vector_MenM=aspecto_vector[~np.isnan(aspecto_vector)]\n",
    "\n",
    "raster = gdal.Open(r'G:\\My Drive\\CATEDRA\\MACHINE LEARNING/datos/raster/flowacum_m2')\n",
    "flujo=raster.GetRasterBand(1)\n",
    "flujo=flujo.ReadAsArray()\n",
    "flujo=np.where(flujo==-3.4028234663852886e+38,np.nan,flujo)\n",
    "flujo_vector=flujo.ravel()\n",
    "flujo_vector2=np.nan_to_num(flujo_vector)\n",
    "flujo_vector_MenM=flujo_vector[~np.isnan(flujo_vector)]\n",
    "\n",
    "raster = gdal.Open(r'G:\\My Drive\\CATEDRA\\MACHINE LEARNING/datos/raster/inventario.tif')\n",
    "inventario=raster.GetRasterBand(1)\n",
    "inventario=inventario.ReadAsArray()\n",
    "msk=np.where(pendiente>=0,1,np.nan)\n",
    "inventario=msk*inventario\n",
    "inventario=np.where(inventario==1,0,inventario)\n",
    "inventario=np.where(inventario==2,1,inventario)\n",
    "inventario_vector=inventario.ravel()\n",
    "inventario_vector_MenM=inventario_vector[~np.isnan(inventario_vector)]"
   ]
  },
  {
   "cell_type": "code",
   "execution_count": 3,
   "metadata": {},
   "outputs": [
    {
     "name": "stdout",
     "output_type": "stream",
     "text": [
      "vectores de x ['pendiente', 'flujo_acum', 'aspecto', 'curvatura']\n",
      "vectores de x-map ['pendiente', 'flujo_acum', 'aspecto', 'curvatura']\n"
     ]
    }
   ],
   "source": [
    "#Dataframe con las variables filtradas \n",
    "d={'inventario':inventario_vector_MenM,'pendiente':pendiente_vector_MenM,'flujo_acum':flujo_vector_MenM,'aspecto':aspecto_vector_MenM,\n",
    "   'curvatura':curvatura_vector_MenM}\n",
    "x = pd.DataFrame(d)\n",
    "y=x['inventario']\n",
    "x.drop('inventario', axis=1, inplace=True)\n",
    "print('vectores de x',list(x.columns))\n",
    "columns=x.columns\n",
    "\n",
    "#Dataframe de las variables de todo el mapa\n",
    "f={'pendiente':pendiente_vector2,'flujo_acum':flujo_vector2,'aspecto':aspecto_vector2, 'curvatura':curvatura_vector2}\n",
    "x_map=pd.DataFrame(f)\n",
    "print('vectores de x-map',list(x_map.columns))"
   ]
  },
  {
   "cell_type": "raw",
   "metadata": {},
   "source": [
    "Para poder ejecutar una evaluación cruzada de los modelos implementados, es necesario antes de su construcción separar las bases de datos, con los datos para entrenar el modelo, y los datos para validar el modelo, utilizando la función train_test_split, en este caso se utilizará una porporción de separación de 80:20. Como la separación es un proceso aleatorio, el valor de random_state simplemente es un número que asegura que siempre que utilice el mismo valor semilla la separación aleatoria de los datos será igual obteniendo iguales resultados."
   ]
  },
  {
   "cell_type": "code",
   "execution_count": 4,
   "metadata": {},
   "outputs": [
    {
     "name": "stdout",
     "output_type": "stream",
     "text": [
      "Tamaño de variables de entrenamiento: (79248, 4)\n",
      "Tamaño de labels de entrenamiento: (79248,)\n",
      "Tamaño de variables de validación: (19812, 4)\n",
      "Tamaño de labels de validación: (19812,)\n"
     ]
    }
   ],
   "source": [
    "#Separacion de la base de datos en celdas de entrenamiento para evaluacion del desempeño y celdas de validacion para prediccion del modelo\n",
    "from sklearn.model_selection import train_test_split\n",
    "\n",
    "X_train, X_test, y_train, y_test = train_test_split(x, y, test_size=0.2, random_state=8)\n",
    "print('Tamaño de variables de entrenamiento:', X_train.shape)\n",
    "print('Tamaño de labels de entrenamiento:', y_train.shape)\n",
    "print('Tamaño de variables de validación:', X_test.shape)\n",
    "print('Tamaño de labels de validación:', y_test.shape)"
   ]
  },
  {
   "cell_type": "raw",
   "metadata": {},
   "source": [
    "A continuación se implementa el modelo, entrenando el modelo con la base de datos denominada X_train y y_train, y evaluando la capacidad de predicción con los datos denominados X_test y y_test. Para cada método se presentan otras métricas para evaluar el desempeño del modelo con funciones disponibles en python, por lo que se importan desde el inicio las funciones de clasification_report y confusion matrix."
   ]
  },
  {
   "cell_type": "markdown",
   "metadata": {},
   "source": [
    "## Redes Neuronales"
   ]
  },
  {
   "cell_type": "code",
   "execution_count": 5,
   "metadata": {},
   "outputs": [],
   "source": [
    "from sklearn.neural_network import MLPClassifier\n",
    "from sklearn.preprocessing import StandardScaler\n",
    "\n",
    "#Estandarizar las variables\n",
    "scaler = StandardScaler()\n",
    "\n",
    "# Fit only to the training data\n",
    "scaler.fit(X_train)\n",
    "StandardScaler(copy=True, with_mean=True, with_std=True)\n",
    "\n",
    "# Now apply the transformations to the data:\n",
    "X_train = scaler.transform(X_train)\n",
    "X_test = scaler.transform(X_test)\n",
    "\n",
    "#Implementar el modelo de Redes neuronales denominado Multilayer Perceptron, en este caso dos capas escondidas de 5 y 2 neuronas\n",
    "mlp = MLPClassifier(hidden_layer_sizes=(5,2),max_iter=500)\n",
    "model=mlp.fit(X_train,y_train)\n",
    "\n",
    "y_train_predProba=model.predict_proba(X_train)[:,1]\n",
    "y_test_predProba = model.predict_proba(X_test)[:,1]\n",
    "\n",
    "y_train_pred = model.predict(X_train)\n",
    "y_test_pred = model.predict(X_test)"
   ]
  },
  {
   "cell_type": "code",
   "execution_count": 6,
   "metadata": {},
   "outputs": [
    {
     "name": "stdout",
     "output_type": "stream",
     "text": [
      "0.9729456894811226\n"
     ]
    }
   ],
   "source": [
    "# Calculate and display accuracy\n",
    "print(accuracy_score(y_test, y_test_pred))"
   ]
  },
  {
   "cell_type": "code",
   "execution_count": 7,
   "metadata": {},
   "outputs": [
    {
     "name": "stdout",
     "output_type": "stream",
     "text": [
      "[[77153     0]\n",
      " [ 2095     0]]\n",
      "[[19276     0]\n",
      " [  536     0]]\n"
     ]
    }
   ],
   "source": [
    "#Matriz de confusion para desempeño\n",
    "print(confusion_matrix(y_train,y_train_pred))\n",
    "print(confusion_matrix(y_test,y_test_pred))"
   ]
  },
  {
   "cell_type": "code",
   "execution_count": 8,
   "metadata": {},
   "outputs": [
    {
     "name": "stdout",
     "output_type": "stream",
     "text": [
      "              precision    recall  f1-score   support\n",
      "\n",
      "         0.0       0.97      1.00      0.99     77153\n",
      "         1.0       0.00      0.00      0.00      2095\n",
      "\n",
      "    accuracy                           0.97     79248\n",
      "   macro avg       0.49      0.50      0.49     79248\n",
      "weighted avg       0.95      0.97      0.96     79248\n",
      "\n",
      "              precision    recall  f1-score   support\n",
      "\n",
      "         0.0       0.97      1.00      0.99     19276\n",
      "         1.0       0.00      0.00      0.00       536\n",
      "\n",
      "    accuracy                           0.97     19812\n",
      "   macro avg       0.49      0.50      0.49     19812\n",
      "weighted avg       0.95      0.97      0.96     19812\n",
      "\n"
     ]
    },
    {
     "name": "stderr",
     "output_type": "stream",
     "text": [
      "C:\\Users\\usuario\\.conda\\envs\\ml\\lib\\site-packages\\sklearn\\metrics\\_classification.py:1221: UndefinedMetricWarning: Precision and F-score are ill-defined and being set to 0.0 in labels with no predicted samples. Use `zero_division` parameter to control this behavior.\n",
      "  _warn_prf(average, modifier, msg_start, len(result))\n"
     ]
    }
   ],
   "source": [
    "print(classification_report(y_train,y_train_pred))\n",
    "print(classification_report(y_test,y_test_pred))"
   ]
  },
  {
   "cell_type": "code",
   "execution_count": 9,
   "metadata": {},
   "outputs": [
    {
     "data": {
      "text/plain": [
       "Text(0.7, 0.1, 'AUC=0.7965%')"
      ]
     },
     "execution_count": 9,
     "metadata": {},
     "output_type": "execute_result"
    },
    {
     "data": {
      "image/png": "[encoded data removed]",
      "text/plain": [
       "<Figure size 432x288 with 1 Axes>"
      ]
     },
     "metadata": {
      "needs_background": "light"
     },
     "output_type": "display_data"
    }
   ],
   "source": [
    "#Curva ROC y AUC utilizando metrics.roc_curve\n",
    "fpr, sensitivity, _=roc_curve(y_train,y_train_predProba)\n",
    "plt.plot(fpr,sensitivity,color='r')\n",
    "x=[i*0.01 for i in range(100)]\n",
    "y=[i*0.01 for i in range(100)]\n",
    "plt.plot(x,y,linestyle='--',color='b')\n",
    "plt.grid(True)\n",
    "plt.xlabel('FPR')\n",
    "plt.ylabel('TPR')\n",
    "plt.title('ROC Curve for training')\n",
    "auc=str(round(auc(fpr,sensitivity),4))\n",
    "plt.text(x=0.7,y=0.1,s='AUC='+auc+'%',size=12)"
   ]
  },
  {
   "cell_type": "code",
   "execution_count": 10,
   "metadata": {},
   "outputs": [
    {
     "ename": "TypeError",
     "evalue": "'str' object is not callable",
     "output_type": "error",
     "traceback": [
      "\u001b[1;31m---------------------------------------------------------------------------\u001b[0m",
      "\u001b[1;31mTypeError\u001b[0m                                 Traceback (most recent call last)",
      "\u001b[1;32m<ipython-input-10-2a6d14060cbf>\u001b[0m in \u001b[0;36m<module>\u001b[1;34m\u001b[0m\n\u001b[0;32m      9\u001b[0m \u001b[0mplt\u001b[0m\u001b[1;33m.\u001b[0m\u001b[0mylabel\u001b[0m\u001b[1;33m(\u001b[0m\u001b[1;34m'TPR'\u001b[0m\u001b[1;33m)\u001b[0m\u001b[1;33m\u001b[0m\u001b[0m\n\u001b[0;32m     10\u001b[0m \u001b[0mplt\u001b[0m\u001b[1;33m.\u001b[0m\u001b[0mtitle\u001b[0m\u001b[1;33m(\u001b[0m\u001b[1;34m'ROC Curve for testing'\u001b[0m\u001b[1;33m)\u001b[0m\u001b[1;33m\u001b[0m\u001b[0m\n\u001b[1;32m---> 11\u001b[1;33m \u001b[0mauc\u001b[0m\u001b[1;33m=\u001b[0m\u001b[0mstr\u001b[0m\u001b[1;33m(\u001b[0m\u001b[0mround\u001b[0m\u001b[1;33m(\u001b[0m\u001b[0mauc\u001b[0m\u001b[1;33m(\u001b[0m\u001b[0mfpr\u001b[0m\u001b[1;33m,\u001b[0m\u001b[0msensitivity\u001b[0m\u001b[1;33m)\u001b[0m\u001b[1;33m,\u001b[0m\u001b[1;36m4\u001b[0m\u001b[1;33m)\u001b[0m\u001b[1;33m)\u001b[0m\u001b[1;33m\u001b[0m\u001b[0m\n\u001b[0m\u001b[0;32m     12\u001b[0m \u001b[0mplt\u001b[0m\u001b[1;33m.\u001b[0m\u001b[0mtext\u001b[0m\u001b[1;33m(\u001b[0m\u001b[0mx\u001b[0m\u001b[1;33m=\u001b[0m\u001b[1;36m0.7\u001b[0m\u001b[1;33m,\u001b[0m\u001b[0my\u001b[0m\u001b[1;33m=\u001b[0m\u001b[1;36m0.1\u001b[0m\u001b[1;33m,\u001b[0m\u001b[0ms\u001b[0m\u001b[1;33m=\u001b[0m\u001b[1;34m'AUC='\u001b[0m\u001b[1;33m+\u001b[0m\u001b[0mauc\u001b[0m\u001b[1;33m+\u001b[0m\u001b[1;34m'%'\u001b[0m\u001b[1;33m,\u001b[0m\u001b[0msize\u001b[0m\u001b[1;33m=\u001b[0m\u001b[1;36m12\u001b[0m\u001b[1;33m)\u001b[0m\u001b[1;33m\u001b[0m\u001b[0m\n",
      "\u001b[1;31mTypeError\u001b[0m: 'str' object is not callable"
     ]
    },
    {
     "data": {
      "image/png": "[encoded data removed]",
      "text/plain": [
       "<Figure size 432x288 with 1 Axes>"
      ]
     },
     "metadata": {
      "needs_background": "light"
     },
     "output_type": "display_data"
    }
   ],
   "source": [
    "#Curva ROC y AUC utilizando metrics.roc_curve\n",
    "fpr, sensitivity, _=roc_curve(y_test,y_test_predProba)\n",
    "plt.plot(fpr,sensitivity,color='r')\n",
    "x=[i*0.01 for i in range(100)]\n",
    "y=[i*0.01 for i in range(100)]\n",
    "plt.plot(x,y,linestyle='--',color='b')\n",
    "plt.grid(True)\n",
    "plt.xlabel('FPR')\n",
    "plt.ylabel('TPR')\n",
    "plt.title('ROC Curve for testing')\n",
    "auc=str(round(auc(fpr,sensitivity),4))\n",
    "plt.text(x=0.7,y=0.1,s='AUC='+auc+'%',size=12)"
   ]
  },
  {
   "cell_type": "code",
   "execution_count": 17,
   "metadata": {},
   "outputs": [
    {
     "name": "stdout",
     "output_type": "stream",
     "text": [
      "Train ROC AUC Score: 0.7991619912044712\n",
      "Test ROC AUC  Score: 0.8016103661501581\n",
      "Baseline ROC AUC: 0.5\n"
     ]
    }
   ],
   "source": [
    "print(f'Train ROC AUC Score: {roc_auc_score(y_train, y_train_predProba)}')\n",
    "print(f'Test ROC AUC  Score: {roc_auc_score(y_test, y_test_predProba)}')\n",
    "print(f'Baseline ROC AUC: {roc_auc_score(y_test, [1 for _ in range(len(y_test))])}')"
   ]
  },
  {
   "cell_type": "code",
   "execution_count": 18,
   "metadata": {},
   "outputs": [],
   "source": [
    "#prediccion de todo el mapa\n",
    "IS=mlp.predict(x_map)"
   ]
  },
  {
   "cell_type": "markdown",
   "metadata": {},
   "source": [
    "## Decision tree"
   ]
  },
  {
   "cell_type": "code",
   "execution_count": 19,
   "metadata": {},
   "outputs": [],
   "source": [
    "from sklearn.tree import DecisionTreeClassifier\n",
    "from sklearn.tree import export_graphviz\n",
    "import pydot\n",
    "\n",
    "# Make a decision tree and train\n",
    "tree = DecisionTreeClassifier(random_state=8)\n",
    "\n",
    "# Train the model on training data\n",
    "model=tree.fit(X_train, y_train)\n",
    "\n",
    "\"\"\"\n",
    "print(f'El Arbol de decisión tiene {tree.tree_.node_count} nodos con una profundidad máxima de {tree.tree_.max_depth}.')\n",
    "\n",
    "# Para exportar como imagen el arbol de decision, priemro Export as dot\n",
    "export_graphviz(tree, 'tree.dot', rounded = True, feature_names = columns, class_names = ['0', '1'], filled = True)\n",
    "# Use dot file to create a graph\n",
    "\n",
    "(graph, ) = pydot.graph_from_dot_file('G:\\My Drive\\CATEDRA\\CARTOGRAFIA GEOTECNICA\\CartografiaGeotecnica\\TALLERES\\Taller 8_evaluacion\\tree.dot')\n",
    "# Write graph to a png file\n",
    "graph.write_png('trees.png')\n",
    "\"\"\"\n",
    "\n",
    "#Obtener las predicciones y probabilidad de las predicciones para los datos de entrenamiento y los datos de validación\n",
    "y_train_predProba=model.predict_proba(X_train)[:,1]\n",
    "y_test_predProba = model.predict_proba(X_test)[:,1]\n",
    "\n",
    "y_train_pred = model.predict(X_train)\n",
    "y_test_pred = model.predict(X_test)"
   ]
  },
  {
   "cell_type": "code",
   "execution_count": 20,
   "metadata": {},
   "outputs": [
    {
     "name": "stdout",
     "output_type": "stream",
     "text": [
      "0.949323642237028\n"
     ]
    }
   ],
   "source": [
    "# Calculate and display accuracy\n",
    "print(accuracy_score(y_test, y_test_pred))"
   ]
  },
  {
   "cell_type": "code",
   "execution_count": 21,
   "metadata": {},
   "outputs": [
    {
     "name": "stdout",
     "output_type": "stream",
     "text": [
      "[[77153     0]\n",
      " [    0  2095]]\n",
      "[[18769   507]\n",
      " [  497    39]]\n"
     ]
    }
   ],
   "source": [
    "#Matriz de confusion\n",
    "print(confusion_matrix(y_train,y_train_pred))\n",
    "print(confusion_matrix(y_test,y_test_pred))"
   ]
  },
  {
   "cell_type": "code",
   "execution_count": 22,
   "metadata": {},
   "outputs": [
    {
     "name": "stdout",
     "output_type": "stream",
     "text": [
      "              precision    recall  f1-score   support\n",
      "\n",
      "         0.0       1.00      1.00      1.00     77153\n",
      "         1.0       1.00      1.00      1.00      2095\n",
      "\n",
      "    accuracy                           1.00     79248\n",
      "   macro avg       1.00      1.00      1.00     79248\n",
      "weighted avg       1.00      1.00      1.00     79248\n",
      "\n",
      "              precision    recall  f1-score   support\n",
      "\n",
      "         0.0       0.97      0.97      0.97     19276\n",
      "         1.0       0.07      0.07      0.07       536\n",
      "\n",
      "    accuracy                           0.95     19812\n",
      "   macro avg       0.52      0.52      0.52     19812\n",
      "weighted avg       0.95      0.95      0.95     19812\n",
      "\n"
     ]
    }
   ],
   "source": [
    "#Evaluacion del desempeño y capacidad de prediccion del modelo\n",
    "print(classification_report(y_train, y_train_pred))\n",
    "print(classification_report(y_test, y_test_pred))"
   ]
  },
  {
   "cell_type": "code",
   "execution_count": 23,
   "metadata": {},
   "outputs": [
    {
     "name": "stdout",
     "output_type": "stream",
     "text": [
      "Train ROC AUC Score: 1.0\n",
      "Test ROC AUC  Score: 0.5232295283284759\n",
      "Baseline ROC AUC: 0.5\n"
     ]
    }
   ],
   "source": [
    "print(f'Train ROC AUC Score: {roc_auc_score(y_train, y_train_predProba)}')\n",
    "print(f'Test ROC AUC  Score: {roc_auc_score(y_test, y_test_predProba)}')\n",
    "print(f'Baseline ROC AUC: {roc_auc_score(y_test, [1 for _ in range(len(y_test))])}')"
   ]
  },
  {
   "cell_type": "markdown",
   "metadata": {},
   "source": [
    "## Random forest"
   ]
  },
  {
   "cell_type": "code",
   "execution_count": 13,
   "metadata": {},
   "outputs": [],
   "source": [
    "from sklearn.ensemble import RandomForestClassifier\n",
    "\n",
    "# Limit depth of tree to 3 levels\n",
    "rf_small = RandomForestClassifier(n_estimators=10, max_depth = 3)\n",
    "model= rf_small.fit(X_train, y_train)\n",
    "\n",
    "#Obtener las predicciones y probabilidad de las predicciones para los datos de entrenamiento y los datos de validación\n",
    "y_train_predProba=model.predict_proba(X_train)[:,1]\n",
    "y_test_predProba = model.predict_proba(X_test)[:,1]\n",
    "\n",
    "y_train_pred = model.predict(X_train)\n",
    "y_test_pred = model.predict(X_test)\n",
    "\n",
    "#Para predecir todo el mapa\n",
    "IS=model.predict(x_map)"
   ]
  },
  {
   "cell_type": "code",
   "execution_count": 14,
   "metadata": {},
   "outputs": [
    {
     "name": "stdout",
     "output_type": "stream",
     "text": [
      "0.9729456894811226\n"
     ]
    }
   ],
   "source": [
    "# Calculate and display accuracy\n",
    "print(accuracy_score(y_test, y_test_pred))"
   ]
  },
  {
   "cell_type": "code",
   "execution_count": 17,
   "metadata": {},
   "outputs": [
    {
     "name": "stdout",
     "output_type": "stream",
     "text": [
      "[[77153     0]\n",
      " [ 2095     0]]\n",
      "[[19276     0]\n",
      " [  536     0]]\n"
     ]
    }
   ],
   "source": [
    "#Matriz de confusion\n",
    "print(confusion_matrix(y_train,y_train_pred))\n",
    "print(confusion_matrix(y_test,y_test_pred))"
   ]
  },
  {
   "cell_type": "code",
   "execution_count": 18,
   "metadata": {},
   "outputs": [
    {
     "name": "stdout",
     "output_type": "stream",
     "text": [
      "              precision    recall  f1-score   support\n",
      "\n",
      "         0.0       0.97      1.00      0.99     77153\n",
      "         1.0       0.00      0.00      0.00      2095\n",
      "\n",
      "    accuracy                           0.97     79248\n",
      "   macro avg       0.49      0.50      0.49     79248\n",
      "weighted avg       0.95      0.97      0.96     79248\n",
      "\n",
      "              precision    recall  f1-score   support\n",
      "\n",
      "         0.0       0.97      1.00      0.99     19276\n",
      "         1.0       0.00      0.00      0.00       536\n",
      "\n",
      "    accuracy                           0.97     19812\n",
      "   macro avg       0.49      0.50      0.49     19812\n",
      "weighted avg       0.95      0.97      0.96     19812\n",
      "\n"
     ]
    },
    {
     "name": "stderr",
     "output_type": "stream",
     "text": [
      "C:\\Users\\usuario\\.conda\\envs\\ml\\lib\\site-packages\\sklearn\\metrics\\_classification.py:1221: UndefinedMetricWarning: Precision and F-score are ill-defined and being set to 0.0 in labels with no predicted samples. Use `zero_division` parameter to control this behavior.\n",
      "  _warn_prf(average, modifier, msg_start, len(result))\n"
     ]
    }
   ],
   "source": [
    "#Evaluacion del desempeño y capacidad de prediccion del modelo\n",
    "print(classification_report(y_train, y_train_pred))\n",
    "print(classification_report(y_test, y_test_pred))"
   ]
  },
  {
   "cell_type": "markdown",
   "metadata": {},
   "source": [
    "## Analisis discriminante"
   ]
  },
  {
   "cell_type": "code",
   "execution_count": 20,
   "metadata": {},
   "outputs": [],
   "source": [
    "from sklearn.discriminant_analysis import LinearDiscriminantAnalysis\n",
    "\n",
    "LDA = LinearDiscriminantAnalysis()\n",
    "data_projected = LDA.fit_transform(X_train,y_train)\n",
    "\n",
    "#predicting the test set results\n",
    "y_train_pred = LDA.predict(X_train)\n",
    "y_test_pred = LDA.predict(X_test)\n",
    "\n",
    "#calcular la probabildaid apra cada clase\n",
    "y_train_predProb=LDA.predict_proba(X_train)\n",
    "y_test_predProb=LDA.predict_proba(X_test)\n",
    "\n",
    "#Para predecir todo el mapa\n",
    "IS=LDA.predict(x_map)"
   ]
  },
  {
   "cell_type": "code",
   "execution_count": 21,
   "metadata": {},
   "outputs": [
    {
     "name": "stdout",
     "output_type": "stream",
     "text": [
      "0.9729456894811226\n"
     ]
    }
   ],
   "source": [
    "# Calculate and display accuracy\n",
    "print(accuracy_score(y_test, y_test_pred))"
   ]
  },
  {
   "cell_type": "code",
   "execution_count": 22,
   "metadata": {},
   "outputs": [
    {
     "name": "stdout",
     "output_type": "stream",
     "text": [
      "[[77153     0]\n",
      " [ 2095     0]]\n",
      "[[19276     0]\n",
      " [  536     0]]\n"
     ]
    }
   ],
   "source": [
    "#Matriz de confusion\n",
    "print(confusion_matrix(y_train,y_train_pred))\n",
    "print(confusion_matrix(y_test,y_test_pred))"
   ]
  },
  {
   "cell_type": "code",
   "execution_count": 23,
   "metadata": {},
   "outputs": [
    {
     "name": "stdout",
     "output_type": "stream",
     "text": [
      "              precision    recall  f1-score   support\n",
      "\n",
      "         0.0       0.97      1.00      0.99     77153\n",
      "         1.0       0.00      0.00      0.00      2095\n",
      "\n",
      "    accuracy                           0.97     79248\n",
      "   macro avg       0.49      0.50      0.49     79248\n",
      "weighted avg       0.95      0.97      0.96     79248\n",
      "\n",
      "              precision    recall  f1-score   support\n",
      "\n",
      "         0.0       0.97      1.00      0.99     19276\n",
      "         1.0       0.00      0.00      0.00       536\n",
      "\n",
      "    accuracy                           0.97     19812\n",
      "   macro avg       0.49      0.50      0.49     19812\n",
      "weighted avg       0.95      0.97      0.96     19812\n",
      "\n"
     ]
    },
    {
     "name": "stderr",
     "output_type": "stream",
     "text": [
      "C:\\Users\\usuario\\.conda\\envs\\ml\\lib\\site-packages\\sklearn\\metrics\\_classification.py:1221: UndefinedMetricWarning: Precision and F-score are ill-defined and being set to 0.0 in labels with no predicted samples. Use `zero_division` parameter to control this behavior.\n",
      "  _warn_prf(average, modifier, msg_start, len(result))\n"
     ]
    }
   ],
   "source": [
    "#Evaluacion del desempeño y capacidad de prediccion del modelo\n",
    "print(classification_report(y_train, y_train_pred))\n",
    "print(classification_report(y_test, y_test_pred))"
   ]
  },
  {
   "cell_type": "markdown",
   "metadata": {},
   "source": [
    "## SUPPORT VECTOR MACHINE"
   ]
  },
  {
   "cell_type": "code",
   "execution_count": null,
   "metadata": {},
   "outputs": [],
   "source": [
    "from sklearn.svm import SVC # \"Support vector classifier\"\n",
    "\n",
    "model = SVC(kernel='linear', C=1E10)\n",
    "model.fit(X_train, y_train)\n",
    "\n",
    "#predicting the test set results\n",
    "y_train_pred = LDA.predict(X_train)\n",
    "y_test_pred = LDA.predict(X_test)\n",
    "\n",
    "#calcular la probabildaid apra cada clase\n",
    "y_train_predProb=LDA.predict_proba(X_train)\n",
    "y_test_predProb=LDA.predict_proba(X_test)\n",
    "\n",
    "#Para predecir todo el mapa\n",
    "IS=model.predict(x_map)"
   ]
  },
  {
   "cell_type": "code",
   "execution_count": null,
   "metadata": {},
   "outputs": [],
   "source": [
    "# Calculate and display accuracy\n",
    "print(accuracy_score(y_test, y_test_pred))"
   ]
  },
  {
   "cell_type": "code",
   "execution_count": null,
   "metadata": {},
   "outputs": [],
   "source": [
    "#Matriz de confusion\n",
    "print(confusion_matrix(y_train,y_train_pred))\n",
    "print(confusion_matrix(y_test,y_test_pred))"
   ]
  },
  {
   "cell_type": "code",
   "execution_count": null,
   "metadata": {},
   "outputs": [],
   "source": [
    "#Evaluacion del desempeño y capacidad de prediccion del modelo\n",
    "print(classification_report(y_train, y_train_pred))\n",
    "print(classification_report(y_test, y_test_pred))"
   ]
  },
  {
   "cell_type": "markdown",
   "metadata": {},
   "source": [
    "### Curva de éxito "
   ]
  },
  {
   "cell_type": "raw",
   "metadata": {},
   "source": [
    "A continuación se incluye el código para consturir la Curva de Exito y el área bajo la curva a partir de los resultados del mapa de susceptibilidad obtenido meidante un modelo con base física, y que arroja como resultado los factores de seguridad de cada celda."
   ]
  },
  {
   "cell_type": "code",
   "execution_count": 11,
   "metadata": {},
   "outputs": [],
   "source": [
    "import numpy as np\n",
    "from osgeo import gdal\n",
    "import pandas as pd\n",
    "from numpy import cumsum\n",
    "%matplotlib notebook"
   ]
  },
  {
   "cell_type": "code",
   "execution_count": 85,
   "metadata": {},
   "outputs": [],
   "source": [
    "#importar mapa de factor de seguridad FS\n",
    "FS_hazard  = np.genfromtxt('FS_AMEACA.txt')\n",
    "FS_vector=FS_hazard.ravel()\n",
    "FS_vector1=FS_vector[FS_vector!=-9999]\n",
    "FS_max=FS_vector1.max()\n",
    "FS_min=FS_vector1.min()\n",
    "\n",
    "#importar inventario de movimientso en masa\n",
    "raster = gdal.Open(r'G:\\My Drive\\CATEDRA\\MACHINE LEARNING/datos/raster/inventario.tif')\n",
    "inventario=raster.GetRasterBand(1)\n",
    "inv_raster=inventario.ReadAsArray()\n",
    "inv_raster=np.where(FS_hazard==-9999,-9999,inv_raster)\n",
    "inv_vector=inv_raster.ravel()\n",
    "inv_vector=inv_vector[inv_vector!=-9999]\n",
    "inv_vector1=np.where(inv_vector==1,0,inv_vector)\n",
    "inv_vector1=np.where(inv_vector1==2,1,inv_vector1)"
   ]
  },
  {
   "cell_type": "code",
   "execution_count": 87,
   "metadata": {},
   "outputs": [
    {
     "data": {
      "text/plain": [
       "array([0, 1], dtype=int16)"
      ]
     },
     "execution_count": 87,
     "metadata": {},
     "output_type": "execute_result"
    }
   ],
   "source": [
    "np.unique(inv_vector1)"
   ]
  },
  {
   "cell_type": "code",
   "execution_count": 88,
   "metadata": {},
   "outputs": [
    {
     "data": {
      "text/plain": [
       "array([0, 0, 0, ..., 0, 0, 0], dtype=int16)"
      ]
     },
     "execution_count": 88,
     "metadata": {},
     "output_type": "execute_result"
    }
   ],
   "source": [
    "inv_vector1"
   ]
  },
  {
   "cell_type": "code",
   "execution_count": 29,
   "metadata": {},
   "outputs": [],
   "source": [
    "#Se convierte el vector en una serie de Panda para poder iterar sobre el\n",
    "FS_vector1=pd.Series(FS_vector1)\n",
    "\n",
    "#a continuacion se calcula el numero de celdas en cada rango especificado, los rangos son definidos a criterio.\n",
    "a=b=c=d=e=f=g=h=i=j=k=l=m=n=o=p=0\n",
    "for row in FS_vector1:\n",
    "        if (FS_min <= row) & (row < 0):\n",
    "          a+=1\n",
    "        elif (0 <= row) & (row < 0.5):\n",
    "          b+=1\n",
    "        elif (0.5 <= row) & (row < 1):\n",
    "          c+=1\n",
    "        elif (1 <= row) & (row < 1.1):\n",
    "          d+=1\n",
    "        elif (1.1 <= row) & (row < 1.2):\n",
    "          e+=1\n",
    "        elif (1.2 <= row) & (row < 1.3):\n",
    "          f+=1\n",
    "        elif (1.3 <= row) & (row < 1.4):\n",
    "          g+=1\n",
    "        elif (1.4 <= row) & (row < 1.5):\n",
    "          h+=1\n",
    "        elif (1.5 <= row) & (row < 1.6):\n",
    "          i+=1\n",
    "        elif (1.6 <= row) & (row < 1.7):\n",
    "          j+=1\n",
    "        elif (1.7 <= row) & (row < 1.8):\n",
    "          k+=1\n",
    "        elif (1.8 <= row) & (row < 1.9):\n",
    "          l+=1\n",
    "        elif (1.9 <= row) & (row < 2):\n",
    "          m+=1\n",
    "        elif (2 <= row) & (row < 3):\n",
    "          n+=1\n",
    "        elif (3 <= row) & (row < 4):\n",
    "          o+=1\n",
    "        if (row>=4):\n",
    "          p+=1\n",
    "\n",
    "#Se obtiene el total de celdas en cada rango\n",
    "total=a+b+c+d+e+f+g+h+i+j+k+l+m+n+o+p\n",
    "\n",
    "#se calcula el procentaje acumulado para cada rango desde el rango de mayor susceptibildad al de menor susceptibilidad\n",
    "x_FS=[]\n",
    "x1=100*p/total\n",
    "x_FS.append(x1)\n",
    "x2=100*o/total\n",
    "x_FS.append(x2)  \n",
    "x3=100*n/total\n",
    "x_FS.append(x3)\n",
    "x4=100*m/total\n",
    "x_FS.append(x4)\n",
    "x5=100*l/total\n",
    "x_FS.append(x5)\n",
    "x6=100*k/total\n",
    "x_FS.append(x6)\n",
    "x7=100*j/total\n",
    "x_FS.append(x7)\n",
    "x8=100*i/total\n",
    "x_FS.append(x8)\n",
    "x9=100*h/total\n",
    "x_FS.append(x9)\n",
    "x10=100*g/total\n",
    "x_FS.append(x10)\n",
    "x11=100*f/total\n",
    "x_FS.append(x11)\n",
    "x12=100*e/total\n",
    "x_FS.append(x12)\n",
    "x13=100*d/total\n",
    "x_FS.append(x13)\n",
    "x14=100*c/total\n",
    "x_FS.append(x14)\n",
    "x15=100*b/total\n",
    "x_FS.append(x15)\n",
    "x16=100*a/total\n",
    "x_FS.append(x16)\n",
    "\n",
    "#se transforma el vector construido a la suma acumulada de sus valores\n",
    "x_FS = list(cumsum(x_FS))\n"
   ]
  },
  {
   "cell_type": "code",
   "execution_count": 104,
   "metadata": {},
   "outputs": [],
   "source": [
    "#Para encontrar las celdas en cada rango con movimientos en masa se multiplica con el inventario y se itera como en el caso anterior \n",
    "#para calcular el numero de celdas con deslizamiento en cada rango. \n",
    "produc=FS_vector1*inv_vector1\n",
    "\n",
    "a1=b1=c1=d1=e1=f1=g1=h1=i1=j1=k1=l1=m1=n1=o1=p1=0\n",
    "for row in produc:\n",
    "        if (FS_min <= row) & (row < 0):\n",
    "          a1+=1\n",
    "        elif (0 < row) & (row < 0.5):\n",
    "          b1+=1\n",
    "        elif (0.5 <= row) & (row < 1):\n",
    "          c1+=1\n",
    "        elif (1 <= row) & (row < 1.1):\n",
    "          d1+=1\n",
    "        elif (1.1 <= row) & (row < 1.2):\n",
    "          e1+=1\n",
    "        elif (1.2 <= row) & (row < 1.3):\n",
    "          f1+=1\n",
    "        elif (1.3 <= row) & (row < 1.4):\n",
    "          g1+=1\n",
    "        elif (1.4 <= row) & (row < 1.5):\n",
    "          h1+=1\n",
    "        elif (1.5 <= row) & (row < 1.6):\n",
    "          i1+=1\n",
    "        elif (1.6 <= row) & (row < 1.7):\n",
    "          j1+=1\n",
    "        elif (1.7 <= row) & (row < 1.8):\n",
    "          k1+=1\n",
    "        elif (1.8 <= row) & (row < 1.9):\n",
    "          l1+=1\n",
    "        elif (1.9 <= row) & (row < 2):\n",
    "          m1+=1\n",
    "        elif (2 <= row) & (row < 3):\n",
    "          n1+=1\n",
    "        elif (3 <= row) & (row < 4):\n",
    "          o1+=1\n",
    "        if (row>=4):\n",
    "          p1+=1\n",
    "          \n",
    "total1=a1+b1+c1+d1+e1+f1+g1+h1+i1+j1+k1+l1+m1+n1+o1+p1\n",
    "\n",
    "#Se calcula tambien el porcentaje acumulado en cada rango con respecto al total de celdas com movimientos en masa\n",
    "y_FS=[]\n",
    "y1=100*p1/total1\n",
    "y_FS.append(y1)\n",
    "y2=100*o1/total1\n",
    "y_FS.append(y2)  \n",
    "y3=100*n1/total1\n",
    "y_FS.append(y3)\n",
    "y4=100*m1/total1\n",
    "y_FS.append(y4)\n",
    "y5=100*l1/total1\n",
    "y_FS.append(y5)\n",
    "y6=100*k1/total1\n",
    "y_FS.append(y6)\n",
    "y7=100*j1/total1\n",
    "y_FS.append(y7)\n",
    "y8=100*i1/total1\n",
    "y_FS.append(y8)\n",
    "y9=100*h1/total1\n",
    "y_FS.append(y9)\n",
    "y10=100*g1/total1\n",
    "y_FS.append(y10)\n",
    "y11=100*f1/total1\n",
    "y_FS.append(y11)\n",
    "y12=100*e1/total1\n",
    "y_FS.append(y12)\n",
    "y13=100*d1/total1\n",
    "y_FS.append(y13)\n",
    "y14=100*c1/total1\n",
    "y_FS.append(y14)\n",
    "y15=100*b1/total1\n",
    "y_FS.append(y15)\n",
    "y16=100*a1/total1\n",
    "y_FS.append(y16)\n",
    "\n",
    "y_FS = list(cumsum(y_FS))\n"
   ]
  },
  {
   "cell_type": "code",
   "execution_count": 110,
   "metadata": {},
   "outputs": [
    {
     "data": {
      "text/plain": [
       "Text(50.0, 30.0, 'AUC=77.6%')"
      ]
     },
     "execution_count": 110,
     "metadata": {},
     "output_type": "execute_result"
    },
    {
     "data": {
      "image/png": "[encoded data removed]",
      "text/plain": [
       "<Figure size 432x288 with 1 Axes>"
      ]
     },
     "metadata": {
      "needs_background": "light"
     },
     "output_type": "display_data"
    }
   ],
   "source": [
    "#Se importa la libreria de sklearn para calcular el área bajo la curva y matplotlib para graficar\n",
    "from sklearn.metrics import auc\n",
    "import matplotlib.pyplot as plt\n",
    "%matplotlib inline\n",
    "\n",
    "#fig, ax1=plt.subplots(figsize=(7,5))\n",
    "plt.plot(y_FS, x_FS, linestyle='-', linewidth=1.5, color='black', label='Curva ROC')\n",
    "plt.xlabel(\"FPR\", fontsize=22)\n",
    "plt.ylabel(\"TPR\", fontsize=22)\n",
    "\n",
    "ax1.set_ylim(0, max(x_FS))\n",
    "ax1.set_xlim(0, max(y_FS))\n",
    "plt.yticks(np.arange(0,max(y_FS)+1,max(y_FS)/5.))\n",
    "plt.xticks(np.arange(0,max(x_FS)+1,max(x_FS)/5.))\n",
    "ax1.tick_params('y', colors='k', labelsize= 20, length=2)\n",
    "ax1.tick_params('x', colors='k', labelsize= 20, length=2)\n",
    "fig.tight_layout()\n",
    "plt.grid(True)\n",
    "\n",
    "area1=round(float(format(auc(y_FS,x_FS)))/max(x_FS),1)\n",
    "\n",
    "AUC1=str(area1)\n",
    "\n",
    "ax1.annotate('AUC='+AUC1+'%',xy=(0.5*max(x_FS),0.3*max(x_FS)), size=22)"
   ]
  },
  {
   "cell_type": "markdown",
   "metadata": {},
   "source": [
    "### Matriz de Confusión "
   ]
  },
  {
   "cell_type": "raw",
   "metadata": {},
   "source": [
    "Para construir la Matriz de Confusión del caso anterior se reclasifica el mapa del factor de seguridad y el mapa del inventario con valores que luego permitan multiplicar ambos y obtener valores uúnicos que correspondan a las diferentes clases de la Matriz de Confusión."
   ]
  },
  {
   "cell_type": "code",
   "execution_count": 5,
   "metadata": {},
   "outputs": [
    {
     "name": "stderr",
     "output_type": "stream",
     "text": [
      "C:\\Users\\Edier\\Anaconda3\\envs\\edier\\lib\\site-packages\\ipykernel_launcher.py:3: RuntimeWarning: invalid value encountered in less_equal\n",
      "  This is separate from the ipykernel package so we can avoid doing imports until\n",
      "C:\\Users\\Edier\\Anaconda3\\envs\\edier\\lib\\site-packages\\ipykernel_launcher.py:4: RuntimeWarning: invalid value encountered in greater\n",
      "  after removing the cwd from sys.path.\n"
     ]
    }
   ],
   "source": [
    "#Generar matriz de confusion \n",
    "FS_hazard=np.where(FS_hazard==-9999,np.nan,FS_hazard)\n",
    "FS_hazard_r=np.where(FS_hazard<=1,3,FS_hazard) #3: celdas estables para el modelo\n",
    "FS_hazard_re=np.where(FS_hazard>1,4,FS_hazard_r) # 4: Celdas indestables para el modelo\n",
    "inv_raster_r=np.where(inv_raster==5,2,inv_raster) #2: celdas con MenM en el inventario\n",
    "inv_raster_re=np.where(inv_raster==0,1,inv_raster_r) #1: Celdas sin MenM en el inventario\n",
    "\n",
    "matconf=FS_hazard_re*inv_raster_re\n",
    "\n",
    "a=np.count_nonzero(matconf == 3) # Falsos positivos= celdas sin MenM y con FS>1\n",
    "b=np.count_nonzero(matconf == 4) # Verdaderos negativos= celdas sin MenM y con FS<1\n",
    "c=np.count_nonzero(matconf == 6) # Falsos negativos= celdas con MenM y con FS<1\n",
    "d=np.count_nonzero(matconf == 8) # Verdaderos Positivos= celdas con MenM y con FS>1\n",
    "confmat=np.array([[d,a],[c,b]])\n",
    "\n"
   ]
  },
  {
   "cell_type": "raw",
   "metadata": {},
   "source": [
    "La Matriz de Confusión se puede graficar con la librería de seaborn."
   ]
  },
  {
   "cell_type": "code",
   "execution_count": 7,
   "metadata": {},
   "outputs": [
    {
     "data": {
      "application/javascript": [
       "/* Put everything inside the global mpl namespace */\n",
       "window.mpl = {};\n",
       "\n",
       "\n",
       "mpl.get_websocket_type = function() {\n",
       "    if (typeof(WebSocket) !== 'undefined') {\n",
       "        return WebSocket;\n",
       "    } else if (typeof(MozWebSocket) !== 'undefined') {\n",
       "        return MozWebSocket;\n",
       "    } else {\n",
       "        alert('Your browser does not have WebSocket support.' +\n",
       "              'Please try Chrome, Safari or Firefox ≥ 6. ' +\n",
       "              'Firefox 4 and 5 are also supported but you ' +\n",
       "              'have to enable WebSockets in about:config.');\n",
       "    };\n",
       "}\n",
       "\n",
       "mpl.figure = function(figure_id, websocket, ondownload, parent_element) {\n",
       "    this.id = figure_id;\n",
       "\n",
       "    this.ws = websocket;\n",
       "\n",
       "    this.supports_binary = (this.ws.binaryType != undefined);\n",
       "\n",
       "    if (!this.supports_binary) {\n",
       "        var warnings = document.getElementById(\"mpl-warnings\");\n",
       "        if (warnings) {\n",
       "            warnings.style.display = 'block';\n",
       "            warnings.textContent = (\n",
       "                \"This browser does not support binary websocket messages. \" +\n",
       "                    \"Performance may be slow.\");\n",
       "        }\n",
       "    }\n",
       "\n",
       "    this.imageObj = new Image();\n",
       "\n",
       "    this.context = undefined;\n",
       "    this.message = undefined;\n",
       "    this.canvas = undefined;\n",
       "    this.rubberband_canvas = undefined;\n",
       "    this.rubberband_context = undefined;\n",
       "    this.format_dropdown = undefined;\n",
       "\n",
       "    this.image_mode = 'full';\n",
       "\n",
       "    this.root = $('<div/>');\n",
       "    this._root_extra_style(this.root)\n",
       "    this.root.attr('style', 'display: inline-block');\n",
       "\n",
       "    $(parent_element).append(this.root);\n",
       "\n",
       "    this._init_header(this);\n",
       "    this._init_canvas(this);\n",
       "    this._init_toolbar(this);\n",
       "\n",
       "    var fig = this;\n",
       "\n",
       "    this.waiting = false;\n",
       "\n",
       "    this.ws.onopen =  function () {\n",
       "            fig.send_message(\"supports_binary\", {value: fig.supports_binary});\n",
       "            fig.send_message(\"send_image_mode\", {});\n",
       "            if (mpl.ratio != 1) {\n",
       "                fig.send_message(\"set_dpi_ratio\", {'dpi_ratio': mpl.ratio});\n",
       "            }\n",
       "            fig.send_message(\"refresh\", {});\n",
       "        }\n",
       "\n",
       "    this.imageObj.onload = function() {\n",
       "            if (fig.image_mode == 'full') {\n",
       "                // Full images could contain transparency (where diff images\n",
       "                // almost always do), so we need to clear the canvas so that\n",
       "                // there is no ghosting.\n",
       "                fig.context.clearRect(0, 0, fig.canvas.width, fig.canvas.height);\n",
       "            }\n",
       "            fig.context.drawImage(fig.imageObj, 0, 0);\n",
       "        };\n",
       "\n",
       "    this.imageObj.onunload = function() {\n",
       "        fig.ws.close();\n",
       "    }\n",
       "\n",
       "    this.ws.onmessage = this._make_on_message_function(this);\n",
       "\n",
       "    this.ondownload = ondownload;\n",
       "}\n",
       "\n",
       "mpl.figure.prototype._init_header = function() {\n",
       "    var titlebar = $(\n",
       "        '<div class=\"ui-dialog-titlebar ui-widget-header ui-corner-all ' +\n",
       "        'ui-helper-clearfix\"/>');\n",
       "    var titletext = $(\n",
       "        '<div class=\"ui-dialog-title\" style=\"width: 100%; ' +\n",
       "        'text-align: center; padding: 3px;\"/>');\n",
       "    titlebar.append(titletext)\n",
       "    this.root.append(titlebar);\n",
       "    this.header = titletext[0];\n",
       "}\n",
       "\n",
       "\n",
       "\n",
       "mpl.figure.prototype._canvas_extra_style = function(canvas_div) {\n",
       "\n",
       "}\n",
       "\n",
       "\n",
       "mpl.figure.prototype._root_extra_style = function(canvas_div) {\n",
       "\n",
       "}\n",
       "\n",
       "mpl.figure.prototype._init_canvas = function() {\n",
       "    var fig = this;\n",
       "\n",
       "    var canvas_div = $('<div/>');\n",
       "\n",
       "    canvas_div.attr('style', 'position: relative; clear: both; outline: 0');\n",
       "\n",
       "    function canvas_keyboard_event(event) {\n",
       "        return fig.key_event(event, event['data']);\n",
       "    }\n",
       "\n",
       "    canvas_div.keydown('key_press', canvas_keyboard_event);\n",
       "    canvas_div.keyup('key_release', canvas_keyboard_event);\n",
       "    this.canvas_div = canvas_div\n",
       "    this._canvas_extra_style(canvas_div)\n",
       "    this.root.append(canvas_div);\n",
       "\n",
       "    var canvas = $('<canvas/>');\n",
       "    canvas.addClass('mpl-canvas');\n",
       "    canvas.attr('style', \"left: 0; top: 0; z-index: 0; outline: 0\")\n",
       "\n",
       "    this.canvas = canvas[0];\n",
       "    this.context = canvas[0].getContext(\"2d\");\n",
       "\n",
       "    var backingStore = this.context.backingStorePixelRatio ||\n",
       "\tthis.context.webkitBackingStorePixelRatio ||\n",
       "\tthis.context.mozBackingStorePixelRatio ||\n",
       "\tthis.context.msBackingStorePixelRatio ||\n",
       "\tthis.context.oBackingStorePixelRatio ||\n",
       "\tthis.context.backingStorePixelRatio || 1;\n",
       "\n",
       "    mpl.ratio = (window.devicePixelRatio || 1) / backingStore;\n",
       "\n",
       "    var rubberband = $('<canvas/>');\n",
       "    rubberband.attr('style', \"position: absolute; left: 0; top: 0; z-index: 1;\")\n",
       "\n",
       "    var pass_mouse_events = true;\n",
       "\n",
       "    canvas_div.resizable({\n",
       "        start: function(event, ui) {\n",
       "            pass_mouse_events = false;\n",
       "        },\n",
       "        resize: function(event, ui) {\n",
       "            fig.request_resize(ui.size.width, ui.size.height);\n",
       "        },\n",
       "        stop: function(event, ui) {\n",
       "            pass_mouse_events = true;\n",
       "            fig.request_resize(ui.size.width, ui.size.height);\n",
       "        },\n",
       "    });\n",
       "\n",
       "    function mouse_event_fn(event) {\n",
       "        if (pass_mouse_events)\n",
       "            return fig.mouse_event(event, event['data']);\n",
       "    }\n",
       "\n",
       "    rubberband.mousedown('button_press', mouse_event_fn);\n",
       "    rubberband.mouseup('button_release', mouse_event_fn);\n",
       "    // Throttle sequential mouse events to 1 every 20ms.\n",
       "    rubberband.mousemove('motion_notify', mouse_event_fn);\n",
       "\n",
       "    rubberband.mouseenter('figure_enter', mouse_event_fn);\n",
       "    rubberband.mouseleave('figure_leave', mouse_event_fn);\n",
       "\n",
       "    canvas_div.on(\"wheel\", function (event) {\n",
       "        event = event.originalEvent;\n",
       "        event['data'] = 'scroll'\n",
       "        if (event.deltaY < 0) {\n",
       "            event.step = 1;\n",
       "        } else {\n",
       "            event.step = -1;\n",
       "        }\n",
       "        mouse_event_fn(event);\n",
       "    });\n",
       "\n",
       "    canvas_div.append(canvas);\n",
       "    canvas_div.append(rubberband);\n",
       "\n",
       "    this.rubberband = rubberband;\n",
       "    this.rubberband_canvas = rubberband[0];\n",
       "    this.rubberband_context = rubberband[0].getContext(\"2d\");\n",
       "    this.rubberband_context.strokeStyle = \"#000000\";\n",
       "\n",
       "    this._resize_canvas = function(width, height) {\n",
       "        // Keep the size of the canvas, canvas container, and rubber band\n",
       "        // canvas in synch.\n",
       "        canvas_div.css('width', width)\n",
       "        canvas_div.css('height', height)\n",
       "\n",
       "        canvas.attr('width', width * mpl.ratio);\n",
       "        canvas.attr('height', height * mpl.ratio);\n",
       "        canvas.attr('style', 'width: ' + width + 'px; height: ' + height + 'px;');\n",
       "\n",
       "        rubberband.attr('width', width);\n",
       "        rubberband.attr('height', height);\n",
       "    }\n",
       "\n",
       "    // Set the figure to an initial 600x600px, this will subsequently be updated\n",
       "    // upon first draw.\n",
       "    this._resize_canvas(600, 600);\n",
       "\n",
       "    // Disable right mouse context menu.\n",
       "    $(this.rubberband_canvas).bind(\"contextmenu\",function(e){\n",
       "        return false;\n",
       "    });\n",
       "\n",
       "    function set_focus () {\n",
       "        canvas.focus();\n",
       "        canvas_div.focus();\n",
       "    }\n",
       "\n",
       "    window.setTimeout(set_focus, 100);\n",
       "}\n",
       "\n",
       "mpl.figure.prototype._init_toolbar = function() {\n",
       "    var fig = this;\n",
       "\n",
       "    var nav_element = $('<div/>')\n",
       "    nav_element.attr('style', 'width: 100%');\n",
       "    this.root.append(nav_element);\n",
       "\n",
       "    // Define a callback function for later on.\n",
       "    function toolbar_event(event) {\n",
       "        return fig.toolbar_button_onclick(event['data']);\n",
       "    }\n",
       "    function toolbar_mouse_event(event) {\n",
       "        return fig.toolbar_button_onmouseover(event['data']);\n",
       "    }\n",
       "\n",
       "    for(var toolbar_ind in mpl.toolbar_items) {\n",
       "        var name = mpl.toolbar_items[toolbar_ind][0];\n",
       "        var tooltip = mpl.toolbar_items[toolbar_ind][1];\n",
       "        var image = mpl.toolbar_items[toolbar_ind][2];\n",
       "        var method_name = mpl.toolbar_items[toolbar_ind][3];\n",
       "\n",
       "        if (!name) {\n",
       "            // put a spacer in here.\n",
       "            continue;\n",
       "        }\n",
       "        var button = $('<button/>');\n",
       "        button.addClass('ui-button ui-widget ui-state-default ui-corner-all ' +\n",
       "                        'ui-button-icon-only');\n",
       "        button.attr('role', 'button');\n",
       "        button.attr('aria-disabled', 'false');\n",
       "        button.click(method_name, toolbar_event);\n",
       "        button.mouseover(tooltip, toolbar_mouse_event);\n",
       "\n",
       "        var icon_img = $('<span/>');\n",
       "        icon_img.addClass('ui-button-icon-primary ui-icon');\n",
       "        icon_img.addClass(image);\n",
       "        icon_img.addClass('ui-corner-all');\n",
       "\n",
       "        var tooltip_span = $('<span/>');\n",
       "        tooltip_span.addClass('ui-button-text');\n",
       "        tooltip_span.html(tooltip);\n",
       "\n",
       "        button.append(icon_img);\n",
       "        button.append(tooltip_span);\n",
       "\n",
       "        nav_element.append(button);\n",
       "    }\n",
       "\n",
       "    var fmt_picker_span = $('<span/>');\n",
       "\n",
       "    var fmt_picker = $('<select/>');\n",
       "    fmt_picker.addClass('mpl-toolbar-option ui-widget ui-widget-content');\n",
       "    fmt_picker_span.append(fmt_picker);\n",
       "    nav_element.append(fmt_picker_span);\n",
       "    this.format_dropdown = fmt_picker[0];\n",
       "\n",
       "    for (var ind in mpl.extensions) {\n",
       "        var fmt = mpl.extensions[ind];\n",
       "        var option = $(\n",
       "            '<option/>', {selected: fmt === mpl.default_extension}).html(fmt);\n",
       "        fmt_picker.append(option)\n",
       "    }\n",
       "\n",
       "    // Add hover states to the ui-buttons\n",
       "    $( \".ui-button\" ).hover(\n",
       "        function() { $(this).addClass(\"ui-state-hover\");},\n",
       "        function() { $(this).removeClass(\"ui-state-hover\");}\n",
       "    );\n",
       "\n",
       "    var status_bar = $('<span class=\"mpl-message\"/>');\n",
       "    nav_element.append(status_bar);\n",
       "    this.message = status_bar[0];\n",
       "}\n",
       "\n",
       "mpl.figure.prototype.request_resize = function(x_pixels, y_pixels) {\n",
       "    // Request matplotlib to resize the figure. Matplotlib will then trigger a resize in the client,\n",
       "    // which will in turn request a refresh of the image.\n",
       "    this.send_message('resize', {'width': x_pixels, 'height': y_pixels});\n",
       "}\n",
       "\n",
       "mpl.figure.prototype.send_message = function(type, properties) {\n",
       "    properties['type'] = type;\n",
       "    properties['figure_id'] = this.id;\n",
       "    this.ws.send(JSON.stringify(properties));\n",
       "}\n",
       "\n",
       "mpl.figure.prototype.send_draw_message = function() {\n",
       "    if (!this.waiting) {\n",
       "        this.waiting = true;\n",
       "        this.ws.send(JSON.stringify({type: \"draw\", figure_id: this.id}));\n",
       "    }\n",
       "}\n",
       "\n",
       "\n",
       "mpl.figure.prototype.handle_save = function(fig, msg) {\n",
       "    var format_dropdown = fig.format_dropdown;\n",
       "    var format = format_dropdown.options[format_dropdown.selectedIndex].value;\n",
       "    fig.ondownload(fig, format);\n",
       "}\n",
       "\n",
       "\n",
       "mpl.figure.prototype.handle_resize = function(fig, msg) {\n",
       "    var size = msg['size'];\n",
       "    if (size[0] != fig.canvas.width || size[1] != fig.canvas.height) {\n",
       "        fig._resize_canvas(size[0], size[1]);\n",
       "        fig.send_message(\"refresh\", {});\n",
       "    };\n",
       "}\n",
       "\n",
       "mpl.figure.prototype.handle_rubberband = function(fig, msg) {\n",
       "    var x0 = msg['x0'] / mpl.ratio;\n",
       "    var y0 = (fig.canvas.height - msg['y0']) / mpl.ratio;\n",
       "    var x1 = msg['x1'] / mpl.ratio;\n",
       "    var y1 = (fig.canvas.height - msg['y1']) / mpl.ratio;\n",
       "    x0 = Math.floor(x0) + 0.5;\n",
       "    y0 = Math.floor(y0) + 0.5;\n",
       "    x1 = Math.floor(x1) + 0.5;\n",
       "    y1 = Math.floor(y1) + 0.5;\n",
       "    var min_x = Math.min(x0, x1);\n",
       "    var min_y = Math.min(y0, y1);\n",
       "    var width = Math.abs(x1 - x0);\n",
       "    var height = Math.abs(y1 - y0);\n",
       "\n",
       "    fig.rubberband_context.clearRect(\n",
       "        0, 0, fig.canvas.width, fig.canvas.height);\n",
       "\n",
       "    fig.rubberband_context.strokeRect(min_x, min_y, width, height);\n",
       "}\n",
       "\n",
       "mpl.figure.prototype.handle_figure_label = function(fig, msg) {\n",
       "    // Updates the figure title.\n",
       "    fig.header.textContent = msg['label'];\n",
       "}\n",
       "\n",
       "mpl.figure.prototype.handle_cursor = function(fig, msg) {\n",
       "    var cursor = msg['cursor'];\n",
       "    switch(cursor)\n",
       "    {\n",
       "    case 0:\n",
       "        cursor = 'pointer';\n",
       "        break;\n",
       "    case 1:\n",
       "        cursor = 'default';\n",
       "        break;\n",
       "    case 2:\n",
       "        cursor = 'crosshair';\n",
       "        break;\n",
       "    case 3:\n",
       "        cursor = 'move';\n",
       "        break;\n",
       "    }\n",
       "    fig.rubberband_canvas.style.cursor = cursor;\n",
       "}\n",
       "\n",
       "mpl.figure.prototype.handle_message = function(fig, msg) {\n",
       "    fig.message.textContent = msg['message'];\n",
       "}\n",
       "\n",
       "mpl.figure.prototype.handle_draw = function(fig, msg) {\n",
       "    // Request the server to send over a new figure.\n",
       "    fig.send_draw_message();\n",
       "}\n",
       "\n",
       "mpl.figure.prototype.handle_image_mode = function(fig, msg) {\n",
       "    fig.image_mode = msg['mode'];\n",
       "}\n",
       "\n",
       "mpl.figure.prototype.updated_canvas_event = function() {\n",
       "    // Called whenever the canvas gets updated.\n",
       "    this.send_message(\"ack\", {});\n",
       "}\n",
       "\n",
       "// A function to construct a web socket function for onmessage handling.\n",
       "// Called in the figure constructor.\n",
       "mpl.figure.prototype._make_on_message_function = function(fig) {\n",
       "    return function socket_on_message(evt) {\n",
       "        if (evt.data instanceof Blob) {\n",
       "            /* FIXME: We get \"Resource interpreted as Image but\n",
       "             * transferred with MIME type text/plain:\" errors on\n",
       "             * Chrome.  But how to set the MIME type?  It doesn't seem\n",
       "             * to be part of the websocket stream */\n",
       "            evt.data.type = \"image/png\";\n",
       "\n",
       "            /* Free the memory for the previous frames */\n",
       "            if (fig.imageObj.src) {\n",
       "                (window.URL || window.webkitURL).revokeObjectURL(\n",
       "                    fig.imageObj.src);\n",
       "            }\n",
       "\n",
       "            fig.imageObj.src = (window.URL || window.webkitURL).createObjectURL(\n",
       "                evt.data);\n",
       "            fig.updated_canvas_event();\n",
       "            fig.waiting = false;\n",
       "            return;\n",
       "        }\n",
       "        else if (typeof evt.data === 'string' && evt.data.slice(0, 21) == \"data:image/png;base64\") {\n",
       "            fig.imageObj.src = evt.data;\n",
       "            fig.updated_canvas_event();\n",
       "            fig.waiting = false;\n",
       "            return;\n",
       "        }\n",
       "\n",
       "        var msg = JSON.parse(evt.data);\n",
       "        var msg_type = msg['type'];\n",
       "\n",
       "        // Call the  \"handle_{type}\" callback, which takes\n",
       "        // the figure and JSON message as its only arguments.\n",
       "        try {\n",
       "            var callback = fig[\"handle_\" + msg_type];\n",
       "        } catch (e) {\n",
       "            console.log(\"No handler for the '\" + msg_type + \"' message type: \", msg);\n",
       "            return;\n",
       "        }\n",
       "\n",
       "        if (callback) {\n",
       "            try {\n",
       "                // console.log(\"Handling '\" + msg_type + \"' message: \", msg);\n",
       "                callback(fig, msg);\n",
       "            } catch (e) {\n",
       "                console.log(\"Exception inside the 'handler_\" + msg_type + \"' callback:\", e, e.stack, msg);\n",
       "            }\n",
       "        }\n",
       "    };\n",
       "}\n",
       "\n",
       "// from http://stackoverflow.com/questions/1114465/getting-mouse-location-in-canvas\n",
       "mpl.findpos = function(e) {\n",
       "    //this section is from http://www.quirksmode.org/js/events_properties.html\n",
       "    var targ;\n",
       "    if (!e)\n",
       "        e = window.event;\n",
       "    if (e.target)\n",
       "        targ = e.target;\n",
       "    else if (e.srcElement)\n",
       "        targ = e.srcElement;\n",
       "    if (targ.nodeType == 3) // defeat Safari bug\n",
       "        targ = targ.parentNode;\n",
       "\n",
       "    // jQuery normalizes the pageX and pageY\n",
       "    // pageX,Y are the mouse positions relative to the document\n",
       "    // offset() returns the position of the element relative to the document\n",
       "    var x = e.pageX - $(targ).offset().left;\n",
       "    var y = e.pageY - $(targ).offset().top;\n",
       "\n",
       "    return {\"x\": x, \"y\": y};\n",
       "};\n",
       "\n",
       "/*\n",
       " * return a copy of an object with only non-object keys\n",
       " * we need this to avoid circular references\n",
       " * http://stackoverflow.com/a/24161582/3208463\n",
       " */\n",
       "function simpleKeys (original) {\n",
       "  return Object.keys(original).reduce(function (obj, key) {\n",
       "    if (typeof original[key] !== 'object')\n",
       "        obj[key] = original[key]\n",
       "    return obj;\n",
       "  }, {});\n",
       "}\n",
       "\n",
       "mpl.figure.prototype.mouse_event = function(event, name) {\n",
       "    var canvas_pos = mpl.findpos(event)\n",
       "\n",
       "    if (name === 'button_press')\n",
       "    {\n",
       "        this.canvas.focus();\n",
       "        this.canvas_div.focus();\n",
       "    }\n",
       "\n",
       "    var x = canvas_pos.x * mpl.ratio;\n",
       "    var y = canvas_pos.y * mpl.ratio;\n",
       "\n",
       "    this.send_message(name, {x: x, y: y, button: event.button,\n",
       "                             step: event.step,\n",
       "                             guiEvent: simpleKeys(event)});\n",
       "\n",
       "    /* This prevents the web browser from automatically changing to\n",
       "     * the text insertion cursor when the button is pressed.  We want\n",
       "     * to control all of the cursor setting manually through the\n",
       "     * 'cursor' event from matplotlib */\n",
       "    event.preventDefault();\n",
       "    return false;\n",
       "}\n",
       "\n",
       "mpl.figure.prototype._key_event_extra = function(event, name) {\n",
       "    // Handle any extra behaviour associated with a key event\n",
       "}\n",
       "\n",
       "mpl.figure.prototype.key_event = function(event, name) {\n",
       "\n",
       "    // Prevent repeat events\n",
       "    if (name == 'key_press')\n",
       "    {\n",
       "        if (event.which === this._key)\n",
       "            return;\n",
       "        else\n",
       "            this._key = event.which;\n",
       "    }\n",
       "    if (name == 'key_release')\n",
       "        this._key = null;\n",
       "\n",
       "    var value = '';\n",
       "    if (event.ctrlKey && event.which != 17)\n",
       "        value += \"ctrl+\";\n",
       "    if (event.altKey && event.which != 18)\n",
       "        value += \"alt+\";\n",
       "    if (event.shiftKey && event.which != 16)\n",
       "        value += \"shift+\";\n",
       "\n",
       "    value += 'k';\n",
       "    value += event.which.toString();\n",
       "\n",
       "    this._key_event_extra(event, name);\n",
       "\n",
       "    this.send_message(name, {key: value,\n",
       "                             guiEvent: simpleKeys(event)});\n",
       "    return false;\n",
       "}\n",
       "\n",
       "mpl.figure.prototype.toolbar_button_onclick = function(name) {\n",
       "    if (name == 'download') {\n",
       "        this.handle_save(this, null);\n",
       "    } else {\n",
       "        this.send_message(\"toolbar_button\", {name: name});\n",
       "    }\n",
       "};\n",
       "\n",
       "mpl.figure.prototype.toolbar_button_onmouseover = function(tooltip) {\n",
       "    this.message.textContent = tooltip;\n",
       "};\n",
       "mpl.toolbar_items = [[\"Home\", \"Reset original view\", \"fa fa-home icon-home\", \"home\"], [\"Back\", \"Back to previous view\", \"fa fa-arrow-left icon-arrow-left\", \"back\"], [\"Forward\", \"Forward to next view\", \"fa fa-arrow-right icon-arrow-right\", \"forward\"], [\"\", \"\", \"\", \"\"], [\"Pan\", \"Pan axes with left mouse, zoom with right\", \"fa fa-arrows icon-move\", \"pan\"], [\"Zoom\", \"Zoom to rectangle\", \"fa fa-square-o icon-check-empty\", \"zoom\"], [\"\", \"\", \"\", \"\"], [\"Download\", \"Download plot\", \"fa fa-floppy-o icon-save\", \"download\"]];\n",
       "\n",
       "mpl.extensions = [\"eps\", \"pdf\", \"png\", \"ps\", \"raw\", \"svg\"];\n",
       "\n",
       "mpl.default_extension = \"png\";var comm_websocket_adapter = function(comm) {\n",
       "    // Create a \"websocket\"-like object which calls the given IPython comm\n",
       "    // object with the appropriate methods. Currently this is a non binary\n",
       "    // socket, so there is still some room for performance tuning.\n",
       "    var ws = {};\n",
       "\n",
       "    ws.close = function() {\n",
       "        comm.close()\n",
       "    };\n",
       "    ws.send = function(m) {\n",
       "        //console.log('sending', m);\n",
       "        comm.send(m);\n",
       "    };\n",
       "    // Register the callback with on_msg.\n",
       "    comm.on_msg(function(msg) {\n",
       "        //console.log('receiving', msg['content']['data'], msg);\n",
       "        // Pass the mpl event to the overridden (by mpl) onmessage function.\n",
       "        ws.onmessage(msg['content']['data'])\n",
       "    });\n",
       "    return ws;\n",
       "}\n",
       "\n",
       "mpl.mpl_figure_comm = function(comm, msg) {\n",
       "    // This is the function which gets called when the mpl process\n",
       "    // starts-up an IPython Comm through the \"matplotlib\" channel.\n",
       "\n",
       "    var id = msg.content.data.id;\n",
       "    // Get hold of the div created by the display call when the Comm\n",
       "    // socket was opened in Python.\n",
       "    var element = $(\"#\" + id);\n",
       "    var ws_proxy = comm_websocket_adapter(comm)\n",
       "\n",
       "    function ondownload(figure, format) {\n",
       "        window.open(figure.imageObj.src);\n",
       "    }\n",
       "\n",
       "    var fig = new mpl.figure(id, ws_proxy,\n",
       "                           ondownload,\n",
       "                           element.get(0));\n",
       "\n",
       "    // Call onopen now - mpl needs it, as it is assuming we've passed it a real\n",
       "    // web socket which is closed, not our websocket->open comm proxy.\n",
       "    ws_proxy.onopen();\n",
       "\n",
       "    fig.parent_element = element.get(0);\n",
       "    fig.cell_info = mpl.find_output_cell(\"<div id='\" + id + \"'></div>\");\n",
       "    if (!fig.cell_info) {\n",
       "        console.error(\"Failed to find cell for figure\", id, fig);\n",
       "        return;\n",
       "    }\n",
       "\n",
       "    var output_index = fig.cell_info[2]\n",
       "    var cell = fig.cell_info[0];\n",
       "\n",
       "};\n",
       "\n",
       "mpl.figure.prototype.handle_close = function(fig, msg) {\n",
       "    var width = fig.canvas.width/mpl.ratio\n",
       "    fig.root.unbind('remove')\n",
       "\n",
       "    // Update the output cell to use the data from the current canvas.\n",
       "    fig.push_to_output();\n",
       "    var dataURL = fig.canvas.toDataURL();\n",
       "    // Re-enable the keyboard manager in IPython - without this line, in FF,\n",
       "    // the notebook keyboard shortcuts fail.\n",
       "    IPython.keyboard_manager.enable()\n",
       "    $(fig.parent_element).html('<img src=\"' + dataURL + '\" width=\"' + width + '\">');\n",
       "    fig.close_ws(fig, msg);\n",
       "}\n",
       "\n",
       "mpl.figure.prototype.close_ws = function(fig, msg){\n",
       "    fig.send_message('closing', msg);\n",
       "    // fig.ws.close()\n",
       "}\n",
       "\n",
       "mpl.figure.prototype.push_to_output = function(remove_interactive) {\n",
       "    // Turn the data on the canvas into data in the output cell.\n",
       "    var width = this.canvas.width/mpl.ratio\n",
       "    var dataURL = this.canvas.toDataURL();\n",
       "    this.cell_info[1]['text/html'] = '<img src=\"' + dataURL + '\" width=\"' + width + '\">';\n",
       "}\n",
       "\n",
       "mpl.figure.prototype.updated_canvas_event = function() {\n",
       "    // Tell IPython that the notebook contents must change.\n",
       "    IPython.notebook.set_dirty(true);\n",
       "    this.send_message(\"ack\", {});\n",
       "    var fig = this;\n",
       "    // Wait a second, then push the new image to the DOM so\n",
       "    // that it is saved nicely (might be nice to debounce this).\n",
       "    setTimeout(function () { fig.push_to_output() }, 1000);\n",
       "}\n",
       "\n",
       "mpl.figure.prototype._init_toolbar = function() {\n",
       "    var fig = this;\n",
       "\n",
       "    var nav_element = $('<div/>')\n",
       "    nav_element.attr('style', 'width: 100%');\n",
       "    this.root.append(nav_element);\n",
       "\n",
       "    // Define a callback function for later on.\n",
       "    function toolbar_event(event) {\n",
       "        return fig.toolbar_button_onclick(event['data']);\n",
       "    }\n",
       "    function toolbar_mouse_event(event) {\n",
       "        return fig.toolbar_button_onmouseover(event['data']);\n",
       "    }\n",
       "\n",
       "    for(var toolbar_ind in mpl.toolbar_items){\n",
       "        var name = mpl.toolbar_items[toolbar_ind][0];\n",
       "        var tooltip = mpl.toolbar_items[toolbar_ind][1];\n",
       "        var image = mpl.toolbar_items[toolbar_ind][2];\n",
       "        var method_name = mpl.toolbar_items[toolbar_ind][3];\n",
       "\n",
       "        if (!name) { continue; };\n",
       "\n",
       "        var button = $('<button class=\"btn btn-default\" href=\"#\" title=\"' + name + '\"><i class=\"fa ' + image + ' fa-lg\"></i></button>');\n",
       "        button.click(method_name, toolbar_event);\n",
       "        button.mouseover(tooltip, toolbar_mouse_event);\n",
       "        nav_element.append(button);\n",
       "    }\n",
       "\n",
       "    // Add the status bar.\n",
       "    var status_bar = $('<span class=\"mpl-message\" style=\"text-align:right; float: right;\"/>');\n",
       "    nav_element.append(status_bar);\n",
       "    this.message = status_bar[0];\n",
       "\n",
       "    // Add the close button to the window.\n",
       "    var buttongrp = $('<div class=\"btn-group inline pull-right\"></div>');\n",
       "    var button = $('<button class=\"btn btn-mini btn-primary\" href=\"#\" title=\"Stop Interaction\"><i class=\"fa fa-power-off icon-remove icon-large\"></i></button>');\n",
       "    button.click(function (evt) { fig.handle_close(fig, {}); } );\n",
       "    button.mouseover('Stop Interaction', toolbar_mouse_event);\n",
       "    buttongrp.append(button);\n",
       "    var titlebar = this.root.find($('.ui-dialog-titlebar'));\n",
       "    titlebar.prepend(buttongrp);\n",
       "}\n",
       "\n",
       "mpl.figure.prototype._root_extra_style = function(el){\n",
       "    var fig = this\n",
       "    el.on(\"remove\", function(){\n",
       "\tfig.close_ws(fig, {});\n",
       "    });\n",
       "}\n",
       "\n",
       "mpl.figure.prototype._canvas_extra_style = function(el){\n",
       "    // this is important to make the div 'focusable\n",
       "    el.attr('tabindex', 0)\n",
       "    // reach out to IPython and tell the keyboard manager to turn it's self\n",
       "    // off when our div gets focus\n",
       "\n",
       "    // location in version 3\n",
       "    if (IPython.notebook.keyboard_manager) {\n",
       "        IPython.notebook.keyboard_manager.register_events(el);\n",
       "    }\n",
       "    else {\n",
       "        // location in version 2\n",
       "        IPython.keyboard_manager.register_events(el);\n",
       "    }\n",
       "\n",
       "}\n",
       "\n",
       "mpl.figure.prototype._key_event_extra = function(event, name) {\n",
       "    var manager = IPython.notebook.keyboard_manager;\n",
       "    if (!manager)\n",
       "        manager = IPython.keyboard_manager;\n",
       "\n",
       "    // Check for shift+enter\n",
       "    if (event.shiftKey && event.which == 13) {\n",
       "        this.canvas_div.blur();\n",
       "        event.shiftKey = false;\n",
       "        // Send a \"J\" for go to next cell\n",
       "        event.which = 74;\n",
       "        event.keyCode = 74;\n",
       "        manager.command_mode();\n",
       "        manager.handle_keydown(event);\n",
       "    }\n",
       "}\n",
       "\n",
       "mpl.figure.prototype.handle_save = function(fig, msg) {\n",
       "    fig.ondownload(fig, null);\n",
       "}\n",
       "\n",
       "\n",
       "mpl.find_output_cell = function(html_output) {\n",
       "    // Return the cell and output element which can be found *uniquely* in the notebook.\n",
       "    // Note - this is a bit hacky, but it is done because the \"notebook_saving.Notebook\"\n",
       "    // IPython event is triggered only after the cells have been serialised, which for\n",
       "    // our purposes (turning an active figure into a static one), is too late.\n",
       "    var cells = IPython.notebook.get_cells();\n",
       "    var ncells = cells.length;\n",
       "    for (var i=0; i<ncells; i++) {\n",
       "        var cell = cells[i];\n",
       "        if (cell.cell_type === 'code'){\n",
       "            for (var j=0; j<cell.output_area.outputs.length; j++) {\n",
       "                var data = cell.output_area.outputs[j];\n",
       "                if (data.data) {\n",
       "                    // IPython >= 3 moved mimebundle to data attribute of output\n",
       "                    data = data.data;\n",
       "                }\n",
       "                if (data['text/html'] == html_output) {\n",
       "                    return [cell, data, j];\n",
       "                }\n",
       "            }\n",
       "        }\n",
       "    }\n",
       "}\n",
       "\n",
       "// Register the function which deals with the matplotlib target/channel.\n",
       "// The kernel may be null if the page has been refreshed.\n",
       "if (IPython.notebook.kernel != null) {\n",
       "    IPython.notebook.kernel.comm_manager.register_target('matplotlib', mpl.mpl_figure_comm);\n",
       "}\n"
      ],
      "text/plain": [
       "<IPython.core.display.Javascript object>"
      ]
     },
     "metadata": {},
     "output_type": "display_data"
    },
    {
     "data": {
      "text/html": [
       "<img src=\"data:image/png;base64,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\" width=\"640\">"
      ],
      "text/plain": [
       "<IPython.core.display.HTML object>"
      ]
     },
     "metadata": {},
     "output_type": "display_data"
    }
   ],
   "source": [
    "import seaborn as sns\n",
    "sns.heatmap(confmat.T, square=True, annot=True, fmt=\"d\",cbar=False, linewidths=.5, cmap=\"YlGnBu\",\n",
    "            xticklabels=['1','0'],\n",
    "            yticklabels=['1','0'])\n",
    "plt.xlabel('Inventario')\n",
    "plt.ylabel('Modelo');"
   ]
  },
  {
   "cell_type": "raw",
   "metadata": {},
   "source": [
    "Elaboró: EDIER V. ARISTIZÁBAL G."
   ]
  }
 ],
 "metadata": {
  "kernelspec": {
   "display_name": "Python 3 (ipykernel)",
   "language": "python",
   "name": "python3"
  },
  "language_info": {
   "codemirror_mode": {
    "name": "ipython",
    "version": 3
   },
   "file_extension": ".py",
   "mimetype": "text/x-python",
   "name": "python",
   "nbconvert_exporter": "python",
   "pygments_lexer": "ipython3",
   "version": "3.9.7"
  },
  "toc": {
   "base_numbering": 1,
   "nav_menu": {},
   "number_sections": true,
   "sideBar": true,
   "skip_h1_title": false,
   "title_cell": "Table of Contents",
   "title_sidebar": "Contents",
   "toc_cell": false,
   "toc_position": {},
   "toc_section_display": true,
   "toc_window_display": false
  }
 },
 "nbformat": 4,
 "nbformat_minor": 4
}
