{
 "cells": [
  {
   "cell_type": "code",
   "execution_count": 1,
   "metadata": {
    "colab": {
     "base_uri": "https://localhost:8080/",
     "height": 54
    },
    "colab_type": "code",
    "executionInfo": {
     "elapsed": 1979,
     "status": "ok",
     "timestamp": 1597281923272,
     "user": {
      "displayName": "Daissy Milenys Herrera Posada",
      "photoUrl": "",
      "userId": "07628404927493375084"
     },
     "user_tz": 300
    },
    "id": "FmcHhNJzW0a0",
    "outputId": "f9518417-6730-45d6-f56c-e77eb3d7cdd1"
   },
   "outputs": [],
   "source": [
    "# from google.colab import drive\n",
    "# drive.mount('/content/drive')"
   ]
  },
  {
   "cell_type": "code",
   "execution_count": 2,
   "metadata": {
    "colab": {
     "base_uri": "https://localhost:8080/",
     "height": 35
    },
    "colab_type": "code",
    "executionInfo": {
     "elapsed": 2898,
     "status": "ok",
     "timestamp": 1597281924215,
     "user": {
      "displayName": "Daissy Milenys Herrera Posada",
      "photoUrl": "",
      "userId": "07628404927493375084"
     },
     "user_tz": 300
    },
    "id": "_9yOMYsccUy0",
    "outputId": "17eff0da-a5fd-4a50-bae0-66e205a799d4"
   },
   "outputs": [],
   "source": [
    "# %pwd"
   ]
  },
  {
   "cell_type": "code",
   "execution_count": 3,
   "metadata": {
    "colab": {},
    "colab_type": "code",
    "executionInfo": {
     "elapsed": 2880,
     "status": "ok",
     "timestamp": 1597281924217,
     "user": {
      "displayName": "Daissy Milenys Herrera Posada",
      "photoUrl": "",
      "userId": "07628404927493375084"
     },
     "user_tz": 300
    },
    "id": "PsOdG4gDcYoZ"
   },
   "outputs": [],
   "source": [
    "# %cd 'drive'"
   ]
  },
  {
   "cell_type": "code",
   "execution_count": 4,
   "metadata": {
    "colab": {
     "base_uri": "https://localhost:8080/",
     "height": 34
    },
    "colab_type": "code",
    "executionInfo": {
     "elapsed": 4126,
     "status": "ok",
     "timestamp": 1597281925486,
     "user": {
      "displayName": "Daissy Milenys Herrera Posada",
      "photoUrl": "",
      "userId": "07628404927493375084"
     },
     "user_tz": 300
    },
    "id": "TIWNt1rW9B3G",
    "outputId": "d298bbb6-6f4b-4e88-bd19-0485cdb8790d"
   },
   "outputs": [],
   "source": [
    "# %ls"
   ]
  },
  {
   "cell_type": "code",
   "execution_count": 5,
   "metadata": {
    "colab": {
     "base_uri": "https://localhost:8080/",
     "height": 190
    },
    "colab_type": "code",
    "executionInfo": {
     "elapsed": 7036,
     "status": "ok",
     "timestamp": 1597281928424,
     "user": {
      "displayName": "Daissy Milenys Herrera Posada",
      "photoUrl": "",
      "userId": "07628404927493375084"
     },
     "user_tz": 300
    },
    "id": "p8T0d9UYYKqu",
    "outputId": "d10b0433-bdfc-407f-ae0c-33a6f17ac12c"
   },
   "outputs": [],
   "source": [
    "# !pip install rasterio"
   ]
  },
  {
   "cell_type": "code",
   "execution_count": 6,
   "metadata": {
    "colab": {},
    "colab_type": "code",
    "executionInfo": {
     "elapsed": 7016,
     "status": "ok",
     "timestamp": 1597281928427,
     "user": {
      "displayName": "Daissy Milenys Herrera Posada",
      "photoUrl": "",
      "userId": "07628404927493375084"
     },
     "user_tz": 300
    },
    "id": "sS3Ims-0YLlk"
   },
   "outputs": [],
   "source": [
    "import numpy as np\n",
    "import pandas as pd\n",
    "import matplotlib.pyplot as plt\n",
    "import rasterio as rio\n",
    "import seaborn as sns\n",
    "from sklearn.model_selection import train_test_split"
   ]
  },
  {
   "cell_type": "markdown",
   "metadata": {
    "colab_type": "text",
    "id": "C1H0JOFUxeDQ"
   },
   "source": [
    "# LlanoGrande"
   ]
  },
  {
   "cell_type": "markdown",
   "metadata": {
    "colab_type": "text",
    "id": "fJQb9PIZ2fkL"
   },
   "source": [
    "### Máscara"
   ]
  },
  {
   "cell_type": "code",
   "execution_count": 7,
   "metadata": {
    "colab": {
     "base_uri": "https://localhost:8080/",
     "height": 286
    },
    "colab_type": "code",
    "executionInfo": {
     "elapsed": 12717,
     "status": "ok",
     "timestamp": 1597281934150,
     "user": {
      "displayName": "Daissy Milenys Herrera Posada",
      "photoUrl": "",
      "userId": "07628404927493375084"
     },
     "user_tz": 300
    },
    "id": "6CBTPq-ntpcO",
    "outputId": "5237dfd2-1687-42da-b50c-797ccfa948ec"
   },
   "outputs": [
    {
     "name": "stdout",
     "output_type": "stream",
     "text": [
      "[-999    1]\n"
     ]
    },
    {
     "data": {
      "text/plain": [
       "(1200, 776)"
      ]
     },
     "execution_count": 7,
     "metadata": {},
     "output_type": "execute_result"
    },
    {
     "data": {
      "image/png": "[encoded data removed]",
      "text/plain": [
       "<Figure size 432x288 with 1 Axes>"
      ]
     },
     "metadata": {
      "needs_background": "light"
     },
     "output_type": "display_data"
    }
   ],
   "source": [
    "file_mask=rio.open('G:/Unidades compartidas/ETCRS/MAPASMORFOMETRICOS/00_Class/LlanoGrande/Zona_LLanoGrande.tif')\n",
    "mask=file_mask.read(1) #1 donde es nan, 0 dentro de la cuenca\n",
    "mask=np.where(mask==mask[0,0],-999,mask) \n",
    "plt.imshow(mask)\n",
    "print(np.unique(mask))\n",
    "mask.shape"
   ]
  },
  {
   "cell_type": "markdown",
   "metadata": {
    "colab_type": "text",
    "id": "V2E3IQZuMyCZ"
   },
   "source": [
    "### Inventario"
   ]
  },
  {
   "cell_type": "code",
   "execution_count": 8,
   "metadata": {
    "colab": {
     "base_uri": "https://localhost:8080/",
     "height": 337
    },
    "colab_type": "code",
    "executionInfo": {
     "elapsed": 13717,
     "status": "ok",
     "timestamp": 1597281935172,
     "user": {
      "displayName": "Daissy Milenys Herrera Posada",
      "photoUrl": "",
      "userId": "07628404927493375084"
     },
     "user_tz": 300
    },
    "id": "3T3sHpwkLjM_",
    "outputId": "c303b003-e846-4f85-8223-3ca33fda05bb"
   },
   "outputs": [
    {
     "name": "stdout",
     "output_type": "stream",
     "text": [
      "[0. 1.]\n",
      "(1200, 776)\n",
      "0\n"
     ]
    },
    {
     "data": {
      "text/plain": [
       "(486402,)"
      ]
     },
     "execution_count": 8,
     "metadata": {},
     "output_type": "execute_result"
    },
    {
     "data": {
      "image/png": "[encoded data removed]",
      "text/plain": [
       "<Figure size 432x288 with 2 Axes>"
      ]
     },
     "metadata": {
      "needs_background": "light"
     },
     "output_type": "display_data"
    }
   ],
   "source": [
    "file_Inventario=rio.open('G:/Unidades compartidas/ETCRS/MAPASMORFOMETRICOS/00Reclass/LlanoGrande/Menm_LlanoGrande.tif')\n",
    "Inventario=file_Inventario.read(1)\n",
    "# plt.imshow(Inventario)\n",
    "nans_Inventario=np.where(mask==-999,-999,Inventario)\n",
    "\n",
    "nans_Inventario=np.where(nans_Inventario==Inventario[0,0],np.nan,nans_Inventario)\n",
    "Inventario=np.where(nans_Inventario==-999,np.nan,nans_Inventario)\n",
    "Inventario=np.where(Inventario==2,1,Inventario) #dejar con un solo valor los mm activos e inactivos\n",
    "plt.imshow(Inventario)\n",
    "plt.colorbar()\n",
    "print(np.unique(Inventario[~np.isnan(Inventario)]))\n",
    "print(Inventario.shape)\n",
    "print(np.isnan(nans_Inventario).sum()) #Cantidad de datos faltantes dentro de la cuenca, debe de dar 0\n",
    "\n",
    "#Convertir la matriz a vector para poder hacer las operaciones\n",
    "Inventario_vector=Inventario[~np.isnan(Inventario)].ravel()\n",
    "Inventario_vector.shape"
   ]
  },
  {
   "cell_type": "markdown",
   "metadata": {
    "colab_type": "text",
    "id": "E3OnIpcgA_PH"
   },
   "source": [
    "## Curvatura"
   ]
  },
  {
   "cell_type": "code",
   "execution_count": 9,
   "metadata": {
    "colab": {
     "base_uri": "https://localhost:8080/",
     "height": 337
    },
    "colab_type": "code",
    "executionInfo": {
     "elapsed": 19469,
     "status": "ok",
     "timestamp": 1597281940943,
     "user": {
      "displayName": "Daissy Milenys Herrera Posada",
      "photoUrl": "",
      "userId": "07628404927493375084"
     },
     "user_tz": 300
    },
    "id": "PSkac-L1BDzP",
    "outputId": "9643b854-230d-43ab-b1d1-efd374d0ac3f"
   },
   "outputs": [
    {
     "name": "stdout",
     "output_type": "stream",
     "text": [
      "[1. 2. 3. 4. 5. 6. 7. 8. 9.]\n",
      "(1200, 776)\n",
      "0\n"
     ]
    },
    {
     "data": {
      "text/plain": [
       "(486402,)"
      ]
     },
     "execution_count": 9,
     "metadata": {},
     "output_type": "execute_result"
    },
    {
     "data": {
      "image/png": "[encoded data removed]",
      "text/plain": [
       "<Figure size 432x288 with 2 Axes>"
      ]
     },
     "metadata": {
      "needs_background": "light"
     },
     "output_type": "display_data"
    }
   ],
   "source": [
    "file_Curvatura=rio.open('G:/Unidades compartidas/ETCRS/MAPASMORFOMETRICOS/00Reclass/LlanoGrande/Curvatura_LlanoGrande/Curvatura_LlanoGrande1.tif')\n",
    "Curvatura=file_Curvatura.read(1)\n",
    "# plt.imshow(Curvatura)\n",
    "\n",
    "nans_Curvatura=np.where(mask==-999,-999,Curvatura)\n",
    "nans_Curvatura=np.where(nans_Curvatura==Curvatura[0,0],np.nan,nans_Curvatura)\n",
    "\n",
    "Curvatura=np.where(nans_Curvatura==-999,np.nan,nans_Curvatura)\n",
    "# plt.figure(figsize=(30,30))\n",
    "plt.imshow(Curvatura)\n",
    "plt.colorbar()\n",
    "print(np.unique(Curvatura[~np.isnan(Curvatura)]))\n",
    "print(Curvatura.shape)\n",
    "print(np.isnan(nans_Curvatura).sum()) #Cantidad de datos faltantes dentro de la cuenca, debe de dar 0\n",
    "\n",
    "\n",
    "#Convertir la matriz a vector para poder hacer las operaciones\n",
    "Curvatura_vector=Curvatura[~np.isnan(Curvatura)].ravel()\n",
    "Curvatura_vector.shape"
   ]
  },
  {
   "cell_type": "markdown",
   "metadata": {
    "colab_type": "text",
    "id": "V57iNJhFBsV-"
   },
   "source": [
    "## DDS"
   ]
  },
  {
   "cell_type": "code",
   "execution_count": 10,
   "metadata": {
    "colab": {
     "base_uri": "https://localhost:8080/",
     "height": 337
    },
    "colab_type": "code",
    "executionInfo": {
     "elapsed": 20898,
     "status": "ok",
     "timestamp": 1597281942390,
     "user": {
      "displayName": "Daissy Milenys Herrera Posada",
      "photoUrl": "",
      "userId": "07628404927493375084"
     },
     "user_tz": 300
    },
    "id": "bZQ1QXSQCjvY",
    "outputId": "d8a772a1-98df-4721-f0b7-3abe877b00d2"
   },
   "outputs": [
    {
     "name": "stdout",
     "output_type": "stream",
     "text": [
      "[1. 2. 3. 4. 5. 6.]\n",
      "(1200, 776)\n",
      "0\n"
     ]
    },
    {
     "data": {
      "text/plain": [
       "(486402,)"
      ]
     },
     "execution_count": 10,
     "metadata": {},
     "output_type": "execute_result"
    },
    {
     "data": {
      "image/png": "[encoded data removed]",
      "text/plain": [
       "<Figure size 432x288 with 2 Axes>"
      ]
     },
     "metadata": {
      "needs_background": "light"
     },
     "output_type": "display_data"
    }
   ],
   "source": [
    "file_DDS=rio.open('G:/Unidades compartidas/ETCRS/MAPASMORFOMETRICOS/00Reclass/LlanoGrande/Mapa_DDS/DDS_LlG.tif')\n",
    "DDS=file_DDS.read(1)\n",
    "# plt.imshow(DDS)\n",
    "\n",
    "nans_DDS=np.where(mask==-999,-999,DDS)\n",
    "nans_DDS=np.where(nans_DDS==DDS[0,0],np.nan,nans_DDS)\n",
    "DDS=np.where(nans_DDS==-999,np.nan,nans_DDS)\n",
    "plt.imshow(DDS)\n",
    "plt.colorbar()\n",
    "print(np.unique(DDS[~np.isnan(DDS)]))\n",
    "print(DDS.shape)\n",
    "print(np.isnan(nans_DDS).sum())\n",
    "\n",
    "#Convertir la matriz a vector para poder hacer las operaciones\n",
    "DDS_vector=DDS[~np.isnan(DDS)].ravel()\n",
    "DDS_vector.shape"
   ]
  },
  {
   "cell_type": "markdown",
   "metadata": {
    "colab_type": "text",
    "id": "8CLwJ792CmYp"
   },
   "source": [
    "##Relieve relativo"
   ]
  },
  {
   "cell_type": "code",
   "execution_count": 11,
   "metadata": {
    "colab": {
     "base_uri": "https://localhost:8080/",
     "height": 337
    },
    "colab_type": "code",
    "executionInfo": {
     "elapsed": 21928,
     "status": "ok",
     "timestamp": 1597281943440,
     "user": {
      "displayName": "Daissy Milenys Herrera Posada",
      "photoUrl": "",
      "userId": "07628404927493375084"
     },
     "user_tz": 300
    },
    "id": "wc7CMYcFCkHa",
    "outputId": "7495a2ce-d28e-4ad0-99d6-ca69d907320a"
   },
   "outputs": [
    {
     "name": "stdout",
     "output_type": "stream",
     "text": [
      "[1. 2. 3. 4. 5. 6.]\n",
      "(1200, 776)\n",
      "0\n"
     ]
    },
    {
     "data": {
      "text/plain": [
       "(486402,)"
      ]
     },
     "execution_count": 11,
     "metadata": {},
     "output_type": "execute_result"
    },
    {
     "data": {
      "image/png": "[encoded data removed]",
      "text/plain": [
       "<Figure size 432x288 with 2 Axes>"
      ]
     },
     "metadata": {
      "needs_background": "light"
     },
     "output_type": "display_data"
    }
   ],
   "source": [
    "file_RR=rio.open('G:/Unidades compartidas/ETCRS/MAPASMORFOMETRICOS/00Reclass/LlanoGrande/Mapa_RelieveRelativo/RelieveRelativo_llanoGrande.tif')\n",
    "RR=file_RR.read(1)\n",
    "# plt.imshow(RR)\n",
    "nans_RR=np.where(mask==-999,-999,RR)\n",
    "nans_RR=np.where(nans_RR==RR[0,0],np.nan,nans_RR)\n",
    "RR=np.where(nans_RR==-999,np.nan,nans_RR)\n",
    "plt.imshow(RR)\n",
    "plt.colorbar()\n",
    "print(np.unique(RR[~np.isnan(RR)]))\n",
    "print(RR.shape)\n",
    "print(np.isnan(nans_RR).sum())\n",
    "\n",
    "#Convertir la matriz a vector para poder hacer las operaciones\n",
    "RR_vector=RR[~np.isnan(RR)].ravel()\n",
    "RR_vector.shape"
   ]
  },
  {
   "cell_type": "markdown",
   "metadata": {
    "colab_type": "text",
    "id": "CD94CF7RCr4Q"
   },
   "source": [
    "## Pendiente"
   ]
  },
  {
   "cell_type": "code",
   "execution_count": 12,
   "metadata": {
    "colab": {
     "base_uri": "https://localhost:8080/",
     "height": 337
    },
    "colab_type": "code",
    "executionInfo": {
     "elapsed": 23013,
     "status": "ok",
     "timestamp": 1597281944546,
     "user": {
      "displayName": "Daissy Milenys Herrera Posada",
      "photoUrl": "",
      "userId": "07628404927493375084"
     },
     "user_tz": 300
    },
    "id": "4Q2VGkUjC0lR",
    "outputId": "aefc4358-2ff9-44f1-d6a1-61f67dee167c"
   },
   "outputs": [
    {
     "name": "stdout",
     "output_type": "stream",
     "text": [
      "0\n",
      "0\n"
     ]
    },
    {
     "data": {
      "text/plain": [
       "array([1., 2., 3., 4., 5., 6., 7.])"
      ]
     },
     "execution_count": 12,
     "metadata": {},
     "output_type": "execute_result"
    },
    {
     "data": {
      "image/png": "[encoded data removed]",
      "text/plain": [
       "<Figure size 432x288 with 2 Axes>"
      ]
     },
     "metadata": {
      "needs_background": "light"
     },
     "output_type": "display_data"
    }
   ],
   "source": [
    "file_Slope=rio.open('G:/Unidades compartidas/ETCRS/MAPASMORFOMETRICOS/00Reclass/LlanoGrande/Mapa_Pendientes/Pendiente_llg.tif')\n",
    "Slope=file_Slope.read(1)\n",
    "# plt.imshow(Slope)\n",
    "print(Slope[0,0])\n",
    "nans_Slope=np.where(mask==-999,-999,Slope)\n",
    "nans_Slope=np.where(nans_Slope==Slope[0,0],np.nan,nans_Slope)\n",
    "Slope=np.where(nans_Slope==-999,np.nan,nans_Slope)\n",
    "plt.imshow(Slope)\n",
    "plt.colorbar()\n",
    "print(np.isnan(nans_Slope).sum()) \n",
    "\n",
    "#Convertir la matriz a vector para poder hacer las operaciones\n",
    "Slope_vector=Slope[~np.isnan(Slope)].ravel()\n",
    "Slope_vector.shape\n",
    "np.unique(Slope_vector)"
   ]
  },
  {
   "cell_type": "markdown",
   "metadata": {
    "colab_type": "text",
    "id": "tfZqHqoDBzMK"
   },
   "source": [
    "## Litología"
   ]
  },
  {
   "cell_type": "code",
   "execution_count": 13,
   "metadata": {
    "colab": {
     "base_uri": "https://localhost:8080/",
     "height": 320
    },
    "colab_type": "code",
    "executionInfo": {
     "elapsed": 23673,
     "status": "ok",
     "timestamp": 1597281945229,
     "user": {
      "displayName": "Daissy Milenys Herrera Posada",
      "photoUrl": "",
      "userId": "07628404927493375084"
     },
     "user_tz": 300
    },
    "id": "bKd-_1a2ClYQ",
    "outputId": "7c6058ed-07d0-42ad-b30e-7ac63e8bcdde"
   },
   "outputs": [
    {
     "name": "stdout",
     "output_type": "stream",
     "text": [
      "[1. 2. 3. 4. 5. 6. 7.]\n",
      "(1200, 776)\n",
      "0\n"
     ]
    },
    {
     "data": {
      "text/plain": [
       "(486402,)"
      ]
     },
     "execution_count": 13,
     "metadata": {},
     "output_type": "execute_result"
    },
    {
     "data": {
      "image/png": "[encoded data removed]",
      "text/plain": [
       "<Figure size 432x288 with 2 Axes>"
      ]
     },
     "metadata": {
      "needs_background": "light"
     },
     "output_type": "display_data"
    }
   ],
   "source": [
    "file_Litologia=rio.open('G:/Unidades compartidas/ETCRS/MAPASMORFOMETRICOS/00Reclass/LlanoGrande/Geo_LlanoGrande.tif')\n",
    "Litologia=file_Litologia.read(1)\n",
    "# plt.imshow(Litologia)\n",
    "\n",
    "nans_Litologia=np.where(mask==-999,-999,Litologia)\n",
    "nans_Litologia=np.where(nans_Litologia==Litologia[0,0],np.nan,nans_Litologia)\n",
    "\n",
    "Litologia=np.where(nans_Litologia==-999,np.nan,nans_Litologia)\n",
    "plt.imshow(Litologia)\n",
    "plt.colorbar()\n",
    "print(np.unique(Litologia[~np.isnan(Litologia)]))\n",
    "print(Litologia.shape)\n",
    "print(np.isnan(nans_Litologia).sum())\n",
    "\n",
    "#Convertir la matriz a vector para poder hacer las operaciones\n",
    "Litologia_vector=Litologia[~np.isnan(Litologia)].ravel()\n",
    "Litologia_vector.shape"
   ]
  },
  {
   "cell_type": "markdown",
   "metadata": {
    "colab_type": "text",
    "id": "HGX_U0GVXVrC"
   },
   "source": [
    "## Cambio de Coberturas"
   ]
  },
  {
   "cell_type": "code",
   "execution_count": 14,
   "metadata": {
    "colab": {
     "base_uri": "https://localhost:8080/",
     "height": 337
    },
    "colab_type": "code",
    "executionInfo": {
     "elapsed": 25496,
     "status": "ok",
     "timestamp": 1597281947077,
     "user": {
      "displayName": "Daissy Milenys Herrera Posada",
      "photoUrl": "",
      "userId": "07628404927493375084"
     },
     "user_tz": 300
    },
    "id": "juI9CWkZXVrJ",
    "outputId": "b4a98717-2c43-47cc-fb40-56bc4383d0be"
   },
   "outputs": [
    {
     "name": "stdout",
     "output_type": "stream",
     "text": [
      "[ 3.  4.  6.  7.  8. 10. 11. 12. 13. 14. 15.]\n",
      "(1200, 776)\n",
      "0\n"
     ]
    },
    {
     "data": {
      "text/plain": [
       "(486402,)"
      ]
     },
     "execution_count": 14,
     "metadata": {},
     "output_type": "execute_result"
    },
    {
     "data": {
      "image/png": "[encoded data removed]",
      "text/plain": [
       "<Figure size 432x288 with 2 Axes>"
      ]
     },
     "metadata": {
      "needs_background": "light"
     },
     "output_type": "display_data"
    }
   ],
   "source": [
    "file_CambioCob=rio.open('G:/Unidades compartidas/ETCRS/MAPASMORFOMETRICOS/00Reclass/LlanoGrande/Cambios.tif')\n",
    "CambioCob=file_CambioCob.read(1)\n",
    "# plt.imshow(CambioCob)\n",
    "\n",
    "nans_CambioCob=np.where(mask==-999,-999,CambioCob)\n",
    "nans_CambioCob=np.where(nans_CambioCob==CambioCob[0,0],np.nan,nans_CambioCob)\n",
    "\n",
    "# from collections import Counter #permite contar cuantas veces se repite cada valor\n",
    "# print(Counter((CambioCob[~np.isnan(CambioCob)].ravel())))\n",
    "\n",
    "# nans_CambioCob=pd.DataFrame(nans_CambioCob).fillna(6.0)\n",
    "# nans_CambioCob=np.array(nans_CambioCob)\n",
    "\n",
    "CambioCob=np.where(nans_CambioCob==-999,np.nan,nans_CambioCob)\n",
    "plt.imshow(CambioCob)\n",
    "plt.colorbar()\n",
    "# print(np.unique(CambioCob[~np.isnan(CambioCob)]))\n",
    "print(np.unique(CambioCob[~np.isnan(CambioCob)]))\n",
    "print(CambioCob.shape)\n",
    "print(np.isnan(nans_CambioCob).sum()) \n",
    "#Convertir la matriz a vector para poder hacer las operaciones\n",
    "CambioCob_vector=CambioCob[~np.isnan(CambioCob)].ravel()\n",
    "CambioCob_vector.shape"
   ]
  },
  {
   "cell_type": "markdown",
   "metadata": {
    "colab_type": "text",
    "id": "nlb0ud7fMHaa"
   },
   "source": [
    "## Fallas"
   ]
  },
  {
   "cell_type": "code",
   "execution_count": 15,
   "metadata": {
    "colab": {
     "base_uri": "https://localhost:8080/",
     "height": 337
    },
    "colab_type": "code",
    "executionInfo": {
     "elapsed": 26794,
     "status": "ok",
     "timestamp": 1597281948422,
     "user": {
      "displayName": "Daissy Milenys Herrera Posada",
      "photoUrl": "",
      "userId": "07628404927493375084"
     },
     "user_tz": 300
    },
    "id": "SwNzU2KEMPCK",
    "outputId": "ae07b725-f717-4105-f4e5-ff5739adbdab"
   },
   "outputs": [
    {
     "name": "stdout",
     "output_type": "stream",
     "text": [
      "[1. 2. 3. 4. 5. 6. 7. 8.]\n",
      "(1200, 776)\n",
      "0\n"
     ]
    },
    {
     "data": {
      "text/plain": [
       "(486402,)"
      ]
     },
     "execution_count": 15,
     "metadata": {},
     "output_type": "execute_result"
    },
    {
     "data": {
      "image/png": "[encoded data removed]",
      "text/plain": [
       "<Figure size 432x288 with 2 Axes>"
      ]
     },
     "metadata": {
      "needs_background": "light"
     },
     "output_type": "display_data"
    }
   ],
   "source": [
    "file_Falla=rio.open('G:/Unidades compartidas/ETCRS/MAPASMORFOMETRICOS/00Reclass/LlanoGrande/fallas llano grande/Reclass_dist_lin_llanogrande1.tif')\n",
    "Falla=file_Falla.read(1)\n",
    "# plt.imshow(Falla)\n",
    "nans_Falla=np.where(mask==-999,-999,Falla)\n",
    "nans_Falla=np.where(nans_Falla==Falla[0,0],np.nan,nans_Falla)\n",
    "Falla=np.where(nans_Falla==-999,np.nan,nans_Falla)\n",
    "plt.imshow(Falla)\n",
    "plt.colorbar()\n",
    "print(np.unique(Falla[~np.isnan(Falla)]))\n",
    "print(Falla.shape)\n",
    "print(np.isnan(nans_Falla).sum())\n",
    "\n",
    "#Convertir la matriz a vector para poder hacer las operaciones\n",
    "Falla_vector=Falla[~np.isnan(Falla)].ravel()\n",
    "Falla_vector.shape"
   ]
  },
  {
   "cell_type": "markdown",
   "metadata": {
    "colab_type": "text",
    "id": "GZUfD0yOX5Eh"
   },
   "source": [
    "## Cinemático"
   ]
  },
  {
   "cell_type": "code",
   "execution_count": 16,
   "metadata": {
    "colab": {
     "base_uri": "https://localhost:8080/",
     "height": 354
    },
    "colab_type": "code",
    "executionInfo": {
     "elapsed": 28210,
     "status": "ok",
     "timestamp": 1597281949858,
     "user": {
      "displayName": "Daissy Milenys Herrera Posada",
      "photoUrl": "",
      "userId": "07628404927493375084"
     },
     "user_tz": 300
    },
    "id": "m96wOckcX5Em",
    "outputId": "d35a332f-b798-4a67-e800-fcd34c1d6775"
   },
   "outputs": [
    {
     "name": "stdout",
     "output_type": "stream",
     "text": [
      "Counter({255: 444555, 1: 247630, 4: 144139, 7: 59414, 6: 13465, 2: 8452, 0: 5516, 3: 4513, 5: 3516})\n",
      "[0. 1. 2. 3. 4. 5. 6. 7.]\n",
      "(1200, 776)\n",
      "0\n"
     ]
    },
    {
     "data": {
      "text/plain": [
       "(486402,)"
      ]
     },
     "execution_count": 16,
     "metadata": {},
     "output_type": "execute_result"
    },
    {
     "data": {
      "image/png": "[encoded data removed]",
      "text/plain": [
       "<Figure size 432x288 with 2 Axes>"
      ]
     },
     "metadata": {
      "needs_background": "light"
     },
     "output_type": "display_data"
    }
   ],
   "source": [
    "file_Cinematico=rio.open('G:/Unidades compartidas/ETCRS/MAPASMORFOMETRICOS/00Reclass/LlanoGrande/llanogrande_cinematico1.tif')\n",
    "Cinematico=file_Cinematico.read(1)\n",
    "# plt.imshow(Cinematico)\n",
    "\n",
    "Cinematico=Cinematico[:-2,:-1]\n",
    "nans_Cinematico=np.where(mask==-999,-999,Cinematico)\n",
    "nans_Cinematico=np.where(nans_Cinematico==Cinematico[0,0],np.nan,nans_Cinematico)\n",
    "\n",
    "from collections import Counter #permite contar cuantas veces se repite cada valor\n",
    "print(Counter((Cinematico[~np.isnan(Cinematico)].ravel())))\n",
    "\n",
    "nans_Cinematico=pd.DataFrame(nans_Cinematico).fillna(1.0)\n",
    "nans_Cinematico=np.array(nans_Cinematico)\n",
    "\n",
    "Cinematico=np.where(nans_Cinematico==-999,np.nan,nans_Cinematico)\n",
    "plt.imshow(Cinematico)\n",
    "plt.colorbar()\n",
    "print(np.unique(Cinematico[~np.isnan(Cinematico)]))\n",
    "print(Cinematico.shape)\n",
    "print(np.isnan(nans_Cinematico).sum())\n",
    "\n",
    "#Convertir la matriz a vector para poder hacer las operaciones\n",
    "Cinematico_vector=Cinematico[~np.isnan(Cinematico)].ravel()\n",
    "Cinematico_vector.shape"
   ]
  },
  {
   "cell_type": "markdown",
   "metadata": {
    "colab_type": "text",
    "id": "XGT3wPCm7TY-"
   },
   "source": [
    "#Creación de dataframe"
   ]
  },
  {
   "cell_type": "code",
   "execution_count": 17,
   "metadata": {
    "colab": {
     "base_uri": "https://localhost:8080/",
     "height": 68
    },
    "colab_type": "code",
    "executionInfo": {
     "elapsed": 28191,
     "status": "ok",
     "timestamp": 1597281949861,
     "user": {
      "displayName": "Daissy Milenys Herrera Posada",
      "photoUrl": "",
      "userId": "07628404927493375084"
     },
     "user_tz": 300
    },
    "id": "NhNQgSxt7WYz",
    "outputId": "cd381860-6204-4248-b5b6-0a3b3f52b022",
    "scrolled": true
   },
   "outputs": [
    {
     "data": {
      "text/plain": [
       "0.0    0.996854\n",
       "1.0    0.003146\n",
       "Name: Inventario, dtype: float64"
      ]
     },
     "execution_count": 17,
     "metadata": {},
     "output_type": "execute_result"
    }
   ],
   "source": [
    "df=pd.DataFrame({\n",
    "                 'Curvatura':Curvatura_vector,\n",
    "                 'CambioCob':CambioCob_vector,\n",
    "                 'Litología':Litologia_vector,\n",
    "                 'DDS':DDS_vector,\n",
    "                 'RR':RR_vector,\n",
    "                 'Slope':Slope_vector,\n",
    "                 'Falla':Falla_vector,\n",
    "                 'Cinematico':Cinematico_vector,\n",
    "                 'Inventario':Inventario_vector\n",
    "                 })\n",
    "df.Inventario.value_counts(True)"
   ]
  },
  {
   "cell_type": "code",
   "execution_count": 18,
   "metadata": {},
   "outputs": [],
   "source": [
    "X=df.iloc[:,:-1]\n",
    "y=df.iloc[:,-1]\n",
    "X_train,X_test, y_train,y_test =train_test_split(X, y,stratify=y,test_size=0.2, random_state=0)"
   ]
  },
  {
   "cell_type": "code",
   "execution_count": 19,
   "metadata": {
    "scrolled": true
   },
   "outputs": [
    {
     "data": {
      "text/html": [
       "<div>\n",
       "<style scoped>\n",
       "    .dataframe tbody tr th:only-of-type {\n",
       "        vertical-align: middle;\n",
       "    }\n",
       "\n",
       "    .dataframe tbody tr th {\n",
       "        vertical-align: top;\n",
       "    }\n",
       "\n",
       "    .dataframe thead th {\n",
       "        text-align: right;\n",
       "    }\n",
       "</style>\n",
       "<table border=\"1\" class=\"dataframe\">\n",
       "  <thead>\n",
       "    <tr style=\"text-align: right;\">\n",
       "      <th></th>\n",
       "      <th>Curvatura</th>\n",
       "      <th>CambioCob</th>\n",
       "      <th>Litología</th>\n",
       "      <th>DDS</th>\n",
       "      <th>RR</th>\n",
       "      <th>Slope</th>\n",
       "      <th>Falla</th>\n",
       "      <th>Cinematico</th>\n",
       "    </tr>\n",
       "  </thead>\n",
       "  <tbody>\n",
       "    <tr>\n",
       "      <th>256443</th>\n",
       "      <td>2.0</td>\n",
       "      <td>6.0</td>\n",
       "      <td>1.0</td>\n",
       "      <td>6.0</td>\n",
       "      <td>4.0</td>\n",
       "      <td>4.0</td>\n",
       "      <td>8.0</td>\n",
       "      <td>7.0</td>\n",
       "    </tr>\n",
       "    <tr>\n",
       "      <th>247855</th>\n",
       "      <td>6.0</td>\n",
       "      <td>11.0</td>\n",
       "      <td>3.0</td>\n",
       "      <td>3.0</td>\n",
       "      <td>4.0</td>\n",
       "      <td>2.0</td>\n",
       "      <td>4.0</td>\n",
       "      <td>1.0</td>\n",
       "    </tr>\n",
       "    <tr>\n",
       "      <th>391106</th>\n",
       "      <td>2.0</td>\n",
       "      <td>15.0</td>\n",
       "      <td>3.0</td>\n",
       "      <td>5.0</td>\n",
       "      <td>2.0</td>\n",
       "      <td>4.0</td>\n",
       "      <td>7.0</td>\n",
       "      <td>1.0</td>\n",
       "    </tr>\n",
       "    <tr>\n",
       "      <th>181786</th>\n",
       "      <td>4.0</td>\n",
       "      <td>6.0</td>\n",
       "      <td>3.0</td>\n",
       "      <td>4.0</td>\n",
       "      <td>4.0</td>\n",
       "      <td>6.0</td>\n",
       "      <td>6.0</td>\n",
       "      <td>4.0</td>\n",
       "    </tr>\n",
       "    <tr>\n",
       "      <th>21623</th>\n",
       "      <td>2.0</td>\n",
       "      <td>6.0</td>\n",
       "      <td>4.0</td>\n",
       "      <td>6.0</td>\n",
       "      <td>5.0</td>\n",
       "      <td>1.0</td>\n",
       "      <td>7.0</td>\n",
       "      <td>1.0</td>\n",
       "    </tr>\n",
       "    <tr>\n",
       "      <th>...</th>\n",
       "      <td>...</td>\n",
       "      <td>...</td>\n",
       "      <td>...</td>\n",
       "      <td>...</td>\n",
       "      <td>...</td>\n",
       "      <td>...</td>\n",
       "      <td>...</td>\n",
       "      <td>...</td>\n",
       "    </tr>\n",
       "    <tr>\n",
       "      <th>188912</th>\n",
       "      <td>2.0</td>\n",
       "      <td>8.0</td>\n",
       "      <td>3.0</td>\n",
       "      <td>4.0</td>\n",
       "      <td>4.0</td>\n",
       "      <td>3.0</td>\n",
       "      <td>7.0</td>\n",
       "      <td>4.0</td>\n",
       "    </tr>\n",
       "    <tr>\n",
       "      <th>91673</th>\n",
       "      <td>3.0</td>\n",
       "      <td>6.0</td>\n",
       "      <td>3.0</td>\n",
       "      <td>1.0</td>\n",
       "      <td>2.0</td>\n",
       "      <td>1.0</td>\n",
       "      <td>4.0</td>\n",
       "      <td>1.0</td>\n",
       "    </tr>\n",
       "    <tr>\n",
       "      <th>303403</th>\n",
       "      <td>3.0</td>\n",
       "      <td>6.0</td>\n",
       "      <td>1.0</td>\n",
       "      <td>1.0</td>\n",
       "      <td>5.0</td>\n",
       "      <td>3.0</td>\n",
       "      <td>8.0</td>\n",
       "      <td>7.0</td>\n",
       "    </tr>\n",
       "    <tr>\n",
       "      <th>293231</th>\n",
       "      <td>6.0</td>\n",
       "      <td>8.0</td>\n",
       "      <td>3.0</td>\n",
       "      <td>2.0</td>\n",
       "      <td>1.0</td>\n",
       "      <td>1.0</td>\n",
       "      <td>2.0</td>\n",
       "      <td>4.0</td>\n",
       "    </tr>\n",
       "    <tr>\n",
       "      <th>322885</th>\n",
       "      <td>3.0</td>\n",
       "      <td>6.0</td>\n",
       "      <td>3.0</td>\n",
       "      <td>1.0</td>\n",
       "      <td>4.0</td>\n",
       "      <td>3.0</td>\n",
       "      <td>7.0</td>\n",
       "      <td>4.0</td>\n",
       "    </tr>\n",
       "  </tbody>\n",
       "</table>\n",
       "<p>389121 rows × 8 columns</p>\n",
       "</div>"
      ],
      "text/plain": [
       "        Curvatura  CambioCob  Litología  DDS   RR  Slope  Falla  Cinematico\n",
       "256443        2.0        6.0        1.0  6.0  4.0    4.0    8.0         7.0\n",
       "247855        6.0       11.0        3.0  3.0  4.0    2.0    4.0         1.0\n",
       "391106        2.0       15.0        3.0  5.0  2.0    4.0    7.0         1.0\n",
       "181786        4.0        6.0        3.0  4.0  4.0    6.0    6.0         4.0\n",
       "21623         2.0        6.0        4.0  6.0  5.0    1.0    7.0         1.0\n",
       "...           ...        ...        ...  ...  ...    ...    ...         ...\n",
       "188912        2.0        8.0        3.0  4.0  4.0    3.0    7.0         4.0\n",
       "91673         3.0        6.0        3.0  1.0  2.0    1.0    4.0         1.0\n",
       "303403        3.0        6.0        1.0  1.0  5.0    3.0    8.0         7.0\n",
       "293231        6.0        8.0        3.0  2.0  1.0    1.0    2.0         4.0\n",
       "322885        3.0        6.0        3.0  1.0  4.0    3.0    7.0         4.0\n",
       "\n",
       "[389121 rows x 8 columns]"
      ]
     },
     "execution_count": 19,
     "metadata": {},
     "output_type": "execute_result"
    }
   ],
   "source": [
    "X_train"
   ]
  },
  {
   "cell_type": "code",
   "execution_count": 20,
   "metadata": {},
   "outputs": [
    {
     "data": {
      "text/plain": [
       "0.0    484872\n",
       "1.0      1530\n",
       "Name: Inventario, dtype: int64"
      ]
     },
     "execution_count": 20,
     "metadata": {},
     "output_type": "execute_result"
    }
   ],
   "source": [
    "df.Inventario.value_counts()"
   ]
  },
  {
   "cell_type": "code",
   "execution_count": 21,
   "metadata": {},
   "outputs": [
    {
     "data": {
      "text/plain": [
       "80.0"
      ]
     },
     "execution_count": 21,
     "metadata": {},
     "output_type": "execute_result"
    }
   ],
   "source": [
    "(y_train.value_counts()[1]*100)/df.Inventario.value_counts()[1]"
   ]
  },
  {
   "cell_type": "code",
   "execution_count": 22,
   "metadata": {},
   "outputs": [
    {
     "data": {
      "text/plain": [
       "20.0"
      ]
     },
     "execution_count": 22,
     "metadata": {},
     "output_type": "execute_result"
    }
   ],
   "source": [
    "(y_test.value_counts()[1]*100)/df.Inventario.value_counts()[1]"
   ]
  },
  {
   "cell_type": "code",
   "execution_count": 23,
   "metadata": {
    "scrolled": true
   },
   "outputs": [
    {
     "data": {
      "text/html": [
       "<div>\n",
       "<style scoped>\n",
       "    .dataframe tbody tr th:only-of-type {\n",
       "        vertical-align: middle;\n",
       "    }\n",
       "\n",
       "    .dataframe tbody tr th {\n",
       "        vertical-align: top;\n",
       "    }\n",
       "\n",
       "    .dataframe thead th {\n",
       "        text-align: right;\n",
       "    }\n",
       "</style>\n",
       "<table border=\"1\" class=\"dataframe\">\n",
       "  <thead>\n",
       "    <tr style=\"text-align: right;\">\n",
       "      <th></th>\n",
       "      <th>Curvatura</th>\n",
       "      <th>CambioCob</th>\n",
       "      <th>Litología</th>\n",
       "      <th>DDS</th>\n",
       "      <th>RR</th>\n",
       "      <th>Slope</th>\n",
       "      <th>Falla</th>\n",
       "      <th>Cinematico</th>\n",
       "      <th>Inventario</th>\n",
       "    </tr>\n",
       "  </thead>\n",
       "  <tbody>\n",
       "    <tr>\n",
       "      <th>256443</th>\n",
       "      <td>2.0</td>\n",
       "      <td>6.0</td>\n",
       "      <td>1.0</td>\n",
       "      <td>6.0</td>\n",
       "      <td>4.0</td>\n",
       "      <td>4.0</td>\n",
       "      <td>8.0</td>\n",
       "      <td>7.0</td>\n",
       "      <td>0.0</td>\n",
       "    </tr>\n",
       "    <tr>\n",
       "      <th>247855</th>\n",
       "      <td>6.0</td>\n",
       "      <td>11.0</td>\n",
       "      <td>3.0</td>\n",
       "      <td>3.0</td>\n",
       "      <td>4.0</td>\n",
       "      <td>2.0</td>\n",
       "      <td>4.0</td>\n",
       "      <td>1.0</td>\n",
       "      <td>0.0</td>\n",
       "    </tr>\n",
       "    <tr>\n",
       "      <th>391106</th>\n",
       "      <td>2.0</td>\n",
       "      <td>15.0</td>\n",
       "      <td>3.0</td>\n",
       "      <td>5.0</td>\n",
       "      <td>2.0</td>\n",
       "      <td>4.0</td>\n",
       "      <td>7.0</td>\n",
       "      <td>1.0</td>\n",
       "      <td>0.0</td>\n",
       "    </tr>\n",
       "    <tr>\n",
       "      <th>181786</th>\n",
       "      <td>4.0</td>\n",
       "      <td>6.0</td>\n",
       "      <td>3.0</td>\n",
       "      <td>4.0</td>\n",
       "      <td>4.0</td>\n",
       "      <td>6.0</td>\n",
       "      <td>6.0</td>\n",
       "      <td>4.0</td>\n",
       "      <td>0.0</td>\n",
       "    </tr>\n",
       "    <tr>\n",
       "      <th>21623</th>\n",
       "      <td>2.0</td>\n",
       "      <td>6.0</td>\n",
       "      <td>4.0</td>\n",
       "      <td>6.0</td>\n",
       "      <td>5.0</td>\n",
       "      <td>1.0</td>\n",
       "      <td>7.0</td>\n",
       "      <td>1.0</td>\n",
       "      <td>0.0</td>\n",
       "    </tr>\n",
       "    <tr>\n",
       "      <th>...</th>\n",
       "      <td>...</td>\n",
       "      <td>...</td>\n",
       "      <td>...</td>\n",
       "      <td>...</td>\n",
       "      <td>...</td>\n",
       "      <td>...</td>\n",
       "      <td>...</td>\n",
       "      <td>...</td>\n",
       "      <td>...</td>\n",
       "    </tr>\n",
       "    <tr>\n",
       "      <th>188912</th>\n",
       "      <td>2.0</td>\n",
       "      <td>8.0</td>\n",
       "      <td>3.0</td>\n",
       "      <td>4.0</td>\n",
       "      <td>4.0</td>\n",
       "      <td>3.0</td>\n",
       "      <td>7.0</td>\n",
       "      <td>4.0</td>\n",
       "      <td>0.0</td>\n",
       "    </tr>\n",
       "    <tr>\n",
       "      <th>91673</th>\n",
       "      <td>3.0</td>\n",
       "      <td>6.0</td>\n",
       "      <td>3.0</td>\n",
       "      <td>1.0</td>\n",
       "      <td>2.0</td>\n",
       "      <td>1.0</td>\n",
       "      <td>4.0</td>\n",
       "      <td>1.0</td>\n",
       "      <td>0.0</td>\n",
       "    </tr>\n",
       "    <tr>\n",
       "      <th>303403</th>\n",
       "      <td>3.0</td>\n",
       "      <td>6.0</td>\n",
       "      <td>1.0</td>\n",
       "      <td>1.0</td>\n",
       "      <td>5.0</td>\n",
       "      <td>3.0</td>\n",
       "      <td>8.0</td>\n",
       "      <td>7.0</td>\n",
       "      <td>0.0</td>\n",
       "    </tr>\n",
       "    <tr>\n",
       "      <th>293231</th>\n",
       "      <td>6.0</td>\n",
       "      <td>8.0</td>\n",
       "      <td>3.0</td>\n",
       "      <td>2.0</td>\n",
       "      <td>1.0</td>\n",
       "      <td>1.0</td>\n",
       "      <td>2.0</td>\n",
       "      <td>4.0</td>\n",
       "      <td>0.0</td>\n",
       "    </tr>\n",
       "    <tr>\n",
       "      <th>322885</th>\n",
       "      <td>3.0</td>\n",
       "      <td>6.0</td>\n",
       "      <td>3.0</td>\n",
       "      <td>1.0</td>\n",
       "      <td>4.0</td>\n",
       "      <td>3.0</td>\n",
       "      <td>7.0</td>\n",
       "      <td>4.0</td>\n",
       "      <td>0.0</td>\n",
       "    </tr>\n",
       "  </tbody>\n",
       "</table>\n",
       "<p>389121 rows × 9 columns</p>\n",
       "</div>"
      ],
      "text/plain": [
       "        Curvatura  CambioCob  Litología  DDS   RR  Slope  Falla  Cinematico  \\\n",
       "256443        2.0        6.0        1.0  6.0  4.0    4.0    8.0         7.0   \n",
       "247855        6.0       11.0        3.0  3.0  4.0    2.0    4.0         1.0   \n",
       "391106        2.0       15.0        3.0  5.0  2.0    4.0    7.0         1.0   \n",
       "181786        4.0        6.0        3.0  4.0  4.0    6.0    6.0         4.0   \n",
       "21623         2.0        6.0        4.0  6.0  5.0    1.0    7.0         1.0   \n",
       "...           ...        ...        ...  ...  ...    ...    ...         ...   \n",
       "188912        2.0        8.0        3.0  4.0  4.0    3.0    7.0         4.0   \n",
       "91673         3.0        6.0        3.0  1.0  2.0    1.0    4.0         1.0   \n",
       "303403        3.0        6.0        1.0  1.0  5.0    3.0    8.0         7.0   \n",
       "293231        6.0        8.0        3.0  2.0  1.0    1.0    2.0         4.0   \n",
       "322885        3.0        6.0        3.0  1.0  4.0    3.0    7.0         4.0   \n",
       "\n",
       "        Inventario  \n",
       "256443         0.0  \n",
       "247855         0.0  \n",
       "391106         0.0  \n",
       "181786         0.0  \n",
       "21623          0.0  \n",
       "...            ...  \n",
       "188912         0.0  \n",
       "91673          0.0  \n",
       "303403         0.0  \n",
       "293231         0.0  \n",
       "322885         0.0  \n",
       "\n",
       "[389121 rows x 9 columns]"
      ]
     },
     "execution_count": 23,
     "metadata": {},
     "output_type": "execute_result"
    }
   ],
   "source": [
    "df_80=X_train\n",
    "df_80=df_80.join(y_train)\n",
    "df_80"
   ]
  },
  {
   "cell_type": "code",
   "execution_count": 24,
   "metadata": {
    "colab": {},
    "colab_type": "code",
    "executionInfo": {
     "elapsed": 28186,
     "status": "ok",
     "timestamp": 1597281949863,
     "user": {
      "displayName": "Daissy Milenys Herrera Posada",
      "photoUrl": "",
      "userId": "07628404927493375084"
     },
     "user_tz": 300
    },
    "id": "NoxyMAZU-bRo"
   },
   "outputs": [],
   "source": [
    "df_ConMM=df_80[(df_80['Inventario']==1.)] #valores de las variables donde ocurre un MM\n",
    "df_ConMM.index=np.arange(len(df_ConMM))"
   ]
  },
  {
   "cell_type": "code",
   "execution_count": 25,
   "metadata": {
    "colab": {},
    "colab_type": "code",
    "executionInfo": {
     "elapsed": 28183,
     "status": "ok",
     "timestamp": 1597281949865,
     "user": {
      "displayName": "Daissy Milenys Herrera Posada",
      "photoUrl": "",
      "userId": "07628404927493375084"
     },
     "user_tz": 300
    },
    "id": "XeXVJ8Pu_QUl"
   },
   "outputs": [],
   "source": [
    "df_SinMM=df_80[(df_80['Inventario']==0.)] #valores de las variables donde No ocurre un MM\n",
    "df_SinMM.index=np.arange(len(df_SinMM))"
   ]
  },
  {
   "cell_type": "markdown",
   "metadata": {
    "colab_type": "text",
    "id": "X4zaugQytP8A"
   },
   "source": [
    "##W+ y W-"
   ]
  },
  {
   "cell_type": "markdown",
   "metadata": {
    "colab_type": "text",
    "id": "7JPyYdHU7HWA"
   },
   "source": [
    "###Curvatura"
   ]
  },
  {
   "cell_type": "code",
   "execution_count": 31,
   "metadata": {
    "colab": {
     "base_uri": "https://localhost:8080/",
     "height": 34
    },
    "colab_type": "code",
    "executionInfo": {
     "elapsed": 28386,
     "status": "ok",
     "timestamp": 1597281950088,
     "user": {
      "displayName": "Daissy Milenys Herrera Posada",
      "photoUrl": "",
      "userId": "07628404927493375084"
     },
     "user_tz": 300
    },
    "id": "pTVA5NOVtTE5",
    "outputId": "2586e018-9841-4de9-b312-bad73b008c44"
   },
   "outputs": [
    {
     "name": "stdout",
     "output_type": "stream",
     "text": [
      "35 345 227 202 20 320 26 27 22 1224\n"
     ]
    }
   ],
   "source": [
    "#Con MM\n",
    "aC_Curv=bC_Curv=cC_Curv=dC_Curv=eC_Curv=fC_Curv=gC_Curv=hC_Curv=iC_Curv=0\n",
    "for i in np.arange(len(df_ConMM['Curvatura'])):\n",
    "        if df_ConMM['Curvatura'][i]==1.:\n",
    "              aC_Curv=aC_Curv+1\n",
    "        elif df_ConMM['Curvatura'][i]==2.:\n",
    "              bC_Curv=bC_Curv+1\n",
    "        elif df_ConMM['Curvatura'][i]==3.:\n",
    "              cC_Curv=cC_Curv+1\n",
    "        elif df_ConMM['Curvatura'][i]==4.:\n",
    "              dC_Curv=dC_Curv+1\n",
    "        elif df_ConMM['Curvatura'][i]==5.:\n",
    "              eC_Curv=eC_Curv+1   \n",
    "        elif df_ConMM['Curvatura'][i]==6.:\n",
    "              fC_Curv=fC_Curv+1\n",
    "        elif df_ConMM['Curvatura'][i]==7.:\n",
    "              gC_Curv=gC_Curv+1\n",
    "        elif df_ConMM['Curvatura'][i]==8.:\n",
    "              hC_Curv=hC_Curv+1\n",
    "        elif df_ConMM['Curvatura'][i]==9.:\n",
    "              iC_Curv=iC_Curv+1    \n",
    "\n",
    "totalC_Curv=aC_Curv+bC_Curv+cC_Curv+dC_Curv+eC_Curv+fC_Curv+gC_Curv+hC_Curv+iC_Curv\n",
    "list_clases_ConMM_Curv=[aC_Curv,bC_Curv,cC_Curv,dC_Curv,eC_Curv,fC_Curv,gC_Curv,hC_Curv,iC_Curv]\n",
    "print(aC_Curv,bC_Curv,cC_Curv,dC_Curv,eC_Curv,fC_Curv,gC_Curv,hC_Curv,iC_Curv,totalC_Curv)"
   ]
  },
  {
   "cell_type": "code",
   "execution_count": 34,
   "metadata": {
    "colab": {
     "base_uri": "https://localhost:8080/",
     "height": 34
    },
    "colab_type": "code",
    "executionInfo": {
     "elapsed": 51503,
     "status": "ok",
     "timestamp": 1597281973229,
     "user": {
      "displayName": "Daissy Milenys Herrera Posada",
      "photoUrl": "",
      "userId": "07628404927493375084"
     },
     "user_tz": 300
    },
    "id": "iXYD18ZtwKR3",
    "outputId": "161d41d4-d459-4843-f4b1-a09d02952986"
   },
   "outputs": [
    {
     "name": "stdout",
     "output_type": "stream",
     "text": [
      "12023 105701 74777 60836 5361 106673 10686 5855 5985 387897\n"
     ]
    }
   ],
   "source": [
    "#Sin MM\n",
    "aS_Curv=bS_Curv=cS_Curv=dS_Curv=eS_Curv=fS_Curv=gS_Curv=hS_Curv=iS_Curv=0\n",
    "for i in np.arange(len(df_SinMM['Curvatura'])):\n",
    "        if df_SinMM['Curvatura'][i]==1.:\n",
    "              aS_Curv=aS_Curv+1\n",
    "        elif df_SinMM['Curvatura'][i]==2.:\n",
    "              bS_Curv=bS_Curv+1\n",
    "        elif df_SinMM['Curvatura'][i]==3.:\n",
    "              cS_Curv=cS_Curv+1\n",
    "        elif df_SinMM['Curvatura'][i]==4.:\n",
    "              dS_Curv=dS_Curv+1\n",
    "        elif df_SinMM['Curvatura'][i]==5.:\n",
    "              eS_Curv=eS_Curv+1\n",
    "        elif df_SinMM['Curvatura'][i]==6.:\n",
    "              fS_Curv=fS_Curv+1\n",
    "        elif df_SinMM['Curvatura'][i]==7.:\n",
    "              gS_Curv=gS_Curv+1\n",
    "        elif df_SinMM['Curvatura'][i]==8.:\n",
    "              hS_Curv=hS_Curv+1\n",
    "        elif df_SinMM['Curvatura'][i]==9.:\n",
    "              iS_Curv=iS_Curv+1\n",
    "\n",
    "totalS_Curv=aS_Curv+bS_Curv+cS_Curv+dS_Curv+eS_Curv+fS_Curv+gS_Curv+hS_Curv+iS_Curv\n",
    "list_clases_SinMM_Curv=[aS_Curv,bS_Curv,cS_Curv,dS_Curv,eS_Curv,fS_Curv,gS_Curv,hS_Curv,iS_Curv]\n",
    "print(aS_Curv,bS_Curv,cS_Curv,dS_Curv,eS_Curv,fS_Curv,gS_Curv,hS_Curv,iS_Curv,totalS_Curv)"
   ]
  },
  {
   "cell_type": "code",
   "execution_count": 35,
   "metadata": {
    "colab": {
     "base_uri": "https://localhost:8080/",
     "height": 34
    },
    "colab_type": "code",
    "executionInfo": {
     "elapsed": 51480,
     "status": "ok",
     "timestamp": 1597281973232,
     "user": {
      "displayName": "Daissy Milenys Herrera Posada",
      "photoUrl": "",
      "userId": "07628404927493375084"
     },
     "user_tz": 300
    },
    "id": "IL1aY0SW8WcX",
    "outputId": "dee45b2a-263d-4f14-a33e-a0ce733990c5"
   },
   "outputs": [
    {
     "data": {
      "text/plain": [
       "True"
      ]
     },
     "execution_count": 35,
     "metadata": {},
     "output_type": "execute_result"
    }
   ],
   "source": [
    "totalC_Curv+totalS_Curv==len(df_80)"
   ]
  },
  {
   "cell_type": "code",
   "execution_count": 38,
   "metadata": {
    "colab": {
     "base_uri": "https://localhost:8080/",
     "height": 323
    },
    "colab_type": "code",
    "executionInfo": {
     "elapsed": 51462,
     "status": "ok",
     "timestamp": 1597281973234,
     "user": {
      "displayName": "Daissy Milenys Herrera Posada",
      "photoUrl": "",
      "userId": "07628404927493375084"
     },
     "user_tz": 300
    },
    "id": "FAMPS4hJOMe7",
    "outputId": "1d3300b5-1f27-4f4d-d02d-ef54c20ca603"
   },
   "outputs": [
    {
     "name": "stdout",
     "output_type": "stream",
     "text": [
      "35 1189 12023 375874\n",
      "-0.08061304311166498 0.0024742932362502024 -0.08308733634791518\n",
      "345 879 105701 282196\n",
      "0.03379044085367618 -0.01295658989694964 0.04674703075062582\n",
      "227 997 74777 313120\n",
      "-0.038699956192612225 0.00902464370576557 -0.047724599898377795\n",
      "202 1022 60836 327061\n",
      "0.05094635578277593 -0.009769549687185434 0.06071590546996137\n",
      "20 1204 5361 382536\n",
      "0.16744212610028375 -0.002557763224401786 0.16999988932468554\n",
      "320 904 106673 281224\n",
      "-0.05058670717757117 0.01853823298293545 -0.06912494016050662\n",
      "26 1198 10686 377211\n",
      "-0.25997755812240403 0.0064644434848516045 -0.2664420016072556\n",
      "27 1197 5855 382042\n",
      "0.3794012463463419 -0.007096467257088501 0.38649771360343044\n",
      "22 1202 5985 381912\n",
      "0.15264649174007272 -0.0025877230891461506 0.15523421482921887\n"
     ]
    }
   ],
   "source": [
    "Curvatura_Reclass=Curvatura\n",
    "#El contraste\n",
    "contraste_Curv=[]\n",
    "for i in np.arange(len(list_clases_SinMM_Curv)):\n",
    "    if list_clases_ConMM_Curv[i]==0:\n",
    "        x1_Curv=0.01\n",
    "    else:\n",
    "        x1_Curv=list_clases_ConMM_Curv[i] #Con MM en una clase\n",
    "    \n",
    "    x2_Curv=totalC_Curv-list_clases_ConMM_Curv[i] #Con MM en el resto de las clases\n",
    "\n",
    "    x3_Curv=list_clases_SinMM_Curv[i] #Sin MM en una clase\n",
    "    x4_Curv=totalS_Curv-list_clases_SinMM_Curv[i] #Sin MM el resto de las clases\n",
    "    print(x1_Curv,x2_Curv,x3_Curv,x4_Curv)\n",
    "\n",
    "    wp_Curv=np.log((x1_Curv/(x1_Curv+x2_Curv))/(x3_Curv/(x3_Curv+x4_Curv)))\n",
    "    wn_Curv=np.log((x2_Curv/(x1_Curv+x2_Curv))/(x4_Curv/(x3_Curv+x4_Curv)))\n",
    "\n",
    "    cont_Curv=wp_Curv-wn_Curv\n",
    "    print(wp_Curv,wn_Curv,cont_Curv)\n",
    "    contraste_Curv.append(cont_Curv)\n",
    "    Curvatura_Reclass=np.where(Curvatura_Reclass==i+1,cont_Curv,Curvatura_Reclass)\n"
   ]
  },
  {
   "cell_type": "markdown",
   "metadata": {
    "colab_type": "text",
    "id": "8_6Mgh3D_pZ9"
   },
   "source": [
    "###DDS"
   ]
  },
  {
   "cell_type": "code",
   "execution_count": 39,
   "metadata": {
    "colab": {
     "base_uri": "https://localhost:8080/",
     "height": 34
    },
    "colab_type": "code",
    "executionInfo": {
     "elapsed": 51446,
     "status": "ok",
     "timestamp": 1597281973236,
     "user": {
      "displayName": "Daissy Milenys Herrera Posada",
      "photoUrl": "",
      "userId": "07628404927493375084"
     },
     "user_tz": 300
    },
    "id": "wFkZ49dm_paG",
    "outputId": "6118a2b3-04b0-4563-cb74-29f83a1759fc"
   },
   "outputs": [
    {
     "name": "stdout",
     "output_type": "stream",
     "text": [
      "31 263 314 256 286 74 1224\n"
     ]
    }
   ],
   "source": [
    "#6 clases\n",
    "#Con MM\n",
    "aC_DDS=bC_DDS=cC_DDS=dC_DDS=eC_DDS=fC_DDS=0\n",
    "for i in np.arange(len(df_ConMM['DDS'])):\n",
    "        if df_ConMM['DDS'][i]==1.:\n",
    "              aC_DDS=aC_DDS+1\n",
    "        elif df_ConMM['DDS'][i]==2.:\n",
    "              bC_DDS=bC_DDS+1\n",
    "        elif df_ConMM['DDS'][i]==3.:\n",
    "              cC_DDS=cC_DDS+1\n",
    "        elif df_ConMM['DDS'][i]==4.:\n",
    "              dC_DDS=dC_DDS+1\n",
    "        elif df_ConMM['DDS'][i]==5.:\n",
    "              eC_DDS=eC_DDS+1   \n",
    "        elif df_ConMM['DDS'][i]==6.:\n",
    "              fC_DDS=fC_DDS+1\n",
    "\n",
    "totalC_DDS=aC_DDS+bC_DDS+cC_DDS+dC_DDS+eC_DDS+fC_DDS\n",
    "list_clases_ConMM_DDS=[aC_DDS,bC_DDS,cC_DDS,dC_DDS,eC_DDS,fC_DDS]\n",
    "print(aC_DDS,bC_DDS,cC_DDS,dC_DDS,eC_DDS,fC_DDS,totalC_DDS)"
   ]
  },
  {
   "cell_type": "code",
   "execution_count": 40,
   "metadata": {
    "colab": {
     "base_uri": "https://localhost:8080/",
     "height": 34
    },
    "colab_type": "code",
    "executionInfo": {
     "elapsed": 71950,
     "status": "ok",
     "timestamp": 1597281993761,
     "user": {
      "displayName": "Daissy Milenys Herrera Posada",
      "photoUrl": "",
      "userId": "07628404927493375084"
     },
     "user_tz": 300
    },
    "id": "Rq5uvC89_paN",
    "outputId": "27199a71-38fb-40bf-b27f-8b666204adfc"
   },
   "outputs": [
    {
     "name": "stdout",
     "output_type": "stream",
     "text": [
      "37812 95684 75505 78847 71258 28791 387897\n"
     ]
    }
   ],
   "source": [
    "#Sin MM\n",
    "aS_DDS=bS_DDS=cS_DDS=dS_DDS=eS_DDS=fS_DDS=0\n",
    "for i in np.arange(len(df_SinMM['DDS'])):\n",
    "        if df_SinMM['DDS'][i]==1.:\n",
    "              aS_DDS=aS_DDS+1\n",
    "        elif df_SinMM['DDS'][i]==2.:\n",
    "              bS_DDS=bS_DDS+1\n",
    "        elif df_SinMM['DDS'][i]==3.:\n",
    "              cS_DDS=cS_DDS+1\n",
    "        elif df_SinMM['DDS'][i]==4.:\n",
    "              dS_DDS=dS_DDS+1\n",
    "        elif df_SinMM['DDS'][i]==5.:\n",
    "              eS_DDS=eS_DDS+1\n",
    "        elif df_SinMM['DDS'][i]==6.:\n",
    "              fS_DDS=fS_DDS+1\n",
    "\n",
    "totalS_DDS=aS_DDS+bS_DDS+cS_DDS+dS_DDS+eS_DDS+fS_DDS\n",
    "list_clases_SinMM_DDS=[aS_DDS,bS_DDS,cS_DDS,dS_DDS,eS_DDS,fS_DDS]\n",
    "print(aS_DDS,bS_DDS,cS_DDS,dS_DDS,eS_DDS,fS_DDS,totalS_DDS)"
   ]
  },
  {
   "cell_type": "code",
   "execution_count": 41,
   "metadata": {
    "colab": {
     "base_uri": "https://localhost:8080/",
     "height": 34
    },
    "colab_type": "code",
    "executionInfo": {
     "elapsed": 71930,
     "status": "ok",
     "timestamp": 1597281993764,
     "user": {
      "displayName": "Daissy Milenys Herrera Posada",
      "photoUrl": "",
      "userId": "07628404927493375084"
     },
     "user_tz": 300
    },
    "id": "WbfHWNMd_paS",
    "outputId": "67757b93-c99f-49cd-c718-2f985fcf78f1"
   },
   "outputs": [
    {
     "data": {
      "text/plain": [
       "True"
      ]
     },
     "execution_count": 41,
     "metadata": {},
     "output_type": "execute_result"
    }
   ],
   "source": [
    "totalC_DDS+totalS_DDS==len(df_80)"
   ]
  },
  {
   "cell_type": "code",
   "execution_count": 42,
   "metadata": {
    "colab": {
     "base_uri": "https://localhost:8080/",
     "height": 221
    },
    "colab_type": "code",
    "executionInfo": {
     "elapsed": 71913,
     "status": "ok",
     "timestamp": 1597281993767,
     "user": {
      "displayName": "Daissy Milenys Herrera Posada",
      "photoUrl": "",
      "userId": "07628404927493375084"
     },
     "user_tz": 300
    },
    "id": "68SR9PxV_paV",
    "outputId": "d2912517-c1e5-40c7-f7b4-ef48af5ebcd2"
   },
   "outputs": [
    {
     "name": "stdout",
     "output_type": "stream",
     "text": [
      "31 1193 37812 350085\n",
      "-1.3477789306862982 0.07691081734831531 -1.4246897480346135\n",
      "263 961 95684 292213\n",
      "-0.13803668577908318 0.04135179795974982 -0.17938848373883298\n",
      "314 910 75505 312392\n",
      "0.2760544840721943 -0.07995383254042406 0.35600831661261834\n",
      "256 968 78847 309050\n",
      "0.028528556110551422 -0.007410611437011985 0.035939167547563405\n",
      "286 938 71258 316639\n",
      "0.24054509466403787 -0.06315199729066315 0.303697091954701\n",
      "74 1150 28791 359106\n",
      "-0.20513736770773713 0.014759989218775369 -0.2198973569265125\n"
     ]
    }
   ],
   "source": [
    "DDS_Reclass=DDS\n",
    "#El contraste\n",
    "contraste_DDS=[]\n",
    "for i in np.arange(len(list_clases_SinMM_DDS)):\n",
    "    if list_clases_ConMM_DDS[i]==0:\n",
    "        x1_DDS=0.01\n",
    "    else:\n",
    "        x1_DDS=list_clases_ConMM_DDS[i] #Con MM en una clase\n",
    "    x2_DDS=totalC_DDS-list_clases_ConMM_DDS[i] #Con MM en el resto de las clases\n",
    "    x3_DDS=list_clases_SinMM_DDS[i] #Sin MM en una clase\n",
    "    x4_DDS=totalS_DDS-list_clases_SinMM_DDS[i] #Sin MM el resto de las clases\n",
    "    print(x1_DDS,x2_DDS,x3_DDS,x4_DDS)\n",
    "\n",
    "    wp_DDS=np.log((x1_DDS/(x1_DDS+x2_DDS))/(x3_DDS/(x3_DDS+x4_DDS)))\n",
    "    wn_DDS=np.log((x2_DDS/(x1_DDS+x2_DDS))/(x4_DDS/(x3_DDS+x4_DDS)))\n",
    "    cont_DDS=wp_DDS-wn_DDS\n",
    "    print(wp_DDS,wn_DDS,cont_DDS)\n",
    "    contraste_DDS.append(cont_DDS)\n",
    "    DDS_Reclass=np.where(DDS_Reclass==i+1,cont_DDS,DDS_Reclass)\n"
   ]
  },
  {
   "cell_type": "markdown",
   "metadata": {
    "colab_type": "text",
    "id": "K9eXPO1UBfEw"
   },
   "source": [
    "###Relieve relativo"
   ]
  },
  {
   "cell_type": "code",
   "execution_count": 43,
   "metadata": {
    "colab": {
     "base_uri": "https://localhost:8080/",
     "height": 34
    },
    "colab_type": "code",
    "executionInfo": {
     "elapsed": 71898,
     "status": "ok",
     "timestamp": 1597281993769,
     "user": {
      "displayName": "Daissy Milenys Herrera Posada",
      "photoUrl": "",
      "userId": "07628404927493375084"
     },
     "user_tz": 300
    },
    "id": "RWGT_nwBBI_3",
    "outputId": "6e7a84b1-0b78-4eb9-b074-5ebfbd10bbca"
   },
   "outputs": [
    {
     "name": "stdout",
     "output_type": "stream",
     "text": [
      "181 337 234 251 149 72 1224\n"
     ]
    }
   ],
   "source": [
    "#6 clases\n",
    "#Con MM\n",
    "aC_RR=bC_RR=cC_RR=dC_RR=eC_RR=fC_RR=0\n",
    "for i in np.arange(len(df_ConMM['RR'])):\n",
    "        if df_ConMM['RR'][i]==1.:\n",
    "              aC_RR=aC_RR+1\n",
    "        elif df_ConMM['RR'][i]==2.:\n",
    "              bC_RR=bC_RR+1\n",
    "        elif df_ConMM['RR'][i]==3.:\n",
    "              cC_RR=cC_RR+1\n",
    "        elif df_ConMM['RR'][i]==4.:\n",
    "              dC_RR=dC_RR+1\n",
    "        elif df_ConMM['RR'][i]==5.:\n",
    "              eC_RR=eC_RR+1   \n",
    "        elif df_ConMM['RR'][i]==6.:\n",
    "              fC_RR=fC_RR+1\n",
    "\n",
    "totalC_RR=aC_RR+bC_RR+cC_RR+dC_RR+eC_RR+fC_RR\n",
    "list_clases_ConMM_RR=[aC_RR,bC_RR,cC_RR,dC_RR,eC_RR,fC_RR]\n",
    "print(aC_RR,bC_RR,cC_RR,dC_RR,eC_RR,fC_RR,totalC_RR)"
   ]
  },
  {
   "cell_type": "code",
   "execution_count": 44,
   "metadata": {
    "colab": {
     "base_uri": "https://localhost:8080/",
     "height": 34
    },
    "colab_type": "code",
    "executionInfo": {
     "elapsed": 91294,
     "status": "ok",
     "timestamp": 1597282013183,
     "user": {
      "displayName": "Daissy Milenys Herrera Posada",
      "photoUrl": "",
      "userId": "07628404927493375084"
     },
     "user_tz": 300
    },
    "id": "jtwqXsuyBw08",
    "outputId": "43019a23-c5be-4e40-835c-175b066a90f3"
   },
   "outputs": [
    {
     "name": "stdout",
     "output_type": "stream",
     "text": [
      "67552 66915 65014 109223 51845 27348 387897\n"
     ]
    }
   ],
   "source": [
    "#Sin MM\n",
    "aS_RR=bS_RR=cS_RR=dS_RR=eS_RR=fS_RR=0\n",
    "for i in np.arange(len(df_SinMM['RR'])):\n",
    "        if df_SinMM['RR'][i]==1.:\n",
    "              aS_RR=aS_RR+1\n",
    "        elif df_SinMM['RR'][i]==2.:\n",
    "              bS_RR=bS_RR+1\n",
    "        elif df_SinMM['RR'][i]==3.:\n",
    "              cS_RR=cS_RR+1\n",
    "        elif df_SinMM['RR'][i]==4.:\n",
    "              dS_RR=dS_RR+1\n",
    "        elif df_SinMM['RR'][i]==5.:\n",
    "              eS_RR=eS_RR+1\n",
    "        elif df_SinMM['RR'][i]==6.:\n",
    "              fS_RR=fS_RR+1\n",
    "\n",
    "totalS_RR=aS_RR+bS_RR+cS_RR+dS_RR+eS_RR+fS_RR\n",
    "list_clases_SinMM_RR=[aS_RR,bS_RR,cS_RR,dS_RR,eS_RR,fS_RR]\n",
    "print(aS_RR,bS_RR,cS_RR,dS_RR,eS_RR,fS_RR,totalS_RR)"
   ]
  },
  {
   "cell_type": "code",
   "execution_count": 45,
   "metadata": {
    "colab": {
     "base_uri": "https://localhost:8080/",
     "height": 34
    },
    "colab_type": "code",
    "executionInfo": {
     "elapsed": 91279,
     "status": "ok",
     "timestamp": 1597282013186,
     "user": {
      "displayName": "Daissy Milenys Herrera Posada",
      "photoUrl": "",
      "userId": "07628404927493375084"
     },
     "user_tz": 300
    },
    "id": "quuYtqCeBxXE",
    "outputId": "49389563-fb1c-4167-de81-2190543fa857"
   },
   "outputs": [
    {
     "data": {
      "text/plain": [
       "True"
      ]
     },
     "execution_count": 45,
     "metadata": {},
     "output_type": "execute_result"
    }
   ],
   "source": [
    "totalC_RR+totalS_RR==len(df_80)"
   ]
  },
  {
   "cell_type": "code",
   "execution_count": 46,
   "metadata": {
    "colab": {
     "base_uri": "https://localhost:8080/",
     "height": 221
    },
    "colab_type": "code",
    "executionInfo": {
     "elapsed": 91267,
     "status": "ok",
     "timestamp": 1597282013190,
     "user": {
      "displayName": "Daissy Milenys Herrera Posada",
      "photoUrl": "",
      "userId": "07628404927493375084"
     },
     "user_tz": 300
    },
    "id": "WeVjg5J4Bwjy",
    "outputId": "3b17818f-4d5c-4417-96ba-37d1d23fec91"
   },
   "outputs": [
    {
     "name": "stdout",
     "output_type": "stream",
     "text": [
      "181 1043 67552 320345\n",
      "-0.16354026300839095 0.03131829235806805 -0.194858555366459\n",
      "337 887 66915 320982\n",
      "0.4675201504957174 -0.13267968709013944 0.6001998375858568\n",
      "234 990 65014 322883\n",
      "0.13157886143030917 -0.028724707979352063 0.16030356940966123\n",
      "251 973 109223 278674\n",
      "-0.31707834732010104 0.10120181971788714 -0.4182801670379882\n",
      "149 1075 51845 336052\n",
      "-0.09345181467308888 0.013670408059878661 -0.10712222273296755\n",
      "72 1152 27348 360549\n",
      "-0.18111690364379873 0.012487348829032003 -0.19360425247283072\n"
     ]
    }
   ],
   "source": [
    "RR_Reclass=RR\n",
    "#El contraste\n",
    "contraste_RR=[]\n",
    "for i in np.arange(len(list_clases_SinMM_RR)):\n",
    "    if list_clases_ConMM_RR[i]==0:\n",
    "        x1_RR=0.01\n",
    "    else:\n",
    "        x1_RR=list_clases_ConMM_RR[i] #Con MM en una clase\n",
    "    x2_RR=totalC_RR-list_clases_ConMM_RR[i] #Con MM en el resto de las clases\n",
    "    x3_RR=list_clases_SinMM_RR[i] #Sin MM en una clase\n",
    "    x4_RR=totalS_RR-list_clases_SinMM_RR[i] #Sin MM el resto de las clases\n",
    "    print(x1_RR,x2_RR,x3_RR,x4_RR)\n",
    "\n",
    "    wp_RR=np.log((x1_RR/(x1_RR+x2_RR))/(x3_RR/(x3_RR+x4_RR)))\n",
    "    wn_RR=np.log((x2_RR/(x1_RR+x2_RR))/(x4_RR/(x3_RR+x4_RR)))\n",
    "    cont_RR=wp_RR-wn_RR\n",
    "    print(wp_RR,wn_RR,cont_RR)\n",
    "    contraste_RR.append(cont_RR)\n",
    "    RR_Reclass=np.where(RR_Reclass==i+1,cont_RR,RR_Reclass)"
   ]
  },
  {
   "cell_type": "markdown",
   "metadata": {
    "colab_type": "text",
    "id": "zQh_9hduE_GM"
   },
   "source": [
    "###Pendiente"
   ]
  },
  {
   "cell_type": "code",
   "execution_count": 47,
   "metadata": {
    "colab": {
     "base_uri": "https://localhost:8080/",
     "height": 34
    },
    "colab_type": "code",
    "executionInfo": {
     "elapsed": 91253,
     "status": "ok",
     "timestamp": 1597282013193,
     "user": {
      "displayName": "Daissy Milenys Herrera Posada",
      "photoUrl": "",
      "userId": "07628404927493375084"
     },
     "user_tz": 300
    },
    "id": "8-CrCxXnFC10",
    "outputId": "49eb41a9-49b4-4024-b58b-eaabeee9c018"
   },
   "outputs": [
    {
     "name": "stdout",
     "output_type": "stream",
     "text": [
      "54 235 197 255 229 162 92 1224\n"
     ]
    }
   ],
   "source": [
    "#7 clases\n",
    "#Con MM\n",
    "aC_Slope=bC_Slope=cC_Slope=dC_Slope=eC_Slope=fC_Slope=gC_Slope=0\n",
    "for i in np.arange(len(df_ConMM['Slope'])):\n",
    "        if df_ConMM['Slope'][i]==1.:\n",
    "              aC_Slope=aC_Slope+1\n",
    "        elif df_ConMM['Slope'][i]==2.:\n",
    "              bC_Slope=bC_Slope+1\n",
    "        elif df_ConMM['Slope'][i]==3.:\n",
    "              cC_Slope=cC_Slope+1\n",
    "        elif df_ConMM['Slope'][i]==4.:\n",
    "              dC_Slope=dC_Slope+1\n",
    "        elif df_ConMM['Slope'][i]==5.:\n",
    "              eC_Slope=eC_Slope+1   \n",
    "        elif df_ConMM['Slope'][i]==6.:\n",
    "              fC_Slope=fC_Slope+1\n",
    "        elif df_ConMM['Slope'][i]==7.:\n",
    "              gC_Slope=gC_Slope+1\n",
    "\n",
    "totalC_Slope=aC_Slope+bC_Slope+cC_Slope+dC_Slope+eC_Slope+fC_Slope+gC_Slope\n",
    "list_clases_ConMM_Slope=[aC_Slope,bC_Slope,cC_Slope,dC_Slope,eC_Slope,fC_Slope,gC_Slope]\n",
    "print(aC_Slope,bC_Slope,cC_Slope,dC_Slope,eC_Slope,fC_Slope,gC_Slope,totalC_Slope)"
   ]
  },
  {
   "cell_type": "code",
   "execution_count": 48,
   "metadata": {
    "colab": {
     "base_uri": "https://localhost:8080/",
     "height": 34
    },
    "colab_type": "code",
    "executionInfo": {
     "elapsed": 112664,
     "status": "ok",
     "timestamp": 1597282034625,
     "user": {
      "displayName": "Daissy Milenys Herrera Posada",
      "photoUrl": "",
      "userId": "07628404927493375084"
     },
     "user_tz": 300
    },
    "id": "mDNxArbEG4y7",
    "outputId": "51c43c04-52e5-4e48-cceb-2a191bd4444a"
   },
   "outputs": [
    {
     "name": "stdout",
     "output_type": "stream",
     "text": [
      "37773 90552 68592 69043 57909 37381 26647 387897\n"
     ]
    }
   ],
   "source": [
    "#Sin MM\n",
    "aS_Slope=bS_Slope=cS_Slope=dS_Slope=eS_Slope=fS_Slope=gS_Slope=0\n",
    "for i in np.arange(len(df_SinMM['Slope'])):\n",
    "        if df_SinMM['Slope'][i]==1.:\n",
    "              aS_Slope=aS_Slope+1\n",
    "        elif df_SinMM['Slope'][i]==2.:\n",
    "              bS_Slope=bS_Slope+1\n",
    "        elif df_SinMM['Slope'][i]==3.:\n",
    "              cS_Slope=cS_Slope+1\n",
    "        elif df_SinMM['Slope'][i]==4.:\n",
    "              dS_Slope=dS_Slope+1\n",
    "        elif df_SinMM['Slope'][i]==5.:\n",
    "              eS_Slope=eS_Slope+1\n",
    "        elif df_SinMM['Slope'][i]==6.:\n",
    "              fS_Slope=fS_Slope+1\n",
    "        elif df_SinMM['Slope'][i]==7.:\n",
    "              gS_Slope=gS_Slope+1\n",
    "\n",
    "totalS_Slope=aS_Slope+bS_Slope+cS_Slope+dS_Slope+eS_Slope+fS_Slope+gS_Slope\n",
    "list_clases_SinMM_Slope=[aS_Slope,bS_Slope,cS_Slope,dS_Slope,eS_Slope,fS_Slope,gS_Slope]\n",
    "print(aS_Slope,bS_Slope,cS_Slope,dS_Slope,eS_Slope,fS_Slope,gS_Slope,totalS_Slope)"
   ]
  },
  {
   "cell_type": "code",
   "execution_count": 49,
   "metadata": {
    "colab": {
     "base_uri": "https://localhost:8080/",
     "height": 34
    },
    "colab_type": "code",
    "executionInfo": {
     "elapsed": 112645,
     "status": "ok",
     "timestamp": 1597282034626,
     "user": {
      "displayName": "Daissy Milenys Herrera Posada",
      "photoUrl": "",
      "userId": "07628404927493375084"
     },
     "user_tz": 300
    },
    "id": "GhEJvH4OHCCD",
    "outputId": "d22efa18-b716-48a4-bf19-c046c973b443"
   },
   "outputs": [
    {
     "data": {
      "text/plain": [
       "True"
      ]
     },
     "execution_count": 49,
     "metadata": {},
     "output_type": "execute_result"
    }
   ],
   "source": [
    "totalC_Slope+totalS_Slope==len(df_80)"
   ]
  },
  {
   "cell_type": "code",
   "execution_count": 50,
   "metadata": {
    "colab": {
     "base_uri": "https://localhost:8080/",
     "height": 255
    },
    "colab_type": "code",
    "executionInfo": {
     "elapsed": 112592,
     "status": "ok",
     "timestamp": 1597282034627,
     "user": {
      "displayName": "Daissy Milenys Herrera Posada",
      "photoUrl": "",
      "userId": "07628404927493375084"
     },
     "user_tz": 300
    },
    "id": "QGk5wE_5HHCJ",
    "outputId": "c830f698-8672-4726-e69d-a55c036a1752"
   },
   "outputs": [
    {
     "name": "stdout",
     "output_type": "stream",
     "text": [
      "54 1170 37773 350124\n",
      "-0.7917501377317053 0.05733202773011486 -0.8490821654618201\n",
      "235 989 90552 297345\n",
      "-0.19547837979426666 0.052661628204121715 -0.24814000799838837\n",
      "197 1027 68592 319305\n",
      "-0.09411180372593918 0.019110828467500788 -0.11322263219343996\n",
      "255 969 69043 318854\n",
      "0.1573944236483207 -0.03760832848402741 0.19500275213234813\n",
      "229 995 57909 329988\n",
      "0.2257095680320852 -0.045453175612702956 0.27116274364478815\n",
      "162 1062 37381 350516\n",
      "0.3172941586805531 -0.04063677531193315 0.35793093399248627\n",
      "92 1132 26647 361250\n",
      "0.08997238052187091 -0.006968603271820217 0.09694098379369114\n"
     ]
    }
   ],
   "source": [
    "Slope_Reclass=Slope\n",
    "#El contraste\n",
    "contraste_Slope=[]\n",
    "for i in np.arange(len(list_clases_SinMM_Slope)):\n",
    "    if list_clases_ConMM_Slope[i]==0:\n",
    "        x1_Slope=0.01\n",
    "    else:\n",
    "        x1_Slope=list_clases_ConMM_Slope[i] #Con MM en una clase\n",
    "    x2_Slope=totalC_Slope-list_clases_ConMM_Slope[i] #Con MM en el resto de las clases\n",
    "    x3_Slope=list_clases_SinMM_Slope[i] #Sin MM en una clase\n",
    "    x4_Slope=totalS_Slope-list_clases_SinMM_Slope[i] #Sin MM el resto de las clases\n",
    "    print(x1_Slope,x2_Slope,x3_Slope,x4_Slope)\n",
    "\n",
    "    wp_Slope=np.log((x1_Slope/(x1_Slope+x2_Slope))/(x3_Slope/(x3_Slope+x4_Slope)))\n",
    "    wn_Slope=np.log((x2_Slope/(x1_Slope+x2_Slope))/(x4_Slope/(x3_Slope+x4_Slope)))\n",
    "    cont_Slope=wp_Slope-wn_Slope\n",
    "    print(wp_Slope,wn_Slope,cont_Slope)\n",
    "    contraste_Slope.append(cont_Slope)\n",
    "    Slope_Reclass=np.where(Slope_Reclass==i+1,cont_Slope,Slope_Reclass)"
   ]
  },
  {
   "cell_type": "markdown",
   "metadata": {
    "colab_type": "text",
    "id": "kKoihVKfcIOm"
   },
   "source": [
    "###Litología"
   ]
  },
  {
   "cell_type": "code",
   "execution_count": 51,
   "metadata": {
    "colab": {
     "base_uri": "https://localhost:8080/",
     "height": 34
    },
    "colab_type": "code",
    "executionInfo": {
     "elapsed": 112536,
     "status": "ok",
     "timestamp": 1597282034630,
     "user": {
      "displayName": "Daissy Milenys Herrera Posada",
      "photoUrl": "",
      "userId": "07628404927493375084"
     },
     "user_tz": 300
    },
    "id": "App-xWaGc3f6",
    "outputId": "e49bf690-037a-48a0-a89d-0c370840400d"
   },
   "outputs": [
    {
     "name": "stdout",
     "output_type": "stream",
     "text": [
      "163 359 547 129 0 0 26 1224\n"
     ]
    }
   ],
   "source": [
    "#7 clases\n",
    "#Con MM\n",
    "aCLit=bCLit=cCLit=dCLit=eCLit=fCLit=gCLit=0\n",
    "for i in np.arange(len(df_ConMM['Litología'])):\n",
    "        if df_ConMM['Litología'][i]==1.:\n",
    "              aCLit=aCLit+1\n",
    "        elif df_ConMM['Litología'][i]==2.:\n",
    "              bCLit=bCLit+1\n",
    "        elif df_ConMM['Litología'][i]==3.:\n",
    "              cCLit=cCLit+1\n",
    "        elif df_ConMM['Litología'][i]==4.:\n",
    "              dCLit=dCLit+1\n",
    "        elif df_ConMM['Litología'][i]==5.:\n",
    "              eCLit=eCLit+1   \n",
    "        elif df_ConMM['Litología'][i]==6.:\n",
    "              fCLit=fCLit+1\n",
    "        elif df_ConMM['Litología'][i]==7.:\n",
    "              gCLit=gCLit+1\n",
    "\n",
    "totalCLit=aCLit+bCLit+cCLit+dCLit+eCLit+fCLit+gCLit\n",
    "list_clases_ConMMLit=[aCLit,bCLit,cCLit,dCLit,eCLit,fCLit,gCLit]\n",
    "print(aCLit,bCLit,cCLit,dCLit,eCLit,fCLit,gCLit,totalCLit)"
   ]
  },
  {
   "cell_type": "code",
   "execution_count": 52,
   "metadata": {
    "colab": {
     "base_uri": "https://localhost:8080/",
     "height": 34
    },
    "colab_type": "code",
    "executionInfo": {
     "elapsed": 129369,
     "status": "ok",
     "timestamp": 1597282051499,
     "user": {
      "displayName": "Daissy Milenys Herrera Posada",
      "photoUrl": "",
      "userId": "07628404927493375084"
     },
     "user_tz": 300
    },
    "id": "HPfB6JdGc3gH",
    "outputId": "f409a2da-a02f-4fcd-8360-811669a39fd0"
   },
   "outputs": [
    {
     "name": "stdout",
     "output_type": "stream",
     "text": [
      "70943 59419 158767 94375 150 417 3826 387897\n"
     ]
    }
   ],
   "source": [
    "#Sin MM\n",
    "aSLit=bSLit=cSLit=dSLit=eSLit=fSLit=gSLit=0\n",
    "for i in np.arange(len(df_SinMM['Litología'])):\n",
    "        if df_SinMM['Litología'][i]==1.:\n",
    "              aSLit=aSLit+1\n",
    "        elif df_SinMM['Litología'][i]==2.:\n",
    "              bSLit=bSLit+1\n",
    "        elif df_SinMM['Litología'][i]==3.:\n",
    "              cSLit=cSLit+1\n",
    "        elif df_SinMM['Litología'][i]==4.:\n",
    "              dSLit=dSLit+1\n",
    "        elif df_SinMM['Litología'][i]==5.:\n",
    "              eSLit=eSLit+1\n",
    "        elif df_SinMM['Litología'][i]==6.:\n",
    "              fSLit=fSLit+1\n",
    "        elif df_SinMM['Litología'][i]==7.:\n",
    "              gSLit=gSLit+1\n",
    "\n",
    "totalSLit=aSLit+bSLit+cSLit+dSLit+eSLit+fSLit+gSLit\n",
    "list_clases_SinMMLit=[aSLit,bSLit,cSLit,dSLit,eSLit,fSLit,gSLit]\n",
    "print(aSLit,bSLit,cSLit,dSLit,eSLit,fSLit,gSLit,totalSLit)"
   ]
  },
  {
   "cell_type": "code",
   "execution_count": 53,
   "metadata": {
    "colab": {
     "base_uri": "https://localhost:8080/",
     "height": 34
    },
    "colab_type": "code",
    "executionInfo": {
     "elapsed": 129340,
     "status": "ok",
     "timestamp": 1597282051501,
     "user": {
      "displayName": "Daissy Milenys Herrera Posada",
      "photoUrl": "",
      "userId": "07628404927493375084"
     },
     "user_tz": 300
    },
    "id": "Hj1F9fmmc3gQ",
    "outputId": "801f57a8-65da-4441-ddf2-927f1338a506"
   },
   "outputs": [
    {
     "data": {
      "text/plain": [
       "True"
      ]
     },
     "execution_count": 53,
     "metadata": {},
     "output_type": "execute_result"
    }
   ],
   "source": [
    "totalCLit+totalSLit==len(df_80)"
   ]
  },
  {
   "cell_type": "code",
   "execution_count": 54,
   "metadata": {
    "colab": {
     "base_uri": "https://localhost:8080/",
     "height": 255
    },
    "colab_type": "code",
    "executionInfo": {
     "elapsed": 129321,
     "status": "ok",
     "timestamp": 1597282051504,
     "user": {
      "displayName": "Daissy Milenys Herrera Posada",
      "photoUrl": "",
      "userId": "07628404927493375084"
     },
     "user_tz": 300
    },
    "id": "Na39Q5qcc3gY",
    "outputId": "dff78675-8008-46df-9edd-bf7c91edce33"
   },
   "outputs": [
    {
     "name": "stdout",
     "output_type": "stream",
     "text": [
      "163 1061 70943 316954\n",
      "-0.31726615951138276 0.0590708630680249 -0.37633702257940765\n",
      "359 865 59419 328478\n",
      "0.6495687253375129 -0.18087998027775973 0.8304487056152726\n",
      "547 677 158767 229130\n",
      "0.08787146116006272 -0.06575787776728267 0.1536293389273454\n",
      "129 1095 94375 293522\n",
      "-0.8366034258158231 0.16741742577274765 -1.004020851588571\n",
      "0.01 1224 150 387747\n",
      "-3.8571979936117833 0.0003786054798872757 -3.8575765990916704\n",
      "0.01 1224 417 387480\n",
      "-4.879648921314329 0.0010674360045139926 -4.8807163573188435\n",
      "26 1198 3826 384071\n",
      "0.7671370443951143 -0.011558275262844177 0.7786953196579585\n"
     ]
    }
   ],
   "source": [
    "Litologia_Reclass=Litologia\n",
    "#El contraste\n",
    "contrasteLit=[]\n",
    "for i in np.arange(len(list_clases_SinMMLit)):\n",
    "    if list_clases_ConMMLit[i]==0:\n",
    "        x1Lit=0.01\n",
    "    else:\n",
    "        x1Lit=list_clases_ConMMLit[i] #Con MM en una clase\n",
    "    x2Lit=totalCLit-list_clases_ConMMLit[i] #Con MM en el resto de las clases\n",
    "    x3Lit=list_clases_SinMMLit[i] #Sin MM en una clase\n",
    "    x4Lit=totalSLit-list_clases_SinMMLit[i] #Sin MM el resto de las clases\n",
    "    print(x1Lit,x2Lit,x3Lit,x4Lit)\n",
    "\n",
    "    wpLit=np.log((x1Lit/(x1Lit+x2Lit))/(x3Lit/(x3Lit+x4Lit)))\n",
    "    wnLit=np.log((x2Lit/(x1Lit+x2Lit))/(x4Lit/(x3Lit+x4Lit)))\n",
    "    contLit=wpLit-wnLit\n",
    "    print(wpLit,wnLit,contLit)\n",
    "    contrasteLit.append(contLit)\n",
    "    Litologia_Reclass=np.where(Litologia_Reclass==i+1,contLit,Litologia_Reclass)\n"
   ]
  },
  {
   "cell_type": "markdown",
   "metadata": {
    "colab_type": "text",
    "id": "rsH59FrOcIOr"
   },
   "source": [
    "###Cambio de Coberturas"
   ]
  },
  {
   "cell_type": "code",
   "execution_count": 55,
   "metadata": {
    "colab": {
     "base_uri": "https://localhost:8080/",
     "height": 34
    },
    "colab_type": "code",
    "executionInfo": {
     "elapsed": 129292,
     "status": "ok",
     "timestamp": 1597282051506,
     "user": {
      "displayName": "Daissy Milenys Herrera Posada",
      "photoUrl": "",
      "userId": "07628404927493375084"
     },
     "user_tz": 300
    },
    "id": "23Xs44LfeTvu",
    "outputId": "2bf2ac26-6d34-47fd-da2e-8e6fe6491cfa"
   },
   "outputs": [
    {
     "name": "stdout",
     "output_type": "stream",
     "text": [
      "0 0 412 139 69 119 178 138 22 66 81 1224\n"
     ]
    }
   ],
   "source": [
    "#11 clases [ 3.  4.  6.  7.  8. 10. 11. 12. 13. 14. 15.]\n",
    "#Con MM\n",
    "aC_CambioCob=bC_CambioCob=cC_CambioCob=dC_CambioCob=eC_CambioCob=fC_CambioCob=gC_CambioCob=hC_CambioCob=iC_CambioCob=jC_CambioCob=kC_CambioCob=0\n",
    "for i in np.arange(len(df_ConMM['CambioCob'])):\n",
    "        if df_ConMM['CambioCob'][i]==3.:\n",
    "              aC_CambioCob=aC_CambioCob+1\n",
    "        elif df_ConMM['CambioCob'][i]==4.:\n",
    "              bC_CambioCob=bC_CambioCob+1\n",
    "        elif df_ConMM['CambioCob'][i]==6.:\n",
    "              cC_CambioCob=cC_CambioCob+1\n",
    "        elif df_ConMM['CambioCob'][i]==7.:\n",
    "              dC_CambioCob=dC_CambioCob+1\n",
    "        elif df_ConMM['CambioCob'][i]==8.:\n",
    "              eC_CambioCob=eC_CambioCob+1   \n",
    "        elif df_ConMM['CambioCob'][i]==10.:\n",
    "              fC_CambioCob=fC_CambioCob+1\n",
    "        elif df_ConMM['CambioCob'][i]==11.:\n",
    "              gC_CambioCob=gC_CambioCob+1\n",
    "        elif df_ConMM['CambioCob'][i]==12.:\n",
    "              hC_CambioCob=hC_CambioCob+1\n",
    "        elif df_ConMM['CambioCob'][i]==13.:\n",
    "              iC_CambioCob=iC_CambioCob+1    \n",
    "        elif df_ConMM['CambioCob'][i]==14.:\n",
    "              jC_CambioCob=jC_CambioCob+1    \n",
    "        elif df_ConMM['CambioCob'][i]==15.:\n",
    "              kC_CambioCob=kC_CambioCob+1    \n",
    "\n",
    "totalC_CambioCob=aC_CambioCob+bC_CambioCob+cC_CambioCob+dC_CambioCob+eC_CambioCob+fC_CambioCob+gC_CambioCob+hC_CambioCob+iC_CambioCob+jC_CambioCob+kC_CambioCob\n",
    "list_clases_ConMM_CambioCob=[aC_CambioCob,bC_CambioCob,cC_CambioCob,dC_CambioCob,eC_CambioCob,fC_CambioCob,gC_CambioCob,hC_CambioCob,iC_CambioCob,jC_CambioCob,kC_CambioCob]\n",
    "print(aC_CambioCob,bC_CambioCob,cC_CambioCob,dC_CambioCob,eC_CambioCob,fC_CambioCob,gC_CambioCob,hC_CambioCob,iC_CambioCob,jC_CambioCob,kC_CambioCob,totalC_CambioCob)"
   ]
  },
  {
   "cell_type": "code",
   "execution_count": 56,
   "metadata": {
    "colab": {
     "base_uri": "https://localhost:8080/",
     "height": 34
    },
    "colab_type": "code",
    "executionInfo": {
     "elapsed": 157421,
     "status": "ok",
     "timestamp": 1597282079661,
     "user": {
      "displayName": "Daissy Milenys Herrera Posada",
      "photoUrl": "",
      "userId": "07628404927493375084"
     },
     "user_tz": 300
    },
    "id": "BdJTMJ0VeTv7",
    "outputId": "48a2d5cb-42a2-4215-86b5-e1215219aa5f"
   },
   "outputs": [
    {
     "name": "stdout",
     "output_type": "stream",
     "text": [
      "22 45 207229 41670 28109 21640 31543 23740 2484 16701 14714 387897\n"
     ]
    }
   ],
   "source": [
    "#11 clases [ 3.  4.  6.  7.  8. 10. 11. 12. 13. 14. 15.]\n",
    "#Sin MM\n",
    "aS_CambioCob=bS_CambioCob=cS_CambioCob=dS_CambioCob=eS_CambioCob=fS_CambioCob=gS_CambioCob=hS_CambioCob=iS_CambioCob=jS_CambioCob=kS_CambioCob=0\n",
    "for i in np.arange(len(df_SinMM['CambioCob'])):\n",
    "        if df_SinMM['CambioCob'][i]==3.:\n",
    "              aS_CambioCob=aS_CambioCob+1\n",
    "        elif df_SinMM['CambioCob'][i]==4.:\n",
    "              bS_CambioCob=bS_CambioCob+1\n",
    "        elif df_SinMM['CambioCob'][i]==6.:\n",
    "              cS_CambioCob=cS_CambioCob+1\n",
    "        elif df_SinMM['CambioCob'][i]==7.:\n",
    "              dS_CambioCob=dS_CambioCob+1\n",
    "        elif df_SinMM['CambioCob'][i]==8.:\n",
    "              eS_CambioCob=eS_CambioCob+1\n",
    "        elif df_SinMM['CambioCob'][i]==10.:\n",
    "              fS_CambioCob=fS_CambioCob+1\n",
    "        elif df_SinMM['CambioCob'][i]==11.:\n",
    "              gS_CambioCob=gS_CambioCob+1\n",
    "        elif df_SinMM['CambioCob'][i]==12.:\n",
    "              hS_CambioCob=hS_CambioCob+1\n",
    "        elif df_SinMM['CambioCob'][i]==13.:\n",
    "              iS_CambioCob=iS_CambioCob+1\n",
    "        elif df_SinMM['CambioCob'][i]==14.:\n",
    "              jS_CambioCob=jS_CambioCob+1\n",
    "        elif df_SinMM['CambioCob'][i]==15.:\n",
    "              kS_CambioCob=kS_CambioCob+1\n",
    "\n",
    "totalS_CambioCob=aS_CambioCob+bS_CambioCob+cS_CambioCob+dS_CambioCob+eS_CambioCob+fS_CambioCob+gS_CambioCob+hS_CambioCob+iS_CambioCob+jS_CambioCob+kS_CambioCob\n",
    "list_clases_SinMM_CambioCob=[aS_CambioCob,bS_CambioCob,cS_CambioCob,dS_CambioCob,eS_CambioCob,fS_CambioCob,gS_CambioCob,hS_CambioCob,iS_CambioCob,jS_CambioCob,kS_CambioCob]\n",
    "print(aS_CambioCob,bS_CambioCob,cS_CambioCob,dS_CambioCob,eS_CambioCob,fS_CambioCob,gS_CambioCob,hS_CambioCob,iS_CambioCob,jS_CambioCob,kS_CambioCob,totalS_CambioCob)"
   ]
  },
  {
   "cell_type": "code",
   "execution_count": 57,
   "metadata": {
    "colab": {
     "base_uri": "https://localhost:8080/",
     "height": 34
    },
    "colab_type": "code",
    "executionInfo": {
     "elapsed": 157406,
     "status": "ok",
     "timestamp": 1597282079664,
     "user": {
      "displayName": "Daissy Milenys Herrera Posada",
      "photoUrl": "",
      "userId": "07628404927493375084"
     },
     "user_tz": 300
    },
    "id": "9FZv3BRseTwI",
    "outputId": "0eb3d7bb-ce8e-43de-f83a-785804230f42"
   },
   "outputs": [
    {
     "data": {
      "text/plain": [
       "True"
      ]
     },
     "execution_count": 57,
     "metadata": {},
     "output_type": "execute_result"
    }
   ],
   "source": [
    "totalC_CambioCob+totalS_CambioCob==len(df_80)"
   ]
  },
  {
   "cell_type": "code",
   "execution_count": 69,
   "metadata": {
    "colab": {
     "base_uri": "https://localhost:8080/",
     "height": 391
    },
    "colab_type": "code",
    "executionInfo": {
     "elapsed": 157389,
     "status": "ok",
     "timestamp": 1597282079667,
     "user": {
      "displayName": "Daissy Milenys Herrera Posada",
      "photoUrl": "",
      "userId": "07628404927493375084"
     },
     "user_tz": 300
    },
    "id": "D1G6nnqqeTwS",
    "outputId": "7ada83c3-d8c5-46bd-885b-b5ab4f2f6e34"
   },
   "outputs": [
    {
     "name": "stdout",
     "output_type": "stream",
     "text": [
      "3.0\n",
      "0.01 1224 22 387875\n",
      "-1.9376051528738436 4.854779415373944e-05 -1.9376537006679972\n",
      "4.0\n",
      "0.01 1224 45 387852\n",
      "-2.6532251892858474 0.00010784700639400913 -2.6533330362922416\n",
      "6.0\n",
      "412 812 207229 180668\n",
      "-0.4619407352403879 0.35369962473526667 -0.8156403599756545\n",
      "7.0\n",
      "139 1085 41670 346227\n",
      "0.05555286508802308 -0.006898985936211266 0.062451851024234346\n",
      "8.0\n",
      "69 1155 28109 359788\n",
      "-0.25112292776806155 0.017201031249486038 -0.2683239590175476\n",
      "10.0\n",
      "119 1105 21640 366257\n",
      "0.555440416524942 -0.04487428143307284 0.6003146979580148\n",
      "11.0\n",
      "178 1046 31543 356354\n",
      "0.5812922333609004 -0.07233559678764015 0.6536278301485405\n",
      "12.0\n",
      "138 1086 23740 364157\n",
      "0.6109526733673761 -0.05646821544132105 0.6674208888086972\n",
      "13.0\n",
      "22 1202 2484 385413\n",
      "1.032032666678777 -0.01171299411291167 1.0437456607916886\n",
      "14.0\n",
      "66 1158 16701 371196\n",
      "0.22504652154863866 -0.011420189467282666 0.23646671101592132\n",
      "15.0\n",
      "81 1143 14714 373183\n",
      "0.5565101105540595 -0.0297968747663106 0.5863069853203702\n"
     ]
    }
   ],
   "source": [
    "CambioCob_Reclass=CambioCob\n",
    "#El contraste\n",
    "contraste_CambioCob=[]\n",
    "lis=[ 3.,  4.,  6.,  7.,  8., 10., 11., 12., 13., 14., 15.]\n",
    "for i in np.arange(len(list_clases_SinMM_CambioCob)):\n",
    "    print(lis[i])\n",
    "    if list_clases_ConMM_CambioCob[i]==0:\n",
    "        x1_CambioCob=0.01\n",
    "    else:\n",
    "        x1_CambioCob=list_clases_ConMM_CambioCob[i] #Con MM en una clase\n",
    "        \n",
    "    x2_CambioCob=totalC_CambioCob-list_clases_ConMM_CambioCob[i] #Con MM en el resto de las clases\n",
    "    \n",
    "    x3_CambioCob=list_clases_SinMM_CambioCob[i] #Sin MM en una clase\n",
    "    \n",
    "    x4_CambioCob=totalS_CambioCob-list_clases_SinMM_CambioCob[i] #Sin MM el resto de las clases\n",
    "    \n",
    "    print(x1_CambioCob,x2_CambioCob,x3_CambioCob,x4_CambioCob)\n",
    "\n",
    "    wp_CambioCob=np.log((x1_CambioCob/(x1_CambioCob+x2_CambioCob))/(x3_CambioCob/(x3_CambioCob+x4_CambioCob)))\n",
    "    wn_CambioCob=np.log((x2_CambioCob/(x1_CambioCob+x2_CambioCob))/(x4_CambioCob/(x3_CambioCob+x4_CambioCob)))\n",
    "    cont_CambioCob=wp_CambioCob-wn_CambioCob\n",
    "    print(wp_CambioCob,wn_CambioCob,cont_CambioCob)\n",
    "    contraste_CambioCob.append(cont_CambioCob)\n",
    "    CambioCob_Reclass=np.where(CambioCob_Reclass==lis[i],cont_CambioCob,CambioCob_Reclass)\n"
   ]
  },
  {
   "cell_type": "markdown",
   "metadata": {
    "colab_type": "text",
    "id": "kdvysAR7cIOx"
   },
   "source": [
    "###Fallas"
   ]
  },
  {
   "cell_type": "code",
   "execution_count": 59,
   "metadata": {
    "colab": {
     "base_uri": "https://localhost:8080/",
     "height": 34
    },
    "colab_type": "code",
    "executionInfo": {
     "elapsed": 157363,
     "status": "ok",
     "timestamp": 1597282079669,
     "user": {
      "displayName": "Daissy Milenys Herrera Posada",
      "photoUrl": "",
      "userId": "07628404927493375084"
     },
     "user_tz": 300
    },
    "id": "mdyXerbpfK32",
    "outputId": "f767353c-e04f-4c58-b53a-5f73d696352a"
   },
   "outputs": [
    {
     "name": "stdout",
     "output_type": "stream",
     "text": [
      "153 135 223 186 138 114 164 111 0 1224\n"
     ]
    }
   ],
   "source": [
    "#8 Clases\n",
    "#Con MM\n",
    "aC_Falla=bC_Falla=cC_Falla=dC_Falla=eC_Falla=fC_Falla=gC_Falla=hC_Falla=iC_Falla=0\n",
    "for i in np.arange(len(df_ConMM['Falla'])):\n",
    "        if df_ConMM['Falla'][i]==1.:\n",
    "              aC_Falla=aC_Falla+1\n",
    "        elif df_ConMM['Falla'][i]==2.:\n",
    "              bC_Falla=bC_Falla+1\n",
    "        elif df_ConMM['Falla'][i]==3.:\n",
    "              cC_Falla=cC_Falla+1\n",
    "        elif df_ConMM['Falla'][i]==4.:\n",
    "              dC_Falla=dC_Falla+1\n",
    "        elif df_ConMM['Falla'][i]==5.:\n",
    "              eC_Falla=eC_Falla+1   \n",
    "        elif df_ConMM['Falla'][i]==6.:\n",
    "              fC_Falla=fC_Falla+1\n",
    "        elif df_ConMM['Falla'][i]==7.:\n",
    "              gC_Falla=gC_Falla+1\n",
    "        elif df_ConMM['Falla'][i]==8.:\n",
    "              hC_Falla=hC_Falla+1\n",
    "\n",
    "\n",
    "totalC_Falla=aC_Falla+bC_Falla+cC_Falla+dC_Falla+eC_Falla+fC_Falla+gC_Falla+hC_Falla+iC_Falla\n",
    "list_clases_ConMM_Falla=[aC_Falla,bC_Falla,cC_Falla,dC_Falla,eC_Falla,fC_Falla,gC_Falla,hC_Falla,iC_Falla]\n",
    "print(aC_Falla,bC_Falla,cC_Falla,dC_Falla,eC_Falla,fC_Falla,gC_Falla,hC_Falla,iC_Falla,totalC_Falla)"
   ]
  },
  {
   "cell_type": "code",
   "execution_count": 60,
   "metadata": {
    "colab": {
     "base_uri": "https://localhost:8080/",
     "height": 34
    },
    "colab_type": "code",
    "executionInfo": {
     "elapsed": 185046,
     "status": "ok",
     "timestamp": 1597282107376,
     "user": {
      "displayName": "Daissy Milenys Herrera Posada",
      "photoUrl": "",
      "userId": "07628404927493375084"
     },
     "user_tz": 300
    },
    "id": "tON7WMLYfK4I",
    "outputId": "57c93a5a-f89a-4e0f-80af-f996e8bd8dc0"
   },
   "outputs": [
    {
     "name": "stdout",
     "output_type": "stream",
     "text": [
      "36808 33991 61730 54153 47257 39174 69201 45583 387897\n"
     ]
    }
   ],
   "source": [
    "#Sin MM\n",
    "aS_Falla=bS_Falla=cS_Falla=dS_Falla=eS_Falla=fS_Falla=gS_Falla=hS_Falla=0\n",
    "for i in np.arange(len(df_SinMM['Falla'])):\n",
    "        if df_SinMM['Falla'][i]==1.:\n",
    "              aS_Falla=aS_Falla+1\n",
    "        elif df_SinMM['Falla'][i]==2.:\n",
    "              bS_Falla=bS_Falla+1\n",
    "        elif df_SinMM['Falla'][i]==3.:\n",
    "              cS_Falla=cS_Falla+1\n",
    "        elif df_SinMM['Falla'][i]==4.:\n",
    "              dS_Falla=dS_Falla+1\n",
    "        elif df_SinMM['Falla'][i]==5.:\n",
    "              eS_Falla=eS_Falla+1\n",
    "        elif df_SinMM['Falla'][i]==6.:\n",
    "              fS_Falla=fS_Falla+1\n",
    "        elif df_SinMM['Falla'][i]==7.:\n",
    "              gS_Falla=gS_Falla+1\n",
    "        elif df_SinMM['Falla'][i]==8.:\n",
    "              hS_Falla=hS_Falla+1\n",
    "\n",
    "\n",
    "totalS_Falla=aS_Falla+bS_Falla+cS_Falla+dS_Falla+eS_Falla+fS_Falla+gS_Falla+hS_Falla\n",
    "list_clases_SinMM_Falla=[aS_Falla,bS_Falla,cS_Falla,dS_Falla,eS_Falla,fS_Falla,gS_Falla,hS_Falla]\n",
    "print(aS_Falla,bS_Falla,cS_Falla,dS_Falla,eS_Falla,fS_Falla,gS_Falla,hS_Falla,totalS_Falla)"
   ]
  },
  {
   "cell_type": "code",
   "execution_count": 61,
   "metadata": {
    "colab": {
     "base_uri": "https://localhost:8080/",
     "height": 34
    },
    "colab_type": "code",
    "executionInfo": {
     "elapsed": 185022,
     "status": "ok",
     "timestamp": 1597282107377,
     "user": {
      "displayName": "Daissy Milenys Herrera Posada",
      "photoUrl": "",
      "userId": "07628404927493375084"
     },
     "user_tz": 300
    },
    "id": "8wIwIQmUfK4R",
    "outputId": "de5bd33c-4de1-4a70-d742-20d6c58ebf4d"
   },
   "outputs": [
    {
     "data": {
      "text/plain": [
       "True"
      ]
     },
     "execution_count": 61,
     "metadata": {},
     "output_type": "execute_result"
    }
   ],
   "source": [
    "totalC_Falla+totalS_Falla==len(df_80)"
   ]
  },
  {
   "cell_type": "code",
   "execution_count": 62,
   "metadata": {
    "colab": {
     "base_uri": "https://localhost:8080/",
     "height": 289
    },
    "colab_type": "code",
    "executionInfo": {
     "elapsed": 185002,
     "status": "ok",
     "timestamp": 1597282107378,
     "user": {
      "displayName": "Daissy Milenys Herrera Posada",
      "photoUrl": "",
      "userId": "07628404927493375084"
     },
     "user_tz": 300
    },
    "id": "nPDbaLZ1fK4c",
    "outputId": "e7e61b2d-275d-4a68-a187-75b96f7907fe"
   },
   "outputs": [
    {
     "name": "stdout",
     "output_type": "stream",
     "text": [
      "153 1071 36808 351089\n",
      "0.2755830859309614 -0.03383130473876324 0.30941439066972465\n",
      "135 1089 33991 353906\n",
      "0.23003937213710043 -0.025155840824838807 0.25519521296193926\n",
      "223 1001 61730 326167\n",
      "0.1352621124460076 -0.027794363432991756 0.16305647587899935\n",
      "186 1038 54153 333744\n",
      "0.08479367753046055 -0.014462790907244304 0.09925646843770486\n",
      "138 1086 47257 340640\n",
      "-0.07748672856614866 0.01029067674040478 -0.08777740530655344\n",
      "114 1110 39174 348723\n",
      "-0.08095443564636244 0.008697760914369473 -0.08965219656073191\n",
      "164 1060 69201 318696\n",
      "-0.28628850817037144 0.05264689414167028 -0.3389354023120417\n",
      "111 1113 45583 342314\n",
      "-0.25914426128895646 0.029946284171971285 -0.2890905454609277\n"
     ]
    }
   ],
   "source": [
    "Falla_Reclass=Falla\n",
    "#El contraste\n",
    "contraste_Falla=[]\n",
    "for i in np.arange(len(list_clases_SinMM_Falla)):\n",
    "    if list_clases_ConMM_Falla[i]==0:\n",
    "        x1_Falla=0.01\n",
    "    else:\n",
    "        x1_Falla=list_clases_ConMM_Falla[i] #Con MM en una clase\n",
    "    x2_Falla=totalC_Falla-list_clases_ConMM_Falla[i] #Con MM en el resto de las clases\n",
    "    x3_Falla=list_clases_SinMM_Falla[i] #Sin MM en una clase\n",
    "    x4_Falla=totalS_Falla-list_clases_SinMM_Falla[i] #Sin MM el resto de las clases\n",
    "    print(x1_Falla,x2_Falla,x3_Falla,x4_Falla)\n",
    "\n",
    "    wp_Falla=np.log((x1_Falla/(x1_Falla+x2_Falla))/(x3_Falla/(x3_Falla+x4_Falla)))\n",
    "    wn_Falla=np.log((x2_Falla/(x1_Falla+x2_Falla))/(x4_Falla/(x3_Falla+x4_Falla)))\n",
    "    cont_Falla=wp_Falla-wn_Falla\n",
    "    print(wp_Falla,wn_Falla,cont_Falla)\n",
    "    contraste_Falla.append(cont_Falla)\n",
    "    Falla_Reclass=np.where(Falla_Reclass==i+1,cont_Falla,Falla_Reclass)\n"
   ]
  },
  {
   "cell_type": "markdown",
   "metadata": {
    "colab_type": "text",
    "id": "Q5cGPYqgcIOy"
   },
   "source": [
    "###Cinemático"
   ]
  },
  {
   "cell_type": "code",
   "execution_count": 63,
   "metadata": {
    "colab": {
     "base_uri": "https://localhost:8080/",
     "height": 34
    },
    "colab_type": "code",
    "executionInfo": {
     "elapsed": 1032,
     "status": "ok",
     "timestamp": 1597283696164,
     "user": {
      "displayName": "Daissy Milenys Herrera Posada",
      "photoUrl": "",
      "userId": "07628404927493375084"
     },
     "user_tz": 300
    },
    "id": "m8JJ86zJhHkK",
    "outputId": "2d17e992-daf6-47b4-9862-f51d11981468"
   },
   "outputs": [
    {
     "name": "stdout",
     "output_type": "stream",
     "text": [
      "51 559 5 34 332 22 71 150 1224\n"
     ]
    }
   ],
   "source": [
    "#Con MM\n",
    "aC_Cinem=bC_Cinem=cC_Cinem=dC_Cinem=eC_Cinem=fC_Cinem=gC_Cinem=hC_Cinem=0\n",
    "for i in np.arange(len(df_ConMM['Cinematico'])):\n",
    "        if df_ConMM['Cinematico'][i]==0.:\n",
    "              aC_Cinem=aC_Cinem+1\n",
    "        elif df_ConMM['Cinematico'][i]==1.:\n",
    "              bC_Cinem=bC_Cinem+1\n",
    "        elif df_ConMM['Cinematico'][i]==2.:\n",
    "              cC_Cinem=cC_Cinem+1\n",
    "        elif df_ConMM['Cinematico'][i]==3.:\n",
    "              dC_Cinem=dC_Cinem+1\n",
    "        elif df_ConMM['Cinematico'][i]==4.:\n",
    "              eC_Cinem=eC_Cinem+1\n",
    "        elif df_ConMM['Cinematico'][i]==5.:\n",
    "              fC_Cinem=fC_Cinem+1   \n",
    "        elif df_ConMM['Cinematico'][i]==6.:\n",
    "              gC_Cinem=gC_Cinem+1\n",
    "        elif df_ConMM['Cinematico'][i]==7.:\n",
    "              hC_Cinem=hC_Cinem+1\n",
    "\n",
    "totalC_Cinem=aC_Cinem+bC_Cinem+cC_Cinem+dC_Cinem+eC_Cinem+fC_Cinem+gC_Cinem+hC_Cinem\n",
    "list_clases_ConMM_Cinem=[aC_Cinem,bC_Cinem,cC_Cinem,dC_Cinem,eC_Cinem,fC_Cinem,gC_Cinem,hC_Cinem]\n",
    "print(aC_Cinem,bC_Cinem,cC_Cinem,dC_Cinem,eC_Cinem,fC_Cinem,gC_Cinem,hC_Cinem,totalC_Cinem)"
   ]
  },
  {
   "cell_type": "code",
   "execution_count": 64,
   "metadata": {
    "colab": {
     "base_uri": "https://localhost:8080/",
     "height": 34
    },
    "colab_type": "code",
    "executionInfo": {
     "elapsed": 22910,
     "status": "ok",
     "timestamp": 1597283720445,
     "user": {
      "displayName": "Daissy Milenys Herrera Posada",
      "photoUrl": "",
      "userId": "07628404927493375084"
     },
     "user_tz": 300
    },
    "id": "IGdoWXf0hHkc",
    "outputId": "d5904081-2faf-460e-e91d-712b2136d63f"
   },
   "outputs": [
    {
     "name": "stdout",
     "output_type": "stream",
     "text": [
      "4354 198089 6752 3563 114665 2769 10746 46959 387897\n"
     ]
    }
   ],
   "source": [
    "#Sin MM\n",
    "aS_Cinem=bS_Cinem=cS_Cinem=dS_Cinem=eS_Cinem=fS_Cinem=gS_Cinem=hS_Cinem=0\n",
    "for i in np.arange(len(df_SinMM['Cinematico'])):\n",
    "        if df_SinMM['Cinematico'][i]==0.:\n",
    "              aS_Cinem=aS_Cinem+1\n",
    "        elif df_SinMM['Cinematico'][i]==1.:\n",
    "              bS_Cinem=bS_Cinem+1\n",
    "        elif df_SinMM['Cinematico'][i]==2.:\n",
    "              cS_Cinem=cS_Cinem+1\n",
    "        elif df_SinMM['Cinematico'][i]==3.:\n",
    "              dS_Cinem=dS_Cinem+1\n",
    "        elif df_SinMM['Cinematico'][i]==4.:\n",
    "              eS_Cinem=eS_Cinem+1\n",
    "        elif df_SinMM['Cinematico'][i]==5.:\n",
    "              fS_Cinem=fS_Cinem+1\n",
    "        elif df_SinMM['Cinematico'][i]==6.:\n",
    "              gS_Cinem=gS_Cinem+1\n",
    "        elif df_SinMM['Cinematico'][i]==7.:\n",
    "              hS_Cinem=hS_Cinem+1\n",
    "\n",
    "totalS_Cinem=aS_Cinem+bS_Cinem+cS_Cinem+dS_Cinem+eS_Cinem+fS_Cinem+gS_Cinem+hS_Cinem\n",
    "list_clases_SinMM_Cinem=[aS_Cinem,bS_Cinem,cS_Cinem,dS_Cinem,eS_Cinem,fS_Cinem,gS_Cinem,hS_Cinem]\n",
    "print(aS_Cinem,bS_Cinem,cS_Cinem,dS_Cinem,eS_Cinem,fS_Cinem,gS_Cinem,hS_Cinem,totalS_Cinem)"
   ]
  },
  {
   "cell_type": "code",
   "execution_count": 65,
   "metadata": {
    "colab": {
     "base_uri": "https://localhost:8080/",
     "height": 34
    },
    "colab_type": "code",
    "executionInfo": {
     "elapsed": 692,
     "status": "ok",
     "timestamp": 1597283741077,
     "user": {
      "displayName": "Daissy Milenys Herrera Posada",
      "photoUrl": "",
      "userId": "07628404927493375084"
     },
     "user_tz": 300
    },
    "id": "aRyrQlr6hHkl",
    "outputId": "8b6d2b05-5286-4966-8828-9c531fd01411"
   },
   "outputs": [
    {
     "data": {
      "text/plain": [
       "True"
      ]
     },
     "execution_count": 65,
     "metadata": {},
     "output_type": "execute_result"
    }
   ],
   "source": [
    "totalC_Cinem+totalS_Cinem==len(df_80)"
   ]
  },
  {
   "cell_type": "code",
   "execution_count": 72,
   "metadata": {
    "colab": {
     "base_uri": "https://localhost:8080/",
     "height": 289
    },
    "colab_type": "code",
    "executionInfo": {
     "elapsed": 1126,
     "status": "ok",
     "timestamp": 1597283743461,
     "user": {
      "displayName": "Daissy Milenys Herrera Posada",
      "photoUrl": "",
      "userId": "07628404927493375084"
     },
     "user_tz": 300
    },
    "id": "ggWM5igJhHkt",
    "outputId": "ec29d71c-6a15-46fa-ae94-71fbab8e0d6f"
   },
   "outputs": [
    {
     "name": "stdout",
     "output_type": "stream",
     "text": [
      "0\n",
      "51 1173 4354 383543\n",
      "1.3115910473036636 -0.03127151363955828 1.3428625609432219\n",
      "1\n",
      "559 665 198089 189808\n",
      "-0.11170657410464553 0.10463438312880001 -0.21634095723344554\n",
      "2\n",
      "5 1219 6752 381145\n",
      "-1.449540467467862 0.013466626719662887 -1.4630070941875248\n",
      "3\n",
      "34 1190 3563 384334\n",
      "1.1066180153841558 -0.01894300270755377 1.1255610180917095\n",
      "4\n",
      "332 892 114665 273232\n",
      "-0.08601948740775346 0.03400525882681947 -0.12002474623457293\n",
      "5\n",
      "22 1202 2769 385128\n",
      "0.9234165865611844 -0.010973254078322095 0.9343898406395065\n",
      "6\n",
      "71 1153 10746 377151\n",
      "0.7390066621263792 -0.03166274010030664 0.7706694022266859\n",
      "7\n",
      "150 1074 46959 340938\n",
      "0.012220790913753617 -0.0016949901102658335 0.01391578102401945\n"
     ]
    }
   ],
   "source": [
    "Cinematico_Reclass=Cinematico\n",
    "#El contraste\n",
    "contraste_Cinem=[]\n",
    "a=np.arange(0,8)\n",
    "for i in np.arange(len(list_clases_SinMM_Cinem)):\n",
    "    print(a[i])\n",
    "#     print(list_clases_SinMM_Cinem[i])\n",
    "    if list_clases_ConMM_Cinem[i]==0:\n",
    "        x1_Cinem=0.01\n",
    "    else:\n",
    "        x1_Cinem=list_clases_ConMM_Cinem[i] #Con MM en una clase\n",
    "    x2_Cinem=totalC_Cinem-list_clases_ConMM_Cinem[i] #Con MM en el resto de las clases\n",
    "    x3_Cinem=list_clases_SinMM_Cinem[i] #Sin MM en una clase\n",
    "    x4_Cinem=totalS_Cinem-list_clases_SinMM_Cinem[i] #Sin MM el resto de las clases\n",
    "    print(x1_Cinem,x2_Cinem,x3_Cinem,x4_Cinem)\n",
    "\n",
    "    wp_Cinem=np.log((x1_Cinem/(x1_Cinem+x2_Cinem))/(x3_Cinem/(x3_Cinem+x4_Cinem)))\n",
    "    wn_Cinem=np.log((x2_Cinem/(x1_Cinem+x2_Cinem))/(x4_Cinem/(x3_Cinem+x4_Cinem)))\n",
    "    cont_Cinem=wp_Cinem-wn_Cinem\n",
    "    print(wp_Cinem,wn_Cinem,cont_Cinem)\n",
    "    contraste_Cinem.append(cont_Cinem)\n",
    "    Cinematico_Reclass=np.where(Cinematico_Reclass==i,cont_Cinem,Cinematico_Reclass)\n"
   ]
  },
  {
   "cell_type": "code",
   "execution_count": 150,
   "metadata": {},
   "outputs": [
    {
     "data": {
      "text/plain": [
       "array([-0.266442  , -0.08308734, -0.06912494, -0.0477246 ,  0.04674703,\n",
       "        0.06071591,  0.15523421,  0.16999989,  0.38649771])"
      ]
     },
     "execution_count": 150,
     "metadata": {},
     "output_type": "execute_result"
    }
   ],
   "source": [
    "np.unique(Curvatura_Reclass[~np.isnan(Curvatura_Reclass)])"
   ]
  },
  {
   "cell_type": "code",
   "execution_count": 151,
   "metadata": {},
   "outputs": [
    {
     "data": {
      "text/plain": [
       "array([-1.42468975, -0.21989736, -0.17938848,  0.03593917,  0.30369709,\n",
       "        0.35600832])"
      ]
     },
     "execution_count": 151,
     "metadata": {},
     "output_type": "execute_result"
    }
   ],
   "source": [
    "np.unique(DDS_Reclass[~np.isnan(DDS_Reclass)])"
   ]
  },
  {
   "cell_type": "code",
   "execution_count": 152,
   "metadata": {},
   "outputs": [
    {
     "name": "stdout",
     "output_type": "stream",
     "text": [
      "[-0.41828017 -0.19485856 -0.19360425 -0.10712222  0.16030357  0.60019984]\n"
     ]
    }
   ],
   "source": [
    "print(np.unique(RR_Reclass[~np.isnan(RR_Reclass)])) #Para verificar que si se realizó bien la clasificación"
   ]
  },
  {
   "cell_type": "code",
   "execution_count": 153,
   "metadata": {},
   "outputs": [
    {
     "name": "stdout",
     "output_type": "stream",
     "text": [
      "[-0.84908217 -0.24814001 -0.11322263  0.09694098  0.19500275  0.27116274\n",
      "  0.35793093]\n"
     ]
    }
   ],
   "source": [
    "print(np.unique(Slope_Reclass[~np.isnan(Slope_Reclass)]))"
   ]
  },
  {
   "cell_type": "code",
   "execution_count": 154,
   "metadata": {},
   "outputs": [
    {
     "name": "stdout",
     "output_type": "stream",
     "text": [
      "[-1.00402085 -0.37633702 -0.27554617  0.15362934  0.74759359  0.77869532\n",
      "  0.83044871]\n"
     ]
    }
   ],
   "source": [
    "print(np.unique(Litologia_Reclass[~np.isnan(Litologia_Reclass)]))"
   ]
  },
  {
   "cell_type": "code",
   "execution_count": 155,
   "metadata": {},
   "outputs": [
    {
     "name": "stdout",
     "output_type": "stream",
     "text": [
      "[-0.81564036 -0.26832396  0.06245185  0.23646671  0.58630699  0.6003147\n",
      "  0.65362783  0.66742089  1.04374566  1.95183715  2.66751649]\n"
     ]
    }
   ],
   "source": [
    "print(np.unique(CambioCob_Reclass[~np.isnan(CambioCob_Reclass)]))"
   ]
  },
  {
   "cell_type": "code",
   "execution_count": 156,
   "metadata": {},
   "outputs": [
    {
     "name": "stdout",
     "output_type": "stream",
     "text": [
      "[-0.3389354  -0.28909055 -0.0896522  -0.08777741  0.09925647  0.16305648\n",
      "  0.25519521  0.30941439]\n"
     ]
    }
   ],
   "source": [
    "print(np.unique(Falla_Reclass[~np.isnan(Falla_Reclass)]))"
   ]
  },
  {
   "cell_type": "code",
   "execution_count": 166,
   "metadata": {},
   "outputs": [
    {
     "name": "stdout",
     "output_type": "stream",
     "text": [
      "[-1.46300709 -0.21634096 -0.12002475  0.01391578  0.7706694   0.93438984\n",
      "  1.12556102  1.34286256]\n"
     ]
    }
   ],
   "source": [
    "print(np.unique(Cinematico_Reclass[~np.isnan(Cinematico_Reclass)]))"
   ]
  },
  {
   "cell_type": "markdown",
   "metadata": {
    "colab_type": "text",
    "id": "FTd0vx9Umwkm"
   },
   "source": [
    "##Contraste"
   ]
  },
  {
   "cell_type": "code",
   "execution_count": 67,
   "metadata": {
    "colab": {
     "base_uri": "https://localhost:8080/",
     "height": 390
    },
    "colab_type": "code",
    "executionInfo": {
     "elapsed": 970,
     "status": "ok",
     "timestamp": 1597283747336,
     "user": {
      "displayName": "Daissy Milenys Herrera Posada",
      "photoUrl": "",
      "userId": "07628404927493375084"
     },
     "user_tz": 300
    },
    "id": "-HMJmvQrljEt",
    "outputId": "ea37a640-721f-4585-899a-915ed4aaef7c",
    "scrolled": false
   },
   "outputs": [
    {
     "data": {
      "text/html": [
       "<div>\n",
       "<style scoped>\n",
       "    .dataframe tbody tr th:only-of-type {\n",
       "        vertical-align: middle;\n",
       "    }\n",
       "\n",
       "    .dataframe tbody tr th {\n",
       "        vertical-align: top;\n",
       "    }\n",
       "\n",
       "    .dataframe thead th {\n",
       "        text-align: right;\n",
       "    }\n",
       "</style>\n",
       "<table border=\"1\" class=\"dataframe\">\n",
       "  <thead>\n",
       "    <tr style=\"text-align: right;\">\n",
       "      <th></th>\n",
       "      <th>Slope</th>\n",
       "      <th>DDS</th>\n",
       "      <th>Curvatura</th>\n",
       "      <th>RR</th>\n",
       "      <th>Cinemático</th>\n",
       "      <th>Falla</th>\n",
       "      <th>CambioCob</th>\n",
       "      <th>Litología</th>\n",
       "    </tr>\n",
       "  </thead>\n",
       "  <tbody>\n",
       "    <tr>\n",
       "      <th>0</th>\n",
       "      <td>-0.849082</td>\n",
       "      <td>-1.424690</td>\n",
       "      <td>-0.083087</td>\n",
       "      <td>-0.194859</td>\n",
       "      <td>1.342863</td>\n",
       "      <td>0.309414</td>\n",
       "      <td>-1.937654</td>\n",
       "      <td>-0.376337</td>\n",
       "    </tr>\n",
       "    <tr>\n",
       "      <th>1</th>\n",
       "      <td>-0.248140</td>\n",
       "      <td>-0.179388</td>\n",
       "      <td>0.046747</td>\n",
       "      <td>0.600200</td>\n",
       "      <td>-0.216341</td>\n",
       "      <td>0.255195</td>\n",
       "      <td>-2.653333</td>\n",
       "      <td>0.830449</td>\n",
       "    </tr>\n",
       "    <tr>\n",
       "      <th>2</th>\n",
       "      <td>-0.113223</td>\n",
       "      <td>0.356008</td>\n",
       "      <td>-0.047725</td>\n",
       "      <td>0.160304</td>\n",
       "      <td>-1.463007</td>\n",
       "      <td>0.163056</td>\n",
       "      <td>-0.815640</td>\n",
       "      <td>0.153629</td>\n",
       "    </tr>\n",
       "    <tr>\n",
       "      <th>3</th>\n",
       "      <td>0.195003</td>\n",
       "      <td>0.035939</td>\n",
       "      <td>0.060716</td>\n",
       "      <td>-0.418280</td>\n",
       "      <td>1.125561</td>\n",
       "      <td>0.099256</td>\n",
       "      <td>0.062452</td>\n",
       "      <td>-1.004021</td>\n",
       "    </tr>\n",
       "    <tr>\n",
       "      <th>4</th>\n",
       "      <td>0.271163</td>\n",
       "      <td>0.303697</td>\n",
       "      <td>0.170000</td>\n",
       "      <td>-0.107122</td>\n",
       "      <td>-0.120025</td>\n",
       "      <td>-0.087777</td>\n",
       "      <td>-0.268324</td>\n",
       "      <td>-3.857577</td>\n",
       "    </tr>\n",
       "    <tr>\n",
       "      <th>5</th>\n",
       "      <td>0.357931</td>\n",
       "      <td>-0.219897</td>\n",
       "      <td>-0.069125</td>\n",
       "      <td>-0.193604</td>\n",
       "      <td>0.934390</td>\n",
       "      <td>-0.089652</td>\n",
       "      <td>0.600315</td>\n",
       "      <td>-4.880716</td>\n",
       "    </tr>\n",
       "    <tr>\n",
       "      <th>6</th>\n",
       "      <td>0.096941</td>\n",
       "      <td>NaN</td>\n",
       "      <td>-0.266442</td>\n",
       "      <td>NaN</td>\n",
       "      <td>0.770669</td>\n",
       "      <td>-0.338935</td>\n",
       "      <td>0.653628</td>\n",
       "      <td>0.778695</td>\n",
       "    </tr>\n",
       "    <tr>\n",
       "      <th>7</th>\n",
       "      <td>NaN</td>\n",
       "      <td>NaN</td>\n",
       "      <td>0.386498</td>\n",
       "      <td>NaN</td>\n",
       "      <td>0.013916</td>\n",
       "      <td>-0.289091</td>\n",
       "      <td>0.667421</td>\n",
       "      <td>NaN</td>\n",
       "    </tr>\n",
       "    <tr>\n",
       "      <th>8</th>\n",
       "      <td>NaN</td>\n",
       "      <td>NaN</td>\n",
       "      <td>0.155234</td>\n",
       "      <td>NaN</td>\n",
       "      <td>NaN</td>\n",
       "      <td>NaN</td>\n",
       "      <td>1.043746</td>\n",
       "      <td>NaN</td>\n",
       "    </tr>\n",
       "    <tr>\n",
       "      <th>9</th>\n",
       "      <td>NaN</td>\n",
       "      <td>NaN</td>\n",
       "      <td>NaN</td>\n",
       "      <td>NaN</td>\n",
       "      <td>NaN</td>\n",
       "      <td>NaN</td>\n",
       "      <td>0.236467</td>\n",
       "      <td>NaN</td>\n",
       "    </tr>\n",
       "    <tr>\n",
       "      <th>10</th>\n",
       "      <td>NaN</td>\n",
       "      <td>NaN</td>\n",
       "      <td>NaN</td>\n",
       "      <td>NaN</td>\n",
       "      <td>NaN</td>\n",
       "      <td>NaN</td>\n",
       "      <td>0.586307</td>\n",
       "      <td>NaN</td>\n",
       "    </tr>\n",
       "  </tbody>\n",
       "</table>\n",
       "</div>"
      ],
      "text/plain": [
       "       Slope       DDS  Curvatura        RR  Cinemático     Falla  CambioCob  \\\n",
       "0  -0.849082 -1.424690  -0.083087 -0.194859    1.342863  0.309414  -1.937654   \n",
       "1  -0.248140 -0.179388   0.046747  0.600200   -0.216341  0.255195  -2.653333   \n",
       "2  -0.113223  0.356008  -0.047725  0.160304   -1.463007  0.163056  -0.815640   \n",
       "3   0.195003  0.035939   0.060716 -0.418280    1.125561  0.099256   0.062452   \n",
       "4   0.271163  0.303697   0.170000 -0.107122   -0.120025 -0.087777  -0.268324   \n",
       "5   0.357931 -0.219897  -0.069125 -0.193604    0.934390 -0.089652   0.600315   \n",
       "6   0.096941       NaN  -0.266442       NaN    0.770669 -0.338935   0.653628   \n",
       "7        NaN       NaN   0.386498       NaN    0.013916 -0.289091   0.667421   \n",
       "8        NaN       NaN   0.155234       NaN         NaN       NaN   1.043746   \n",
       "9        NaN       NaN        NaN       NaN         NaN       NaN   0.236467   \n",
       "10       NaN       NaN        NaN       NaN         NaN       NaN   0.586307   \n",
       "\n",
       "    Litología  \n",
       "0   -0.376337  \n",
       "1    0.830449  \n",
       "2    0.153629  \n",
       "3   -1.004021  \n",
       "4   -3.857577  \n",
       "5   -4.880716  \n",
       "6    0.778695  \n",
       "7         NaN  \n",
       "8         NaN  \n",
       "9         NaN  \n",
       "10        NaN  "
      ]
     },
     "execution_count": 67,
     "metadata": {},
     "output_type": "execute_result"
    }
   ],
   "source": [
    "Contraste_df=pd.concat([\n",
    "                        pd.DataFrame(contraste_Slope),\n",
    "                        pd.DataFrame(contraste_DDS),\n",
    "                        pd.DataFrame(contraste_Curv),\n",
    "                        pd.DataFrame(contraste_RR),\n",
    "                        pd.DataFrame(contraste_Cinem),\n",
    "                        pd.DataFrame(contraste_Falla),\n",
    "                        pd.DataFrame(contraste_CambioCob),\n",
    "                        pd.DataFrame(contrasteLit)\n",
    "                        ], axis=1)\n",
    "\n",
    "Contraste_df.columns=[\n",
    "                      'Slope',\n",
    "                      'DDS',\n",
    "                      'Curvatura',\n",
    "                      'RR',\n",
    "                      'Cinemático',\n",
    "                      'Falla',\n",
    "                      'CambioCob',\n",
    "                      'Litología'\n",
    "                      ]\n",
    "\n",
    "Contraste_df\n"
   ]
  },
  {
   "cell_type": "code",
   "execution_count": 68,
   "metadata": {},
   "outputs": [],
   "source": [
    "# Contraste_df.to_excel('G:/Unidades compartidas/ETCRS/IS/Contraste'+'/Contraste_LlanoGeande.xlsx')"
   ]
  }
 ],
 "metadata": {
  "accelerator": "GPU",
  "colab": {
   "authorship_tag": "ABX9TyMSwd64ZTB6NYEcBzAofc34",
   "collapsed_sections": [],
   "name": "Peso de la evidencia_LlanoGrande.ipynb",
   "provenance": [],
   "toc_visible": true
  },
  "kernelspec": {
   "display_name": "Python 3",
   "language": "python",
   "name": "python3"
  },
  "language_info": {
   "codemirror_mode": {
    "name": "ipython",
    "version": 3
   },
   "file_extension": ".py",
   "mimetype": "text/x-python",
   "name": "python",
   "nbconvert_exporter": "python",
   "pygments_lexer": "ipython3",
   "version": "3.7.7"
  }
 },
 "nbformat": 4,
 "nbformat_minor": 1
}
