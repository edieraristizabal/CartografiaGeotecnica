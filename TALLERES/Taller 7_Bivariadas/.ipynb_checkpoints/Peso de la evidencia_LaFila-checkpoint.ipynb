{
 "cells": [
  {
   "cell_type": "code",
   "execution_count": 59,
   "metadata": {
    "colab": {
     "base_uri": "https://localhost:8080/",
     "height": 54
    },
    "colab_type": "code",
    "executionInfo": {
     "elapsed": 2153,
     "status": "ok",
     "timestamp": 1597325624793,
     "user": {
      "displayName": "Daissy Milenys Herrera Posada",
      "photoUrl": "",
      "userId": "07628404927493375084"
     },
     "user_tz": 300
    },
    "id": "FmcHhNJzW0a0",
    "outputId": "73734a1d-7d77-4328-fcac-3b9dd5776fd1"
   },
   "outputs": [],
   "source": [
    "# from google.colab import drive\n",
    "# drive.mount('/content/drive')"
   ]
  },
  {
   "cell_type": "code",
   "execution_count": 60,
   "metadata": {
    "colab": {
     "base_uri": "https://localhost:8080/",
     "height": 35
    },
    "colab_type": "code",
    "executionInfo": {
     "elapsed": 1013,
     "status": "ok",
     "timestamp": 1597325630027,
     "user": {
      "displayName": "Daissy Milenys Herrera Posada",
      "photoUrl": "",
      "userId": "07628404927493375084"
     },
     "user_tz": 300
    },
    "id": "_9yOMYsccUy0",
    "outputId": "e232960c-aca2-4ab8-f212-58406bcd8584"
   },
   "outputs": [],
   "source": [
    "# %pwd"
   ]
  },
  {
   "cell_type": "code",
   "execution_count": 61,
   "metadata": {
    "colab": {
     "base_uri": "https://localhost:8080/",
     "height": 34
    },
    "colab_type": "code",
    "executionInfo": {
     "elapsed": 2830,
     "status": "ok",
     "timestamp": 1597325637483,
     "user": {
      "displayName": "Daissy Milenys Herrera Posada",
      "photoUrl": "",
      "userId": "07628404927493375084"
     },
     "user_tz": 300
    },
    "id": "PsOdG4gDcYoZ",
    "outputId": "75c03622-bf7b-4615-9b56-bf97fc4c5725"
   },
   "outputs": [],
   "source": [
    "# %cd 'drive'"
   ]
  },
  {
   "cell_type": "code",
   "execution_count": 62,
   "metadata": {
    "colab": {
     "base_uri": "https://localhost:8080/",
     "height": 34
    },
    "colab_type": "code",
    "executionInfo": {
     "elapsed": 4328,
     "status": "ok",
     "timestamp": 1597325655569,
     "user": {
      "displayName": "Daissy Milenys Herrera Posada",
      "photoUrl": "",
      "userId": "07628404927493375084"
     },
     "user_tz": 300
    },
    "id": "TIWNt1rW9B3G",
    "outputId": "71568192-aaa4-4138-9e15-26b19791b9ad"
   },
   "outputs": [],
   "source": [
    "# %ls"
   ]
  },
  {
   "cell_type": "code",
   "execution_count": 63,
   "metadata": {
    "colab": {
     "base_uri": "https://localhost:8080/",
     "height": 326
    },
    "colab_type": "code",
    "executionInfo": {
     "elapsed": 8589,
     "status": "ok",
     "timestamp": 1597324849485,
     "user": {
      "displayName": "Daissy Milenys Herrera Posada",
      "photoUrl": "",
      "userId": "07628404927493375084"
     },
     "user_tz": 300
    },
    "id": "p8T0d9UYYKqu",
    "outputId": "89186a55-eac2-4bc3-f5d2-dd6c61e8292e"
   },
   "outputs": [],
   "source": [
    "# !pip install rasterio"
   ]
  },
  {
   "cell_type": "code",
   "execution_count": 64,
   "metadata": {
    "colab": {
     "base_uri": "https://localhost:8080/",
     "height": 71
    },
    "colab_type": "code",
    "executionInfo": {
     "elapsed": 7331,
     "status": "ok",
     "timestamp": 1597324850322,
     "user": {
      "displayName": "Daissy Milenys Herrera Posada",
      "photoUrl": "",
      "userId": "07628404927493375084"
     },
     "user_tz": 300
    },
    "id": "sS3Ims-0YLlk",
    "outputId": "51e2fc3d-d0d9-419a-cb13-98a770f9d674"
   },
   "outputs": [],
   "source": [
    "import numpy as np\n",
    "import pandas as pd\n",
    "import matplotlib.pyplot as plt\n",
    "import rasterio as rio\n",
    "import seaborn as sns\n",
    "from sklearn.model_selection import train_test_split"
   ]
  },
  {
   "cell_type": "markdown",
   "metadata": {
    "colab_type": "text",
    "id": "C1H0JOFUxeDQ"
   },
   "source": [
    "#La Fila"
   ]
  },
  {
   "cell_type": "markdown",
   "metadata": {
    "colab_type": "text",
    "id": "fJQb9PIZ2fkL"
   },
   "source": [
    "###Máscara"
   ]
  },
  {
   "cell_type": "code",
   "execution_count": 65,
   "metadata": {
    "colab": {
     "base_uri": "https://localhost:8080/",
     "height": 286
    },
    "colab_type": "code",
    "executionInfo": {
     "elapsed": 6080,
     "status": "ok",
     "timestamp": 1597324855341,
     "user": {
      "displayName": "Daissy Milenys Herrera Posada",
      "photoUrl": "",
      "userId": "07628404927493375084"
     },
     "user_tz": 300
    },
    "id": "6CBTPq-ntpcO",
    "outputId": "da53fb57-0c41-4efb-f521-b662c5411932"
   },
   "outputs": [
    {
     "data": {
      "text/plain": [
       "array([-999,    1], dtype=int16)"
      ]
     },
     "execution_count": 65,
     "metadata": {},
     "output_type": "execute_result"
    },
    {
     "data": {
      "image/png": "[encoded data removed]",
      "text/plain": [
       "<Figure size 432x288 with 1 Axes>"
      ]
     },
     "metadata": {
      "needs_background": "light"
     },
     "output_type": "display_data"
    }
   ],
   "source": [
    "file_mask=rio.open('G:/Unidades compartidas/ETCRS/MAPASMORFOMETRICOS/00_Class/LaFila/Zona_LaFila.tif') #La Fila\n",
    "mask=file_mask.read(1) #1 donde es nan, 0 dentro de la cuenca\n",
    "mask=np.where(mask==mask[0,0],-999,mask) #los 1 convertirnos a np.nan\n",
    "plt.imshow(mask)\n",
    "np.unique(mask)\n",
    "mask.shape\n",
    "\n",
    "mask_vector=mask[~np.isnan(mask)].ravel()\n",
    "mask_vector.shape\n",
    "np.unique(mask_vector)"
   ]
  },
  {
   "cell_type": "code",
   "execution_count": 66,
   "metadata": {
    "colab": {
     "base_uri": "https://localhost:8080/",
     "height": 337
    },
    "colab_type": "code",
    "executionInfo": {
     "elapsed": 3427,
     "status": "ok",
     "timestamp": 1597324894807,
     "user": {
      "displayName": "Daissy Milenys Herrera Posada",
      "photoUrl": "",
      "userId": "07628404927493375084"
     },
     "user_tz": 300
    },
    "id": "3T3sHpwkLjM_",
    "outputId": "27e30e48-2f44-4515-bb1f-0345b1b57f80"
   },
   "outputs": [
    {
     "name": "stdout",
     "output_type": "stream",
     "text": [
      "0\n",
      "0\n"
     ]
    },
    {
     "data": {
      "text/plain": [
       "array([1., 2., 3., 4., 5., 6., 7.])"
      ]
     },
     "execution_count": 66,
     "metadata": {},
     "output_type": "execute_result"
    },
    {
     "data": {
      "image/png": "[encoded data removed]",
      "text/plain": [
       "<Figure size 432x288 with 2 Axes>"
      ]
     },
     "metadata": {
      "needs_background": "light"
     },
     "output_type": "display_data"
    }
   ],
   "source": [
    "file_Slope=rio.open(\"G:/Unidades compartidas/ETCRS/MAPASMORFOMETRICOS/00Reclass/La Fila/Mapa_pendiente/Pendiente_Fila.tif\")\n",
    "Slope=file_Slope.read(1)\n",
    "# plt.imshow(Slope)\n",
    "print(Slope[0,0])\n",
    "nans_Slope=np.where(mask==-999,-999,Slope)\n",
    "nans_Slope=np.where(nans_Slope==Slope[0,0],np.nan,nans_Slope)\n",
    "Slope=np.where(nans_Slope==-999,np.nan,nans_Slope)\n",
    "plt.imshow(Slope)\n",
    "plt.colorbar()\n",
    "print(np.isnan(nans_Slope).sum()) \n",
    "\n",
    "#Convertir la matriz a vector para poder hacer las operaciones\n",
    "Slope_vector=Slope[~np.isnan(Slope)].ravel()\n",
    "Slope_vector.shape\n",
    "np.unique(Slope_vector)"
   ]
  },
  {
   "cell_type": "code",
   "execution_count": 67,
   "metadata": {
    "colab": {
     "base_uri": "https://localhost:8080/",
     "height": 337
    },
    "colab_type": "code",
    "executionInfo": {
     "elapsed": 3413,
     "status": "ok",
     "timestamp": 1597324858258,
     "user": {
      "displayName": "Daissy Milenys Herrera Posada",
      "photoUrl": "",
      "userId": "07628404927493375084"
     },
     "user_tz": 300
    },
    "id": "PSkac-L1BDzP",
    "outputId": "7abd4292-05b1-4396-980c-2c4e9fd3677f",
    "scrolled": true
   },
   "outputs": [
    {
     "name": "stdout",
     "output_type": "stream",
     "text": [
      "0\n",
      "0\n"
     ]
    },
    {
     "data": {
      "text/plain": [
       "array([1., 2., 3., 4., 5., 6.])"
      ]
     },
     "execution_count": 67,
     "metadata": {},
     "output_type": "execute_result"
    },
    {
     "data": {
      "image/png": "[encoded data removed]",
      "text/plain": [
       "<Figure size 432x288 with 2 Axes>"
      ]
     },
     "metadata": {
      "needs_background": "light"
     },
     "output_type": "display_data"
    }
   ],
   "source": [
    "file_TWI=rio.open(\"G:/Unidades compartidas/ETCRS/MAPASMORFOMETRICOS/00Reclass/La Fila/Mapa_IndiceHumedadTopografica/IndiceHumedadTopografica.tif\")\n",
    "TWI=file_TWI.read(1)\n",
    "# plt.imshow(TWI)\n",
    "print(TWI[0,0])\n",
    "nans_TWI=np.where(mask==-999,-999,TWI)\n",
    "nans_TWI=np.where(nans_TWI==TWI[0,0],np.nan,nans_TWI)\n",
    "print(np.isnan(nans_TWI).sum())\n",
    "\n",
    "TWI=np.where(nans_TWI==-999,np.nan,nans_TWI)\n",
    "plt.imshow(TWI)\n",
    "plt.colorbar()\n",
    "\n",
    "#Convertir la matriz a vector para poder hacer las operaciones\n",
    "TWI_vector=TWI[~np.isnan(TWI)].ravel()\n",
    "TWI_vector.shape\n",
    "np.unique(TWI_vector)"
   ]
  },
  {
   "cell_type": "code",
   "execution_count": 68,
   "metadata": {},
   "outputs": [
    {
     "name": "stdout",
     "output_type": "stream",
     "text": [
      "Counter({15: 166757, 1: 50701, 4: 45314, 2: 20903, 5: 17423, 3: 2298, 7: 128, 6: 85, 8: 14, 9: 7})\n",
      "[1. 2. 3. 4. 5. 6. 7. 8. 9.]\n",
      "(870, 349)\n",
      "0\n"
     ]
    },
    {
     "data": {
      "text/plain": [
       "(136879,)"
      ]
     },
     "execution_count": 68,
     "metadata": {},
     "output_type": "execute_result"
    },
    {
     "data": {
      "image/png": "[encoded data removed]",
      "text/plain": [
       "<Figure size 432x288 with 2 Axes>"
      ]
     },
     "metadata": {
      "needs_background": "light"
     },
     "output_type": "display_data"
    }
   ],
   "source": [
    "file_Curvatura=rio.open('G:/Unidades compartidas/ETCRS/MAPASMORFOMETRICOS/00Reclass/La Fila/Mapa_Curvatura/Curvatura_lafila.tif')\n",
    "Curvatura=file_Curvatura.read(1)\n",
    "nans_Curvatura=np.where(mask==-999,-999,Curvatura)\n",
    "# nans_Curvatura[600,200]=Curvatura[0,0]\n",
    "nans_Curvatura=np.where(nans_Curvatura==Curvatura[0,0],np.nan,nans_Curvatura)\n",
    "\n",
    "from collections import Counter #permite contar cuantas veces se repite cada valor\n",
    "print(Counter((Curvatura[~np.isnan(Curvatura)].ravel())))\n",
    "\n",
    "nans_Curvatura=pd.DataFrame(nans_Curvatura).fillna(6.0) \n",
    "nans_Curvatura=np.array(nans_Curvatura)\n",
    "\n",
    "Curvatura=np.where(nans_Curvatura==-999,np.nan,nans_Curvatura)\n",
    "# plt.figure(figsize=(30,30))\n",
    "plt.imshow(Curvatura)\n",
    "plt.colorbar()\n",
    "print(np.unique(Curvatura[~np.isnan(Curvatura)]))\n",
    "print(Curvatura.shape)\n",
    "print(np.isnan(nans_Curvatura).sum()) #Cantidad de datos faltantes dentro de la cuenca, debe de dar 0\n",
    "\n",
    "\n",
    "#Convertir la matriz a vector para poder hacer las operaciones\n",
    "Curvatura_vector=Curvatura[~np.isnan(Curvatura)].ravel()\n",
    "Curvatura_vector.shape"
   ]
  },
  {
   "cell_type": "code",
   "execution_count": 69,
   "metadata": {},
   "outputs": [
    {
     "name": "stdout",
     "output_type": "stream",
     "text": [
      "[1. 2. 3. 4. 5. 6.]\n",
      "(870, 349)\n",
      "0\n"
     ]
    },
    {
     "data": {
      "text/plain": [
       "(136879,)"
      ]
     },
     "execution_count": 69,
     "metadata": {},
     "output_type": "execute_result"
    },
    {
     "data": {
      "image/png": "[encoded data removed]",
      "text/plain": [
       "<Figure size 432x288 with 2 Axes>"
      ]
     },
     "metadata": {
      "needs_background": "light"
     },
     "output_type": "display_data"
    }
   ],
   "source": [
    "file_RR=rio.open(\"G:/Unidades compartidas/ETCRS/MAPASMORFOMETRICOS/00Reclass/La Fila/Mapa_RelieveRelativo/RelieveRelativo_fila.tif\")\n",
    "RR=file_RR.read(1)\n",
    "# plt.imshow(RR)\n",
    "nans_RR=np.where(mask==-999,-999,RR)\n",
    "nans_RR=np.where(nans_RR==RR[0,0],np.nan,nans_RR)\n",
    "RR=np.where(nans_RR==-999,np.nan,nans_RR)\n",
    "plt.imshow(RR)\n",
    "plt.colorbar()\n",
    "print(np.unique(RR[~np.isnan(RR)]))\n",
    "print(RR.shape)\n",
    "print(np.isnan(nans_RR).sum())\n",
    "\n",
    "#Convertir la matriz a vector para poder hacer las operaciones\n",
    "RR_vector=RR[~np.isnan(RR)].ravel()\n",
    "RR_vector.shape"
   ]
  },
  {
   "cell_type": "code",
   "execution_count": 70,
   "metadata": {},
   "outputs": [
    {
     "name": "stdout",
     "output_type": "stream",
     "text": [
      "Counter({255: 166738, 4: 58834, 1: 57821, 5: 7668, 7: 6505, 0: 3237, 3: 1741, 2: 823, 6: 263})\n",
      "[0. 1. 2. 3. 4. 5. 6. 7.]\n",
      "(870, 349)\n",
      "0\n"
     ]
    },
    {
     "data": {
      "text/plain": [
       "(136879,)"
      ]
     },
     "execution_count": 70,
     "metadata": {},
     "output_type": "execute_result"
    },
    {
     "data": {
      "image/png": "[encoded data removed]",
      "text/plain": [
       "<Figure size 432x288 with 2 Axes>"
      ]
     },
     "metadata": {
      "needs_background": "light"
     },
     "output_type": "display_data"
    }
   ],
   "source": [
    "file_Cinematico=rio.open(\"G:/Unidades compartidas/ETCRS/MAPASMORFOMETRICOS/00Reclass/La Fila/fila_cinematico1.tif\")\n",
    "Cinematico=file_Cinematico.read(1)\n",
    "# plt.imshow(Cinematico)\n",
    "Cinematico=Cinematico[:-2,:-3]\n",
    "nans_Cinematico=np.where(mask==-999,-999,Cinematico)\n",
    "nans_Cinematico=np.where(nans_Cinematico==Cinematico[0,0],np.nan,nans_Cinematico)\n",
    "\n",
    "from collections import Counter #permite contar cuantas veces se repite cada valor\n",
    "print(Counter((Cinematico[~np.isnan(Cinematico)].ravel())))\n",
    "\n",
    "nans_Cinematico=pd.DataFrame(nans_Cinematico).fillna(4.0)\n",
    "nans_Cinematico=np.array(nans_Cinematico)\n",
    "\n",
    "Cinematico=np.where(nans_Cinematico==-999,np.nan,nans_Cinematico)\n",
    "plt.imshow(Cinematico)\n",
    "plt.colorbar()\n",
    "print(np.unique(Cinematico[~np.isnan(Cinematico)]))\n",
    "print(Cinematico.shape)\n",
    "print(np.isnan(nans_Cinematico).sum())\n",
    "\n",
    "#Convertir la matriz a vector para poder hacer las operaciones\n",
    "Cinematico_vector=Cinematico[~np.isnan(Cinematico)].ravel()\n",
    "Cinematico_vector.shape"
   ]
  },
  {
   "cell_type": "code",
   "execution_count": 71,
   "metadata": {},
   "outputs": [
    {
     "name": "stdout",
     "output_type": "stream",
     "text": [
      "[1. 2. 3. 4. 5. 6. 7. 8. 9.]\n",
      "(870, 349)\n",
      "0\n"
     ]
    },
    {
     "data": {
      "text/plain": [
       "(136879,)"
      ]
     },
     "execution_count": 71,
     "metadata": {},
     "output_type": "execute_result"
    },
    {
     "data": {
      "image/png": "[encoded data removed]",
      "text/plain": [
       "<Figure size 432x288 with 2 Axes>"
      ]
     },
     "metadata": {
      "needs_background": "light"
     },
     "output_type": "display_data"
    }
   ],
   "source": [
    "file_Falla=rio.open(\"G:/Unidades compartidas/ETCRS/MAPASMORFOMETRICOS/00Reclass/La Fila/Mapa_Fallas/Reclass_Dist_lin_LaFila1.tif\")\n",
    "Falla=file_Falla.read(1)\n",
    "# plt.imshow(Falla)\n",
    "nans_Falla=np.where(mask==-999,-999,Falla)\n",
    "nans_Falla=np.where(nans_Falla==Falla[0,0],np.nan,nans_Falla)\n",
    "Falla=np.where(nans_Falla==-999,np.nan,nans_Falla)\n",
    "plt.imshow(Falla)\n",
    "plt.colorbar()\n",
    "print(np.unique(Falla[~np.isnan(Falla)]))\n",
    "print(Falla.shape)\n",
    "print(np.isnan(nans_Falla).sum())\n",
    "\n",
    "#Convertir la matriz a vector para poder hacer las operaciones\n",
    "Falla_vector=Falla[~np.isnan(Falla)].ravel()\n",
    "Falla_vector.shape"
   ]
  },
  {
   "cell_type": "code",
   "execution_count": 72,
   "metadata": {},
   "outputs": [
    {
     "name": "stdout",
     "output_type": "stream",
     "text": [
      "Counter({-128: 166755, 6: 39212, 10: 26986, 12: 26786, 11: 19337, 16: 9396, 8: 6421, 14: 3598, 15: 2258, 7: 2191, 9: 266, 13: 190, 3: 166, 4: 55, 1: 7, 5: 4, 2: 2})\n",
      "[-999.    1.    2.    3.    4.    5.    6.    7.    8.    9.   10.   11.\n",
      "   12.   13.   14.   15.   16.]\n",
      "(870, 349)\n",
      "0\n"
     ]
    },
    {
     "data": {
      "text/plain": [
       "(136879,)"
      ]
     },
     "execution_count": 72,
     "metadata": {},
     "output_type": "execute_result"
    },
    {
     "data": {
      "image/png": "[encoded data removed]",
      "text/plain": [
       "<Figure size 432x288 with 2 Axes>"
      ]
     },
     "metadata": {
      "needs_background": "light"
     },
     "output_type": "display_data"
    }
   ],
   "source": [
    "file_CambioCob=rio.open(\"G:/Unidades compartidas/ETCRS/MAPASMORFOMETRICOS/00Reclass/La Fila/Cambios.tif\")\n",
    "CambioCob=file_CambioCob.read(1)\n",
    "# plt.imshow(CambioCob)\n",
    "nans_CambioCob=np.where(mask==-999,-999,CambioCob)\n",
    "nans_CambioCob=np.where(nans_CambioCob==CambioCob[0,0],np.nan,nans_CambioCob)\n",
    "\n",
    "from collections import Counter #permite contar cuantas veces se repite cada valor\n",
    "print(Counter((CambioCob[~np.isnan(CambioCob)].ravel())))\n",
    "\n",
    "nans_CambioCob=pd.DataFrame(nans_CambioCob).fillna(6.0)\n",
    "nans_CambioCob=np.array(nans_CambioCob)\n",
    "\n",
    "CambioCob=np.where(nans_CambioCob==-999,np.nan,nans_CambioCob)\n",
    "plt.imshow(CambioCob)\n",
    "plt.colorbar()\n",
    "# print(np.unique(CambioCob[~np.isnan(CambioCob)]))\n",
    "print(np.unique(nans_CambioCob[~np.isnan(nans_CambioCob)]))\n",
    "print(CambioCob.shape)\n",
    "print(np.isnan(nans_CambioCob).sum()) \n",
    "#Convertir la matriz a vector para poder hacer las operaciones\n",
    "CambioCob_vector=CambioCob[~np.isnan(CambioCob)].ravel()\n",
    "CambioCob_vector.shape"
   ]
  },
  {
   "cell_type": "code",
   "execution_count": 73,
   "metadata": {},
   "outputs": [
    {
     "name": "stdout",
     "output_type": "stream",
     "text": [
      "[1. 2. 3. 4.]\n",
      "(870, 349)\n",
      "0\n"
     ]
    },
    {
     "data": {
      "text/plain": [
       "(136879,)"
      ]
     },
     "execution_count": 73,
     "metadata": {},
     "output_type": "execute_result"
    },
    {
     "data": {
      "image/png": "[encoded data removed]",
      "text/plain": [
       "<Figure size 432x288 with 2 Axes>"
      ]
     },
     "metadata": {
      "needs_background": "light"
     },
     "output_type": "display_data"
    }
   ],
   "source": [
    "file_Litologia=rio.open(\"G:/Unidades compartidas/ETCRS/MAPASMORFOMETRICOS/00Reclass/La Fila/Geo_LaFila.tif\")\n",
    "Litologia=file_Litologia.read(1)\n",
    "\n",
    "nans_Litologia=np.where(mask==-999,-999,Litologia)\n",
    "nans_Litologia=np.where(nans_Litologia==Litologia[0,0],np.nan,nans_Litologia)\n",
    "\n",
    "Litologia=np.where(nans_Litologia==-999,np.nan,nans_Litologia)\n",
    "plt.imshow(Litologia)\n",
    "plt.colorbar()\n",
    "print(np.unique(Litologia[~np.isnan(Litologia)]))\n",
    "print(Litologia.shape)\n",
    "print(np.isnan(nans_Litologia).sum())\n",
    "\n",
    "#Convertir la matriz a vector para poder hacer las operaciones\n",
    "Litologia_vector=Litologia[~np.isnan(Litologia)].ravel()\n",
    "Litologia_vector.shape"
   ]
  },
  {
   "cell_type": "code",
   "execution_count": 74,
   "metadata": {},
   "outputs": [
    {
     "name": "stdout",
     "output_type": "stream",
     "text": [
      "[0. 1.]\n",
      "(870, 349)\n",
      "0\n"
     ]
    },
    {
     "data": {
      "text/plain": [
       "(136879,)"
      ]
     },
     "execution_count": 74,
     "metadata": {},
     "output_type": "execute_result"
    },
    {
     "data": {
      "image/png": "[encoded data removed]",
      "text/plain": [
       "<Figure size 432x288 with 2 Axes>"
      ]
     },
     "metadata": {
      "needs_background": "light"
     },
     "output_type": "display_data"
    }
   ],
   "source": [
    "file_Inventario=rio.open('G:/Unidades compartidas/ETCRS/INVENTARIO HISTORICO/Coronas_Raster/Menm_LaFila.tif')\n",
    "Inventario=file_Inventario.read(1)\n",
    "# plt.imshow(Inventario)\n",
    "nans_Inventario=np.where(mask==-999,-999,Inventario)\n",
    "\n",
    "nans_Inventario=np.where(nans_Inventario==Inventario[0,0],np.nan,nans_Inventario)\n",
    "Inventario=np.where(nans_Inventario==-999,np.nan,nans_Inventario)\n",
    "Inventario=np.where(Inventario==2,1,Inventario) #dejar con un solo valor los mm activos e inactivos\n",
    "plt.imshow(Inventario)\n",
    "plt.colorbar()\n",
    "print(np.unique(Inventario[~np.isnan(Inventario)]))\n",
    "print(Inventario.shape)\n",
    "print(np.isnan(nans_Inventario).sum()) #Cantidad de datos faltantes dentro de la cuenca, debe de dar 0\n",
    "\n",
    "#Convertir la matriz a vector para poder hacer las operaciones\n",
    "Inventario_vector=Inventario[~np.isnan(Inventario)].ravel()\n",
    "Inventario_vector.shape"
   ]
  },
  {
   "cell_type": "markdown",
   "metadata": {
    "colab_type": "text",
    "id": "2gXi8joCmVxz"
   },
   "source": [
    "#Creación de dataframe"
   ]
  },
  {
   "cell_type": "code",
   "execution_count": 75,
   "metadata": {
    "colab": {
     "base_uri": "https://localhost:8080/",
     "height": 68
    },
    "colab_type": "code",
    "executionInfo": {
     "elapsed": 4614,
     "status": "ok",
     "timestamp": 1596726549735,
     "user": {
      "displayName": "Daissy Milenys Herrera Posada",
      "photoUrl": "",
      "userId": "07628404927493375084"
     },
     "user_tz": 300
    },
    "id": "8MIbHolzmVxz",
    "outputId": "72d3317a-0b85-4406-d90e-a856cf3b07dd"
   },
   "outputs": [
    {
     "data": {
      "text/plain": [
       "0.0    136522\n",
       "1.0       357\n",
       "Name: Inventario, dtype: int64"
      ]
     },
     "execution_count": 75,
     "metadata": {},
     "output_type": "execute_result"
    }
   ],
   "source": [
    "df=pd.DataFrame({\n",
    "                 'Curvatura':Curvatura_vector,\n",
    "                 'TWI':TWI_vector,\n",
    "                 'CambioCob':CambioCob_vector,\n",
    "                 'Litología':Litologia_vector,\n",
    "                 'RR':RR_vector,\n",
    "                 'Slope':Slope_vector,\n",
    "                 'Falla':Falla_vector,\n",
    "                 'Cinematico':Cinematico_vector,\n",
    "                 'Inventario':Inventario_vector\n",
    "                 })\n",
    "df.Inventario.value_counts()"
   ]
  },
  {
   "cell_type": "code",
   "execution_count": 76,
   "metadata": {},
   "outputs": [],
   "source": [
    "X=df.iloc[:,:-1]\n",
    "y=df.iloc[:,-1]\n",
    "X_train,X_test, y_train,y_test =train_test_split(X, y,stratify=y,test_size=0.2, random_state=0)"
   ]
  },
  {
   "cell_type": "code",
   "execution_count": 77,
   "metadata": {},
   "outputs": [
    {
     "data": {
      "text/plain": [
       "357"
      ]
     },
     "execution_count": 77,
     "metadata": {},
     "output_type": "execute_result"
    }
   ],
   "source": [
    "df.Inventario.value_counts()[1]"
   ]
  },
  {
   "cell_type": "code",
   "execution_count": 78,
   "metadata": {
    "scrolled": true
   },
   "outputs": [
    {
     "data": {
      "text/plain": [
       "80.11204481792717"
      ]
     },
     "execution_count": 78,
     "metadata": {},
     "output_type": "execute_result"
    }
   ],
   "source": [
    "(y_train.value_counts()[1]*100)/df.Inventario.value_counts()[1]"
   ]
  },
  {
   "cell_type": "code",
   "execution_count": 79,
   "metadata": {
    "scrolled": true
   },
   "outputs": [
    {
     "data": {
      "text/plain": [
       "19.88795518207283"
      ]
     },
     "execution_count": 79,
     "metadata": {},
     "output_type": "execute_result"
    }
   ],
   "source": [
    "(y_test.value_counts()[1]*100)/df.Inventario.value_counts()[1]"
   ]
  },
  {
   "cell_type": "code",
   "execution_count": 80,
   "metadata": {},
   "outputs": [
    {
     "data": {
      "text/html": [
       "<div>\n",
       "<style scoped>\n",
       "    .dataframe tbody tr th:only-of-type {\n",
       "        vertical-align: middle;\n",
       "    }\n",
       "\n",
       "    .dataframe tbody tr th {\n",
       "        vertical-align: top;\n",
       "    }\n",
       "\n",
       "    .dataframe thead th {\n",
       "        text-align: right;\n",
       "    }\n",
       "</style>\n",
       "<table border=\"1\" class=\"dataframe\">\n",
       "  <thead>\n",
       "    <tr style=\"text-align: right;\">\n",
       "      <th></th>\n",
       "      <th>Curvatura</th>\n",
       "      <th>TWI</th>\n",
       "      <th>CambioCob</th>\n",
       "      <th>Litología</th>\n",
       "      <th>RR</th>\n",
       "      <th>Slope</th>\n",
       "      <th>Falla</th>\n",
       "      <th>Cinematico</th>\n",
       "      <th>Inventario</th>\n",
       "    </tr>\n",
       "  </thead>\n",
       "  <tbody>\n",
       "    <tr>\n",
       "      <th>28188</th>\n",
       "      <td>4.0</td>\n",
       "      <td>1.0</td>\n",
       "      <td>11.0</td>\n",
       "      <td>1.0</td>\n",
       "      <td>1.0</td>\n",
       "      <td>4.0</td>\n",
       "      <td>2.0</td>\n",
       "      <td>1.0</td>\n",
       "      <td>0.0</td>\n",
       "    </tr>\n",
       "    <tr>\n",
       "      <th>21624</th>\n",
       "      <td>4.0</td>\n",
       "      <td>6.0</td>\n",
       "      <td>6.0</td>\n",
       "      <td>1.0</td>\n",
       "      <td>1.0</td>\n",
       "      <td>4.0</td>\n",
       "      <td>3.0</td>\n",
       "      <td>4.0</td>\n",
       "      <td>0.0</td>\n",
       "    </tr>\n",
       "    <tr>\n",
       "      <th>76969</th>\n",
       "      <td>2.0</td>\n",
       "      <td>1.0</td>\n",
       "      <td>16.0</td>\n",
       "      <td>1.0</td>\n",
       "      <td>5.0</td>\n",
       "      <td>2.0</td>\n",
       "      <td>2.0</td>\n",
       "      <td>4.0</td>\n",
       "      <td>0.0</td>\n",
       "    </tr>\n",
       "    <tr>\n",
       "      <th>49677</th>\n",
       "      <td>4.0</td>\n",
       "      <td>6.0</td>\n",
       "      <td>11.0</td>\n",
       "      <td>1.0</td>\n",
       "      <td>3.0</td>\n",
       "      <td>5.0</td>\n",
       "      <td>4.0</td>\n",
       "      <td>4.0</td>\n",
       "      <td>0.0</td>\n",
       "    </tr>\n",
       "    <tr>\n",
       "      <th>71480</th>\n",
       "      <td>2.0</td>\n",
       "      <td>2.0</td>\n",
       "      <td>6.0</td>\n",
       "      <td>1.0</td>\n",
       "      <td>5.0</td>\n",
       "      <td>6.0</td>\n",
       "      <td>9.0</td>\n",
       "      <td>4.0</td>\n",
       "      <td>0.0</td>\n",
       "    </tr>\n",
       "    <tr>\n",
       "      <th>...</th>\n",
       "      <td>...</td>\n",
       "      <td>...</td>\n",
       "      <td>...</td>\n",
       "      <td>...</td>\n",
       "      <td>...</td>\n",
       "      <td>...</td>\n",
       "      <td>...</td>\n",
       "      <td>...</td>\n",
       "      <td>...</td>\n",
       "    </tr>\n",
       "    <tr>\n",
       "      <th>74061</th>\n",
       "      <td>4.0</td>\n",
       "      <td>5.0</td>\n",
       "      <td>10.0</td>\n",
       "      <td>1.0</td>\n",
       "      <td>5.0</td>\n",
       "      <td>4.0</td>\n",
       "      <td>2.0</td>\n",
       "      <td>1.0</td>\n",
       "      <td>0.0</td>\n",
       "    </tr>\n",
       "    <tr>\n",
       "      <th>23286</th>\n",
       "      <td>3.0</td>\n",
       "      <td>3.0</td>\n",
       "      <td>10.0</td>\n",
       "      <td>1.0</td>\n",
       "      <td>1.0</td>\n",
       "      <td>2.0</td>\n",
       "      <td>4.0</td>\n",
       "      <td>1.0</td>\n",
       "      <td>0.0</td>\n",
       "    </tr>\n",
       "    <tr>\n",
       "      <th>134916</th>\n",
       "      <td>1.0</td>\n",
       "      <td>1.0</td>\n",
       "      <td>10.0</td>\n",
       "      <td>2.0</td>\n",
       "      <td>6.0</td>\n",
       "      <td>2.0</td>\n",
       "      <td>7.0</td>\n",
       "      <td>4.0</td>\n",
       "      <td>0.0</td>\n",
       "    </tr>\n",
       "    <tr>\n",
       "      <th>136459</th>\n",
       "      <td>1.0</td>\n",
       "      <td>1.0</td>\n",
       "      <td>12.0</td>\n",
       "      <td>2.0</td>\n",
       "      <td>6.0</td>\n",
       "      <td>1.0</td>\n",
       "      <td>2.0</td>\n",
       "      <td>7.0</td>\n",
       "      <td>0.0</td>\n",
       "    </tr>\n",
       "    <tr>\n",
       "      <th>75173</th>\n",
       "      <td>1.0</td>\n",
       "      <td>2.0</td>\n",
       "      <td>10.0</td>\n",
       "      <td>1.0</td>\n",
       "      <td>5.0</td>\n",
       "      <td>3.0</td>\n",
       "      <td>8.0</td>\n",
       "      <td>4.0</td>\n",
       "      <td>0.0</td>\n",
       "    </tr>\n",
       "  </tbody>\n",
       "</table>\n",
       "<p>109503 rows × 9 columns</p>\n",
       "</div>"
      ],
      "text/plain": [
       "        Curvatura  TWI  CambioCob  Litología   RR  Slope  Falla  Cinematico  \\\n",
       "28188         4.0  1.0       11.0        1.0  1.0    4.0    2.0         1.0   \n",
       "21624         4.0  6.0        6.0        1.0  1.0    4.0    3.0         4.0   \n",
       "76969         2.0  1.0       16.0        1.0  5.0    2.0    2.0         4.0   \n",
       "49677         4.0  6.0       11.0        1.0  3.0    5.0    4.0         4.0   \n",
       "71480         2.0  2.0        6.0        1.0  5.0    6.0    9.0         4.0   \n",
       "...           ...  ...        ...        ...  ...    ...    ...         ...   \n",
       "74061         4.0  5.0       10.0        1.0  5.0    4.0    2.0         1.0   \n",
       "23286         3.0  3.0       10.0        1.0  1.0    2.0    4.0         1.0   \n",
       "134916        1.0  1.0       10.0        2.0  6.0    2.0    7.0         4.0   \n",
       "136459        1.0  1.0       12.0        2.0  6.0    1.0    2.0         7.0   \n",
       "75173         1.0  2.0       10.0        1.0  5.0    3.0    8.0         4.0   \n",
       "\n",
       "        Inventario  \n",
       "28188          0.0  \n",
       "21624          0.0  \n",
       "76969          0.0  \n",
       "49677          0.0  \n",
       "71480          0.0  \n",
       "...            ...  \n",
       "74061          0.0  \n",
       "23286          0.0  \n",
       "134916         0.0  \n",
       "136459         0.0  \n",
       "75173          0.0  \n",
       "\n",
       "[109503 rows x 9 columns]"
      ]
     },
     "execution_count": 80,
     "metadata": {},
     "output_type": "execute_result"
    }
   ],
   "source": [
    "df_80=X_train\n",
    "df_80=df_80.join(y_train)\n",
    "df_80"
   ]
  },
  {
   "cell_type": "code",
   "execution_count": 81,
   "metadata": {
    "colab": {},
    "colab_type": "code",
    "id": "NoxyMAZU-bRo"
   },
   "outputs": [],
   "source": [
    "df_ConMM=df_80[(df_80['Inventario']==1.)] #valores de las variables donde ocurre un MM\n",
    "df_ConMM.index=np.arange(len(df_ConMM))"
   ]
  },
  {
   "cell_type": "code",
   "execution_count": 82,
   "metadata": {
    "colab": {},
    "colab_type": "code",
    "id": "XeXVJ8Pu_QUl"
   },
   "outputs": [],
   "source": [
    "df_SinMM=df_80[(df_80['Inventario']==0.)] #valores de las variables donde No ocurre un MM\n",
    "df_SinMM.index=np.arange(len(df_SinMM))"
   ]
  },
  {
   "cell_type": "markdown",
   "metadata": {
    "colab_type": "text",
    "id": "X4zaugQytP8A"
   },
   "source": [
    "##W+ y W-"
   ]
  },
  {
   "cell_type": "markdown",
   "metadata": {
    "colab_type": "text",
    "id": "7JPyYdHU7HWA"
   },
   "source": [
    "###Curvatura"
   ]
  },
  {
   "cell_type": "code",
   "execution_count": 83,
   "metadata": {
    "colab": {
     "base_uri": "https://localhost:8080/",
     "height": 34
    },
    "colab_type": "code",
    "executionInfo": {
     "elapsed": 940,
     "status": "ok",
     "timestamp": 1596730700768,
     "user": {
      "displayName": "Daissy Milenys Herrera Posada",
      "photoUrl": "",
      "userId": "07628404927493375084"
     },
     "user_tz": 300
    },
    "id": "pTVA5NOVtTE5",
    "outputId": "4f95ae8c-13ed-4ac9-a011-0eb284ce71eb"
   },
   "outputs": [
    {
     "name": "stdout",
     "output_type": "stream",
     "text": [
      "113 35 4 77 57 0 0 0 0 286\n"
     ]
    }
   ],
   "source": [
    "#Con MM\n",
    "aC_Curv=bC_Curv=cC_Curv=dC_Curv=eC_Curv=fC_Curv=gC_Curv=hC_Curv=iC_Curv=0\n",
    "for i in np.arange(len(df_ConMM['Curvatura'])):\n",
    "        if df_ConMM['Curvatura'][i]==1.:\n",
    "              aC_Curv=aC_Curv+1\n",
    "        elif df_ConMM['Curvatura'][i]==2.:\n",
    "              bC_Curv=bC_Curv+1\n",
    "        elif df_ConMM['Curvatura'][i]==3.:\n",
    "              cC_Curv=cC_Curv+1\n",
    "        elif df_ConMM['Curvatura'][i]==4.:\n",
    "              dC_Curv=dC_Curv+1\n",
    "        elif df_ConMM['Curvatura'][i]==5.:\n",
    "              eC_Curv=eC_Curv+1   \n",
    "        elif df_ConMM['Curvatura'][i]==6.:\n",
    "              fC_Curv=fC_Curv+1\n",
    "        elif df_ConMM['Curvatura'][i]==7.:\n",
    "              gC_Curv=gC_Curv+1\n",
    "        elif df_ConMM['Curvatura'][i]==8.:\n",
    "              hC_Curv=hC_Curv+1\n",
    "        elif df_ConMM['Curvatura'][i]==9.:\n",
    "              iC_Curv=iC_Curv+1    \n",
    "\n",
    "totalC_Curv=aC_Curv+bC_Curv+cC_Curv+dC_Curv+eC_Curv+fC_Curv+gC_Curv+hC_Curv+iC_Curv\n",
    "list_clases_ConMM_Curv=[aC_Curv,bC_Curv,cC_Curv,dC_Curv,eC_Curv,fC_Curv,gC_Curv,hC_Curv,iC_Curv]\n",
    "print(aC_Curv,bC_Curv,cC_Curv,dC_Curv,eC_Curv,fC_Curv,gC_Curv,hC_Curv,iC_Curv,totalC_Curv)"
   ]
  },
  {
   "cell_type": "code",
   "execution_count": 84,
   "metadata": {
    "colab": {
     "base_uri": "https://localhost:8080/",
     "height": 34
    },
    "colab_type": "code",
    "executionInfo": {
     "elapsed": 6113,
     "status": "ok",
     "timestamp": 1596730685193,
     "user": {
      "displayName": "Daissy Milenys Herrera Posada",
      "photoUrl": "",
      "userId": "07628404927493375084"
     },
     "user_tz": 300
    },
    "id": "iXYD18ZtwKR3",
    "outputId": "74508d21-c510-4f32-83fc-899be543b221"
   },
   "outputs": [
    {
     "name": "stdout",
     "output_type": "stream",
     "text": [
      "40509 16705 1844 36032 13918 81 110 13 5 109217\n"
     ]
    }
   ],
   "source": [
    "#Sin MM\n",
    "aS_Curv=bS_Curv=cS_Curv=dS_Curv=eS_Curv=fS_Curv=gS_Curv=hS_Curv=iS_Curv=0\n",
    "for i in np.arange(len(df_SinMM['Curvatura'])):\n",
    "        if df_SinMM['Curvatura'][i]==1.:\n",
    "              aS_Curv=aS_Curv+1\n",
    "        elif df_SinMM['Curvatura'][i]==2.:\n",
    "              bS_Curv=bS_Curv+1\n",
    "        elif df_SinMM['Curvatura'][i]==3.:\n",
    "              cS_Curv=cS_Curv+1\n",
    "        elif df_SinMM['Curvatura'][i]==4.:\n",
    "              dS_Curv=dS_Curv+1\n",
    "        elif df_SinMM['Curvatura'][i]==5.:\n",
    "              eS_Curv=eS_Curv+1\n",
    "        elif df_SinMM['Curvatura'][i]==6.:\n",
    "              fS_Curv=fS_Curv+1\n",
    "        elif df_SinMM['Curvatura'][i]==7.:\n",
    "              gS_Curv=gS_Curv+1\n",
    "        elif df_SinMM['Curvatura'][i]==8.:\n",
    "              hS_Curv=hS_Curv+1\n",
    "        elif df_SinMM['Curvatura'][i]==9.:\n",
    "              iS_Curv=iS_Curv+1\n",
    "\n",
    "totalS_Curv=aS_Curv+bS_Curv+cS_Curv+dS_Curv+eS_Curv+fS_Curv+gS_Curv+hS_Curv+iS_Curv\n",
    "list_clases_SinMM_Curv=[aS_Curv,bS_Curv,cS_Curv,dS_Curv,eS_Curv,fS_Curv,gS_Curv,hS_Curv,iS_Curv]\n",
    "print(aS_Curv,bS_Curv,cS_Curv,dS_Curv,eS_Curv,fS_Curv,gS_Curv,hS_Curv,iS_Curv,totalS_Curv)"
   ]
  },
  {
   "cell_type": "code",
   "execution_count": 85,
   "metadata": {
    "colab": {
     "base_uri": "https://localhost:8080/",
     "height": 34
    },
    "colab_type": "code",
    "executionInfo": {
     "elapsed": 888,
     "status": "ok",
     "timestamp": 1596730703507,
     "user": {
      "displayName": "Daissy Milenys Herrera Posada",
      "photoUrl": "",
      "userId": "07628404927493375084"
     },
     "user_tz": 300
    },
    "id": "IL1aY0SW8WcX",
    "outputId": "d7c60fc6-b953-4f8e-f38c-8b0065439d51"
   },
   "outputs": [
    {
     "data": {
      "text/plain": [
       "True"
      ]
     },
     "execution_count": 85,
     "metadata": {},
     "output_type": "execute_result"
    }
   ],
   "source": [
    "totalC_Curv+totalS_Curv==len(X_train)"
   ]
  },
  {
   "cell_type": "code",
   "execution_count": 86,
   "metadata": {
    "colab": {
     "base_uri": "https://localhost:8080/",
     "height": 377
    },
    "colab_type": "code",
    "executionInfo": {
     "elapsed": 767,
     "status": "ok",
     "timestamp": 1596730706002,
     "user": {
      "displayName": "Daissy Milenys Herrera Posada",
      "photoUrl": "",
      "userId": "07628404927493375084"
     },
     "user_tz": 300
    },
    "id": "FAMPS4hJOMe7",
    "outputId": "8ba8fe01-3d2f-4f0b-8325-66bbb011b8fd"
   },
   "outputs": [
    {
     "name": "stdout",
     "output_type": "stream",
     "text": [
      "113 173 40509 68708\n",
      "0.06320856509544656 -0.039229128246879005 0.10243769334232557\n",
      "35 251 16705 92512\n",
      "-0.22301509628918503 0.035459491327969266 -0.2584745876171543\n",
      "4 282 1844 107373\n",
      "-0.1882978459843906 0.002943235146949539 -0.19124108113134014\n",
      "77 209 36032 73185\n",
      "-0.20325709263342046 0.08668868805902159 -0.28994578069244203\n",
      "57 229 13918 95299\n",
      "0.44721321944201275 -0.08595239584130852 0.5331656152833213\n",
      "0.01 286 81 109136\n",
      "-3.0545541080719745 0.0007069535139077852 -3.0552610615858824\n",
      "0.01 286 110 109107\n",
      "-3.360585319191952 0.0009727123256055131 -3.3615580315175575\n",
      "0.01 286 13 109204\n",
      "-1.2250543108610723 8.407174969988927e-05 -1.2251383826107722\n",
      "0.01 286 5 109212\n",
      "-0.26954286583363596 1.0817043052282644e-05 -0.26955368287668824\n"
     ]
    }
   ],
   "source": [
    "Curvatura_Reclass=Curvatura\n",
    "#El contraste\n",
    "contraste_Curv=[]\n",
    "for i in np.arange(len(list_clases_SinMM_Curv)):\n",
    "    if list_clases_ConMM_Curv[i]==0:\n",
    "        x1_Curv=0.01\n",
    "    else:\n",
    "        x1_Curv=list_clases_ConMM_Curv[i] #Con MM en una clase\n",
    "    x2_Curv=totalC_Curv-list_clases_ConMM_Curv[i] #Con MM en el resto de las clases\n",
    "    x3_Curv=list_clases_SinMM_Curv[i] #Sin MM en una clase\n",
    "    x4_Curv=totalS_Curv-list_clases_SinMM_Curv[i] #Sin MM el resto de las clases\n",
    "    print(x1_Curv,x2_Curv,x3_Curv,x4_Curv)\n",
    "    wp_Curv=np.log((x1_Curv/(x1_Curv+x2_Curv))/(x3_Curv/(x3_Curv+x4_Curv)))\n",
    "    wn_Curv=np.log((x2_Curv/(x1_Curv+x2_Curv))/(x4_Curv/(x3_Curv+x4_Curv)))\n",
    "    cont_Curv=wp_Curv-wn_Curv\n",
    "    print(wp_Curv,wn_Curv,cont_Curv)\n",
    "    contraste_Curv.append(cont_Curv)\n",
    "    Curvatura_Reclass=np.where(Curvatura_Reclass==i+1,cont_Curv,Curvatura_Reclass)"
   ]
  },
  {
   "cell_type": "code",
   "execution_count": 87,
   "metadata": {},
   "outputs": [
    {
     "data": {
      "text/plain": [
       "array([-3.36155803, -3.05526106, -1.22513838, -0.28994578, -0.26955368,\n",
       "       -0.25847459, -0.19124108,  0.10243769,  0.53316562])"
      ]
     },
     "execution_count": 87,
     "metadata": {},
     "output_type": "execute_result"
    }
   ],
   "source": [
    "np.unique(Curvatura_Reclass[~np.isnan(Curvatura_Reclass)])"
   ]
  },
  {
   "cell_type": "markdown",
   "metadata": {
    "colab_type": "text",
    "id": "8_6Mgh3D_pZ9"
   },
   "source": [
    "###TWI"
   ]
  },
  {
   "cell_type": "code",
   "execution_count": 88,
   "metadata": {
    "colab": {
     "base_uri": "https://localhost:8080/",
     "height": 34
    },
    "colab_type": "code",
    "executionInfo": {
     "elapsed": 778,
     "status": "ok",
     "timestamp": 1596730801319,
     "user": {
      "displayName": "Daissy Milenys Herrera Posada",
      "photoUrl": "",
      "userId": "07628404927493375084"
     },
     "user_tz": 300
    },
    "id": "wFkZ49dm_paG",
    "outputId": "8613e95a-a1df-4989-8dae-e4d8df587506"
   },
   "outputs": [
    {
     "name": "stdout",
     "output_type": "stream",
     "text": [
      "41 81 63 46 25 30 286\n"
     ]
    }
   ],
   "source": [
    "#6 clases\n",
    "#Con MM\n",
    "aC_TWI=bC_TWI=cC_TWI=dC_TWI=eC_TWI=fC_TWI=0\n",
    "for i in np.arange(len(df_ConMM['TWI'])):\n",
    "        if df_ConMM['TWI'][i]==1.:\n",
    "              aC_TWI=aC_TWI+1\n",
    "        elif df_ConMM['TWI'][i]==2.:\n",
    "              bC_TWI=bC_TWI+1\n",
    "        elif df_ConMM['TWI'][i]==3.:\n",
    "              cC_TWI=cC_TWI+1\n",
    "        elif df_ConMM['TWI'][i]==4.:\n",
    "              dC_TWI=dC_TWI+1\n",
    "        elif df_ConMM['TWI'][i]==5.:\n",
    "              eC_TWI=eC_TWI+1   \n",
    "        elif df_ConMM['TWI'][i]==6.:\n",
    "              fC_TWI=fC_TWI+1\n",
    "\n",
    "totalC_TWI=aC_TWI+bC_TWI+cC_TWI+dC_TWI+eC_TWI+fC_TWI\n",
    "list_clases_ConMM_TWI=[aC_TWI,bC_TWI,cC_TWI,dC_TWI,eC_TWI,fC_TWI]\n",
    "print(aC_TWI,bC_TWI,cC_TWI,dC_TWI,eC_TWI,fC_TWI,totalC_TWI)"
   ]
  },
  {
   "cell_type": "code",
   "execution_count": 89,
   "metadata": {
    "colab": {
     "base_uri": "https://localhost:8080/",
     "height": 34
    },
    "colab_type": "code",
    "executionInfo": {
     "elapsed": 7072,
     "status": "ok",
     "timestamp": 1596730862201,
     "user": {
      "displayName": "Daissy Milenys Herrera Posada",
      "photoUrl": "",
      "userId": "07628404927493375084"
     },
     "user_tz": 300
    },
    "id": "Rq5uvC89_paN",
    "outputId": "20a1c86f-2c18-4ad1-c8bc-64ff974a89af"
   },
   "outputs": [
    {
     "name": "stdout",
     "output_type": "stream",
     "text": [
      "23460 14942 23450 18918 12578 15869 109217\n"
     ]
    }
   ],
   "source": [
    "#Sin MM\n",
    "aS_TWI=bS_TWI=cS_TWI=dS_TWI=eS_TWI=fS_TWI=0\n",
    "for i in np.arange(len(df_SinMM['TWI'])):\n",
    "        if df_SinMM['TWI'][i]==1.:\n",
    "              aS_TWI=aS_TWI+1\n",
    "        elif df_SinMM['TWI'][i]==2.:\n",
    "              bS_TWI=bS_TWI+1\n",
    "        elif df_SinMM['TWI'][i]==3.:\n",
    "              cS_TWI=cS_TWI+1\n",
    "        elif df_SinMM['TWI'][i]==4.:\n",
    "              dS_TWI=dS_TWI+1\n",
    "        elif df_SinMM['TWI'][i]==5.:\n",
    "              eS_TWI=eS_TWI+1\n",
    "        elif df_SinMM['TWI'][i]==6.:\n",
    "              fS_TWI=fS_TWI+1\n",
    "\n",
    "totalS_TWI=aS_TWI+bS_TWI+cS_TWI+dS_TWI+eS_TWI+fS_TWI\n",
    "list_clases_SinMM_TWI=[aS_TWI,bS_TWI,cS_TWI,dS_TWI,eS_TWI,fS_TWI]\n",
    "print(aS_TWI,bS_TWI,cS_TWI,dS_TWI,eS_TWI,fS_TWI,totalS_TWI)"
   ]
  },
  {
   "cell_type": "code",
   "execution_count": 90,
   "metadata": {
    "colab": {
     "base_uri": "https://localhost:8080/",
     "height": 34
    },
    "colab_type": "code",
    "executionInfo": {
     "elapsed": 811,
     "status": "ok",
     "timestamp": 1596730863022,
     "user": {
      "displayName": "Daissy Milenys Herrera Posada",
      "photoUrl": "",
      "userId": "07628404927493375084"
     },
     "user_tz": 300
    },
    "id": "WbfHWNMd_paS",
    "outputId": "dd62923b-5f2e-4a45-ce95-5089ea0e2681"
   },
   "outputs": [
    {
     "data": {
      "text/plain": [
       "True"
      ]
     },
     "execution_count": 90,
     "metadata": {},
     "output_type": "execute_result"
    }
   ],
   "source": [
    "totalC_TWI+totalS_TWI==len(X_train)"
   ]
  },
  {
   "cell_type": "code",
   "execution_count": 91,
   "metadata": {
    "colab": {
     "base_uri": "https://localhost:8080/",
     "height": 221
    },
    "colab_type": "code",
    "executionInfo": {
     "elapsed": 775,
     "status": "ok",
     "timestamp": 1596730864841,
     "user": {
      "displayName": "Daissy Milenys Herrera Posada",
      "photoUrl": "",
      "userId": "07628404927493375084"
     },
     "user_tz": 300
    },
    "id": "68SR9PxV_paV",
    "outputId": "b32231a5-db0d-488c-c93a-baf6fff58882",
    "scrolled": true
   },
   "outputs": [
    {
     "name": "stdout",
     "output_type": "stream",
     "text": [
      "41 245 23460 85757\n",
      "-0.4043798584909007 0.08708541320750113 -0.4914652716984018\n",
      "81 205 14942 94275\n",
      "0.7276180331489501 -0.18586114597589173 0.9134791791248419\n",
      "63 223 23450 85767\n",
      "0.025609149529365376 -0.007117627635593754 0.03272677716495913\n",
      "46 240 18918 90299\n",
      "-0.07412753527176283 0.014857455207612651 -0.08898499047937548\n",
      "25 261 12578 96639\n",
      "-0.27572851322298986 0.03088293890196657 -0.30661145212495644\n",
      "30 256 15869 93348\n",
      "-0.32582522088842897 0.046187917497046115 -0.37201313838547506\n"
     ]
    }
   ],
   "source": [
    "TWI_Reclass=TWI\n",
    "#El contraste\n",
    "contraste_TWI=[]\n",
    "for i in np.arange(len(list_clases_SinMM_TWI)):\n",
    "    if list_clases_ConMM_TWI[i]==0:\n",
    "        x1_TWI=0.01\n",
    "    else:\n",
    "        x1_TWI=list_clases_ConMM_TWI[i] #Con MM en una clase\n",
    "    x2_TWI=totalC_TWI-list_clases_ConMM_TWI[i] #Con MM en el resto de las clases\n",
    "    x3_TWI=list_clases_SinMM_TWI[i] #Sin MM en una clase\n",
    "    x4_TWI=totalS_TWI-list_clases_SinMM_TWI[i] #Sin MM el resto de las clases\n",
    "    print(x1_TWI,x2_TWI,x3_TWI,x4_TWI)\n",
    "\n",
    "    wp_TWI=np.log((x1_TWI/(x1_TWI+x2_TWI))/(x3_TWI/(x3_TWI+x4_TWI)))\n",
    "    wn_TWI=np.log((x2_TWI/(x1_TWI+x2_TWI))/(x4_TWI/(x3_TWI+x4_TWI)))\n",
    "    cont_TWI=wp_TWI-wn_TWI\n",
    "    print(wp_TWI,wn_TWI,cont_TWI)\n",
    "    contraste_TWI.append(cont_TWI)\n",
    "    TWI_Reclass=np.where(TWI_Reclass==i+1,cont_TWI,TWI_Reclass)\n"
   ]
  },
  {
   "cell_type": "code",
   "execution_count": 92,
   "metadata": {},
   "outputs": [
    {
     "name": "stdout",
     "output_type": "stream",
     "text": [
      "[-0.49146527 -0.37201314 -0.30661145 -0.08898499  0.03272678  0.91347918]\n"
     ]
    }
   ],
   "source": [
    "print(np.unique(TWI_Reclass[~np.isnan(TWI_Reclass)])) #Para verificar que si se realizó bien la clasificación"
   ]
  },
  {
   "cell_type": "markdown",
   "metadata": {
    "colab_type": "text",
    "id": "K9eXPO1UBfEw"
   },
   "source": [
    "###Relieve relativo"
   ]
  },
  {
   "cell_type": "code",
   "execution_count": 93,
   "metadata": {
    "colab": {
     "base_uri": "https://localhost:8080/",
     "height": 34
    },
    "colab_type": "code",
    "executionInfo": {
     "elapsed": 831,
     "status": "ok",
     "timestamp": 1596730879136,
     "user": {
      "displayName": "Daissy Milenys Herrera Posada",
      "photoUrl": "",
      "userId": "07628404927493375084"
     },
     "user_tz": 300
    },
    "id": "RWGT_nwBBI_3",
    "outputId": "c83ad5b8-ffa8-41b5-b632-c6c2e2b9eae7"
   },
   "outputs": [
    {
     "name": "stdout",
     "output_type": "stream",
     "text": [
      "0 45 41 42 77 81 286\n"
     ]
    }
   ],
   "source": [
    "#6 clases\n",
    "#Con MM\n",
    "aC_RR=bC_RR=cC_RR=dC_RR=eC_RR=fC_RR=0\n",
    "for i in np.arange(len(df_ConMM['RR'])):\n",
    "        if df_ConMM['RR'][i]==1.:\n",
    "              aC_RR=aC_RR+1\n",
    "        elif df_ConMM['RR'][i]==2.:\n",
    "              bC_RR=bC_RR+1\n",
    "        elif df_ConMM['RR'][i]==3.:\n",
    "              cC_RR=cC_RR+1\n",
    "        elif df_ConMM['RR'][i]==4.:\n",
    "              dC_RR=dC_RR+1\n",
    "        elif df_ConMM['RR'][i]==5.:\n",
    "              eC_RR=eC_RR+1   \n",
    "        elif df_ConMM['RR'][i]==6.:\n",
    "              fC_RR=fC_RR+1\n",
    "\n",
    "totalC_RR=aC_RR+bC_RR+cC_RR+dC_RR+eC_RR+fC_RR\n",
    "list_clases_ConMM_RR=[aC_RR,bC_RR,cC_RR,dC_RR,eC_RR,fC_RR]\n",
    "print(aC_RR,bC_RR,cC_RR,dC_RR,eC_RR,fC_RR,totalC_RR)"
   ]
  },
  {
   "cell_type": "code",
   "execution_count": 94,
   "metadata": {
    "colab": {
     "base_uri": "https://localhost:8080/",
     "height": 34
    },
    "colab_type": "code",
    "executionInfo": {
     "elapsed": 8202,
     "status": "ok",
     "timestamp": 1596730900841,
     "user": {
      "displayName": "Daissy Milenys Herrera Posada",
      "photoUrl": "",
      "userId": "07628404927493375084"
     },
     "user_tz": 300
    },
    "id": "jtwqXsuyBw08",
    "outputId": "610d6c33-9f7e-442e-a26d-c33f037c4e8b"
   },
   "outputs": [
    {
     "name": "stdout",
     "output_type": "stream",
     "text": [
      "11556 15121 19987 18278 23676 20599 109217\n"
     ]
    }
   ],
   "source": [
    "#Sin MM\n",
    "aS_RR=bS_RR=cS_RR=dS_RR=eS_RR=fS_RR=0\n",
    "for i in np.arange(len(df_SinMM['RR'])):\n",
    "        if df_SinMM['RR'][i]==1.:\n",
    "              aS_RR=aS_RR+1\n",
    "        elif df_SinMM['RR'][i]==2.:\n",
    "              bS_RR=bS_RR+1\n",
    "        elif df_SinMM['RR'][i]==3.:\n",
    "              cS_RR=cS_RR+1\n",
    "        elif df_SinMM['RR'][i]==4.:\n",
    "              dS_RR=dS_RR+1\n",
    "        elif df_SinMM['RR'][i]==5.:\n",
    "              eS_RR=eS_RR+1\n",
    "        elif df_SinMM['RR'][i]==6.:\n",
    "              fS_RR=fS_RR+1\n",
    "\n",
    "totalS_RR=aS_RR+bS_RR+cS_RR+dS_RR+eS_RR+fS_RR\n",
    "list_clases_SinMM_RR=[aS_RR,bS_RR,cS_RR,dS_RR,eS_RR,fS_RR]\n",
    "print(aS_RR,bS_RR,cS_RR,dS_RR,eS_RR,fS_RR,totalS_RR)"
   ]
  },
  {
   "cell_type": "code",
   "execution_count": 95,
   "metadata": {
    "colab": {
     "base_uri": "https://localhost:8080/",
     "height": 34
    },
    "colab_type": "code",
    "executionInfo": {
     "elapsed": 1072,
     "status": "ok",
     "timestamp": 1596730901923,
     "user": {
      "displayName": "Daissy Milenys Herrera Posada",
      "photoUrl": "",
      "userId": "07628404927493375084"
     },
     "user_tz": 300
    },
    "id": "quuYtqCeBxXE",
    "outputId": "3b210145-4807-4c48-bc71-4f7fd66de1fc"
   },
   "outputs": [
    {
     "data": {
      "text/plain": [
       "True"
      ]
     },
     "execution_count": 95,
     "metadata": {},
     "output_type": "execute_result"
    }
   ],
   "source": [
    "totalC_RR+totalS_RR==len(X_train)"
   ]
  },
  {
   "cell_type": "code",
   "execution_count": 96,
   "metadata": {
    "colab": {
     "base_uri": "https://localhost:8080/",
     "height": 275
    },
    "colab_type": "code",
    "executionInfo": {
     "elapsed": 1584,
     "status": "ok",
     "timestamp": 1596730956685,
     "user": {
      "displayName": "Daissy Milenys Herrera Posada",
      "photoUrl": "",
      "userId": "07628404927493375084"
     },
     "user_tz": 300
    },
    "id": "WeVjg5J4Bwjy",
    "outputId": "044cb8f9-658d-487a-b40f-8873eaee42e4",
    "scrolled": true
   },
   "outputs": [
    {
     "name": "stdout",
     "output_type": "stream",
     "text": [
      "0.01 286 11556 97661\n",
      "-8.015065014985662 0.11179946623838223 -8.126864481224045\n",
      "45 241 15121 94096\n",
      "0.12792290166990855 -0.02217368619682416 0.15009658786673272\n",
      "41 245 19987 89230\n",
      "-0.24416507747797592 0.04738582266278799 -0.2915509001407639\n",
      "42 244 18278 90939\n",
      "-0.13068361453652066 0.024324191248188822 -0.1550078057847095\n",
      "77 209 23676 85541\n",
      "0.21668846305532619 -0.06931662317272035 0.28600508622804655\n",
      "81 205 20599 88618\n",
      "0.40655154177462777 -0.12398010007913332 0.5305316418537611\n"
     ]
    }
   ],
   "source": [
    "RR_Reclass=RR\n",
    "#El contraste\n",
    "contraste_RR=[]\n",
    "for i in np.arange(len(list_clases_SinMM_RR)):\n",
    "    if list_clases_ConMM_RR[i]==0:\n",
    "        x1_RR=0.01\n",
    "    else:\n",
    "        x1_RR=list_clases_ConMM_RR[i] #Con MM en una clase\n",
    "    x2_RR=totalC_RR-list_clases_ConMM_RR[i] #Con MM en el resto de las clases\n",
    "    x3_RR=list_clases_SinMM_RR[i] #Sin MM en una clase\n",
    "    x4_RR=totalS_RR-list_clases_SinMM_RR[i] #Sin MM el resto de las clases\n",
    "    print(x1_RR,x2_RR,x3_RR,x4_RR)\n",
    "\n",
    "    wp_RR=np.log((x1_RR/(x1_RR+x2_RR))/(x3_RR/(x3_RR+x4_RR)))\n",
    "    wn_RR=np.log((x2_RR/(x1_RR+x2_RR))/(x4_RR/(x3_RR+x4_RR)))\n",
    "    cont_RR=wp_RR-wn_RR\n",
    "    print(wp_RR,wn_RR,cont_RR)\n",
    "    contraste_RR.append(cont_RR)\n",
    "    RR_Reclass=np.where(RR_Reclass==i+1,cont_RR,RR_Reclass)"
   ]
  },
  {
   "cell_type": "code",
   "execution_count": 97,
   "metadata": {},
   "outputs": [
    {
     "name": "stdout",
     "output_type": "stream",
     "text": [
      "[-8.12686448 -0.2915509  -0.15500781  0.15009659  0.28600509  0.53053164]\n"
     ]
    }
   ],
   "source": [
    "print(np.unique(RR_Reclass[~np.isnan(RR_Reclass)])) #Para verificar que si se realizó bien la clasificación"
   ]
  },
  {
   "cell_type": "markdown",
   "metadata": {
    "colab_type": "text",
    "id": "zQh_9hduE_GM"
   },
   "source": [
    "###Pendiente"
   ]
  },
  {
   "cell_type": "code",
   "execution_count": 98,
   "metadata": {
    "colab": {
     "base_uri": "https://localhost:8080/",
     "height": 34
    },
    "colab_type": "code",
    "executionInfo": {
     "elapsed": 1190,
     "status": "ok",
     "timestamp": 1596730971518,
     "user": {
      "displayName": "Daissy Milenys Herrera Posada",
      "photoUrl": "",
      "userId": "07628404927493375084"
     },
     "user_tz": 300
    },
    "id": "8-CrCxXnFC10",
    "outputId": "2631c281-c4af-4e0f-a575-ac2be19f2e7a"
   },
   "outputs": [
    {
     "name": "stdout",
     "output_type": "stream",
     "text": [
      "4 33 18 24 62 116 29 286\n"
     ]
    }
   ],
   "source": [
    "#7 clases\n",
    "#Con MM\n",
    "aC_Slope=bC_Slope=cC_Slope=dC_Slope=eC_Slope=fC_Slope=gC_Slope=0\n",
    "for i in np.arange(len(df_ConMM['Slope'])):\n",
    "        if df_ConMM['Slope'][i]==1.:\n",
    "              aC_Slope=aC_Slope+1\n",
    "        elif df_ConMM['Slope'][i]==2.:\n",
    "              bC_Slope=bC_Slope+1\n",
    "        elif df_ConMM['Slope'][i]==3.:\n",
    "              cC_Slope=cC_Slope+1\n",
    "        elif df_ConMM['Slope'][i]==4.:\n",
    "              dC_Slope=dC_Slope+1\n",
    "        elif df_ConMM['Slope'][i]==5.:\n",
    "              eC_Slope=eC_Slope+1   \n",
    "        elif df_ConMM['Slope'][i]==6.:\n",
    "              fC_Slope=fC_Slope+1\n",
    "        elif df_ConMM['Slope'][i]==7.:\n",
    "              gC_Slope=gC_Slope+1\n",
    "\n",
    "totalC_Slope=aC_Slope+bC_Slope+cC_Slope+dC_Slope+eC_Slope+fC_Slope+gC_Slope\n",
    "list_clases_ConMM_Slope=[aC_Slope,bC_Slope,cC_Slope,dC_Slope,eC_Slope,fC_Slope,gC_Slope]\n",
    "print(aC_Slope,bC_Slope,cC_Slope,dC_Slope,eC_Slope,fC_Slope,gC_Slope,totalC_Slope)"
   ]
  },
  {
   "cell_type": "code",
   "execution_count": 99,
   "metadata": {
    "colab": {
     "base_uri": "https://localhost:8080/",
     "height": 34
    },
    "colab_type": "code",
    "executionInfo": {
     "elapsed": 8729,
     "status": "ok",
     "timestamp": 1596730989097,
     "user": {
      "displayName": "Daissy Milenys Herrera Posada",
      "photoUrl": "",
      "userId": "07628404927493375084"
     },
     "user_tz": 300
    },
    "id": "mDNxArbEG4y7",
    "outputId": "9050c78d-fd52-4817-c530-52826c93fa51"
   },
   "outputs": [
    {
     "name": "stdout",
     "output_type": "stream",
     "text": [
      "9431 17656 16161 16392 37537 8926 3114 109217\n"
     ]
    }
   ],
   "source": [
    "#Sin MM\n",
    "aS_Slope=bS_Slope=cS_Slope=dS_Slope=eS_Slope=fS_Slope=gS_Slope=0\n",
    "for i in np.arange(len(df_SinMM['Slope'])):\n",
    "        if df_SinMM['Slope'][i]==1.:\n",
    "              aS_Slope=aS_Slope+1\n",
    "        elif df_SinMM['Slope'][i]==2.:\n",
    "              bS_Slope=bS_Slope+1\n",
    "        elif df_SinMM['Slope'][i]==3.:\n",
    "              cS_Slope=cS_Slope+1\n",
    "        elif df_SinMM['Slope'][i]==4.:\n",
    "              dS_Slope=dS_Slope+1\n",
    "        elif df_SinMM['Slope'][i]==5.:\n",
    "              eS_Slope=eS_Slope+1\n",
    "        elif df_SinMM['Slope'][i]==6.:\n",
    "              fS_Slope=fS_Slope+1\n",
    "        elif df_SinMM['Slope'][i]==7.:\n",
    "              gS_Slope=gS_Slope+1\n",
    "\n",
    "totalS_Slope=aS_Slope+bS_Slope+cS_Slope+dS_Slope+eS_Slope+fS_Slope+gS_Slope\n",
    "list_clases_SinMM_Slope=[aS_Slope,bS_Slope,cS_Slope,dS_Slope,eS_Slope,fS_Slope,gS_Slope]\n",
    "print(aS_Slope,bS_Slope,cS_Slope,dS_Slope,eS_Slope,fS_Slope,gS_Slope,totalS_Slope)"
   ]
  },
  {
   "cell_type": "code",
   "execution_count": 100,
   "metadata": {
    "colab": {
     "base_uri": "https://localhost:8080/",
     "height": 34
    },
    "colab_type": "code",
    "executionInfo": {
     "elapsed": 1547,
     "status": "ok",
     "timestamp": 1596730990656,
     "user": {
      "displayName": "Daissy Milenys Herrera Posada",
      "photoUrl": "",
      "userId": "07628404927493375084"
     },
     "user_tz": 300
    },
    "id": "GhEJvH4OHCCD",
    "outputId": "fd0db520-334f-4947-8c78-08b08f336a41"
   },
   "outputs": [
    {
     "data": {
      "text/plain": [
       "True"
      ]
     },
     "execution_count": 100,
     "metadata": {},
     "output_type": "execute_result"
    }
   ],
   "source": [
    "totalC_Slope+totalS_Slope==len(X_train)"
   ]
  },
  {
   "cell_type": "code",
   "execution_count": 101,
   "metadata": {
    "colab": {
     "base_uri": "https://localhost:8080/",
     "height": 255
    },
    "colab_type": "code",
    "executionInfo": {
     "elapsed": 1540,
     "status": "ok",
     "timestamp": 1596730990656,
     "user": {
      "displayName": "Daissy Milenys Herrera Posada",
      "photoUrl": "",
      "userId": "07628404927493375084"
     },
     "user_tz": 300
    },
    "id": "QGk5wE_5HHCJ",
    "outputId": "b41ed4f7-97a2-40b2-8fba-e7cc77eee249"
   },
   "outputs": [
    {
     "name": "stdout",
     "output_type": "stream",
     "text": [
      "4 282 9431 99786\n",
      "-1.8203628564117362 0.07622409605217678 -1.896586952463913\n",
      "33 253 17656 91561\n",
      "-0.337223189457834 0.05372898993300501 -0.39095217939083904\n",
      "18 268 16161 93056\n",
      "-0.8548842564402205 0.09513043606997831 -0.9500146925101988\n",
      "24 262 16392 92825\n",
      "-0.581394662558532 0.07497342172807393 -0.656368084286606\n",
      "62 224 37537 71680\n",
      "-0.460847810132204 0.17677920121848595 -0.6376270113506899\n",
      "116 170 8926 100291\n",
      "1.6019667429294073 -0.4349326050538801 2.0368993479832875\n",
      "29 257 3114 106103\n",
      "1.2687326746047884 -0.07798931750692444 1.3467219921117128\n"
     ]
    }
   ],
   "source": [
    "Slope_Reclass=Slope\n",
    "#El contraste\n",
    "contraste_Slope=[]\n",
    "for i in np.arange(len(list_clases_SinMM_Slope)):\n",
    "    if list_clases_ConMM_Slope[i]==0:\n",
    "        x1_Slope=0.01\n",
    "    else:\n",
    "        x1_Slope=list_clases_ConMM_Slope[i] #Con MM en una clase\n",
    "    x2_Slope=totalC_Slope-list_clases_ConMM_Slope[i] #Con MM en el resto de las clases\n",
    "    x3_Slope=list_clases_SinMM_Slope[i] #Sin MM en una clase\n",
    "    x4_Slope=totalS_Slope-list_clases_SinMM_Slope[i] #Sin MM el resto de las clases\n",
    "    print(x1_Slope,x2_Slope,x3_Slope,x4_Slope)\n",
    "\n",
    "    wp_Slope=np.log((x1_Slope/(x1_Slope+x2_Slope))/(x3_Slope/(x3_Slope+x4_Slope)))\n",
    "    wn_Slope=np.log((x2_Slope/(x1_Slope+x2_Slope))/(x4_Slope/(x3_Slope+x4_Slope)))\n",
    "    cont_Slope=wp_Slope-wn_Slope\n",
    "    print(wp_Slope,wn_Slope,cont_Slope)\n",
    "    contraste_Slope.append(cont_Slope)\n",
    "    Slope_Reclass=np.where(Slope_Reclass==i+1,cont_Slope,Slope_Reclass)"
   ]
  },
  {
   "cell_type": "code",
   "execution_count": 102,
   "metadata": {},
   "outputs": [
    {
     "name": "stdout",
     "output_type": "stream",
     "text": [
      "[-1.89658695 -0.95001469 -0.65636808 -0.63762701 -0.39095218  1.34672199\n",
      "  2.03689935]\n"
     ]
    }
   ],
   "source": [
    "print(np.unique(Slope_Reclass[~np.isnan(Slope_Reclass)])) #Para verificar que si se realizó bien la clasificación"
   ]
  },
  {
   "cell_type": "markdown",
   "metadata": {
    "colab_type": "text",
    "id": "kKoihVKfcIOm"
   },
   "source": [
    "###Litología"
   ]
  },
  {
   "cell_type": "code",
   "execution_count": 103,
   "metadata": {
    "colab": {},
    "colab_type": "code",
    "id": "App-xWaGc3f6"
   },
   "outputs": [
    {
     "name": "stdout",
     "output_type": "stream",
     "text": [
      "97 155 34 0 286\n"
     ]
    }
   ],
   "source": [
    "#Con MM\n",
    "aCLit=bCLit=cCLit=dCLit=0\n",
    "for i in np.arange(len(df_ConMM['Litología'])):\n",
    "        if df_ConMM['Litología'][i]==1.:\n",
    "              aCLit=aCLit+1\n",
    "        elif df_ConMM['Litología'][i]==2.:\n",
    "              bCLit=bCLit+1\n",
    "        elif df_ConMM['Litología'][i]==3.:\n",
    "              cCLit=cCLit+1\n",
    "        elif df_ConMM['Litología'][i]==4.:\n",
    "              dCLit=dCLit+1\n",
    "\n",
    "totalCLit=aCLit+bCLit+cCLit+dCLit\n",
    "list_clases_ConMMLit=[aCLit,bCLit,cCLit,dCLit]\n",
    "print(aCLit,bCLit,cCLit,dCLit,totalCLit)"
   ]
  },
  {
   "cell_type": "code",
   "execution_count": 104,
   "metadata": {
    "colab": {},
    "colab_type": "code",
    "id": "HPfB6JdGc3gH"
   },
   "outputs": [
    {
     "name": "stdout",
     "output_type": "stream",
     "text": [
      "72115 33713 810 2579 109217\n"
     ]
    }
   ],
   "source": [
    "#Sin MM\n",
    "aSLit=bSLit=cSLit=dSLit=0\n",
    "for i in np.arange(len(df_SinMM['Litología'])):\n",
    "        if df_SinMM['Litología'][i]==1.:\n",
    "              aSLit=aSLit+1\n",
    "        elif df_SinMM['Litología'][i]==2.:\n",
    "              bSLit=bSLit+1\n",
    "        elif df_SinMM['Litología'][i]==3.:\n",
    "              cSLit=cSLit+1\n",
    "        elif df_SinMM['Litología'][i]==4.:\n",
    "              dSLit=dSLit+1\n",
    "\n",
    "totalSLit=aSLit+bSLit+cSLit+dSLit\n",
    "list_clases_SinMMLit=[aSLit,bSLit,cSLit,dSLit]\n",
    "print(aSLit,bSLit,cSLit,dSLit,totalSLit)"
   ]
  },
  {
   "cell_type": "code",
   "execution_count": 105,
   "metadata": {
    "colab": {},
    "colab_type": "code",
    "id": "Hj1F9fmmc3gQ"
   },
   "outputs": [
    {
     "data": {
      "text/plain": [
       "True"
      ]
     },
     "execution_count": 105,
     "metadata": {},
     "output_type": "execute_result"
    }
   ],
   "source": [
    "totalCLit+totalSLit==len(X_train)"
   ]
  },
  {
   "cell_type": "code",
   "execution_count": 106,
   "metadata": {
    "colab": {},
    "colab_type": "code",
    "id": "Na39Q5qcc3gY"
   },
   "outputs": [
    {
     "name": "stdout",
     "output_type": "stream",
     "text": [
      "97 189 72115 37102\n",
      "-0.6662061705019698 0.6654210565735819 -1.3316272270755518\n",
      "155 131 33713 75504\n",
      "0.5628865152994714 -0.4116433937527594 0.9745299090522308\n",
      "34 252 810 108407\n",
      "2.774426473961935 -0.11911865702484067 2.8935451309867757\n",
      "0.01 286 2579 106638\n",
      "-6.51526195928088 0.02386184342036149 -6.5391238027012415\n"
     ]
    }
   ],
   "source": [
    "Litologia_Reclass=Litologia\n",
    "#El contraste\n",
    "contrasteLit=[]\n",
    "for i in np.arange(len(list_clases_SinMMLit)):\n",
    "    if list_clases_ConMMLit[i]==0:\n",
    "        x1Lit=0.01\n",
    "    else:\n",
    "        x1Lit=list_clases_ConMMLit[i] #Con MM en una clase\n",
    "    x2Lit=totalCLit-list_clases_ConMMLit[i] #Con MM en el resto de las clases\n",
    "    x3Lit=list_clases_SinMMLit[i] #Sin MM en una clase\n",
    "    x4Lit=totalSLit-list_clases_SinMMLit[i] #Sin MM el resto de las clases\n",
    "    print(x1Lit,x2Lit,x3Lit,x4Lit)\n",
    "\n",
    "    wpLit=np.log((x1Lit/(x1Lit+x2Lit))/(x3Lit/(x3Lit+x4Lit)))\n",
    "    wnLit=np.log((x2Lit/(x1Lit+x2Lit))/(x4Lit/(x3Lit+x4Lit)))\n",
    "    contLit=wpLit-wnLit\n",
    "    print(wpLit,wnLit,contLit)\n",
    "    contrasteLit.append(contLit)\n",
    "    Litologia_Reclass=np.where(Litologia_Reclass==i+1,contLit,Litologia_Reclass)\n"
   ]
  },
  {
   "cell_type": "code",
   "execution_count": 107,
   "metadata": {},
   "outputs": [
    {
     "name": "stdout",
     "output_type": "stream",
     "text": [
      "[-6.5391238  -1.33162723  0.97452991  2.89354513]\n"
     ]
    }
   ],
   "source": [
    "print(np.unique(Litologia_Reclass[~np.isnan(Litologia_Reclass)])) #Para verificar que si se realizó bien la clasificación"
   ]
  },
  {
   "cell_type": "markdown",
   "metadata": {
    "colab_type": "text",
    "id": "rsH59FrOcIOr"
   },
   "source": [
    "###Cambio de Coberturas"
   ]
  },
  {
   "cell_type": "code",
   "execution_count": 108,
   "metadata": {
    "colab": {},
    "colab_type": "code",
    "id": "23Xs44LfeTvu"
   },
   "outputs": [
    {
     "name": "stdout",
     "output_type": "stream",
     "text": [
      "0 0 1 0 0 73 2 2 0 103 50 33 0 13 1 8 286\n"
     ]
    }
   ],
   "source": [
    "#Con MM\n",
    "aC_CambioCob=bC_CambioCob=cC_CambioCob=dC_CambioCob=eC_CambioCob=fC_CambioCob=gC_CambioCob=hC_CambioCob=iC_CambioCob=jC_CambioCob=kC_CambioCob=lC_CambioCob=mC_CambioCob=nC_CambioCob=oC_CambioCob=pC_CambioCob=0\n",
    "for i in np.arange(len(df_ConMM['CambioCob'])):\n",
    "        if df_ConMM['CambioCob'][i]==1.:\n",
    "              aC_CambioCob=aC_CambioCob+1\n",
    "        elif df_ConMM['CambioCob'][i]==2.:\n",
    "              bC_CambioCob=bC_CambioCob+1\n",
    "        elif df_ConMM['CambioCob'][i]==3.:\n",
    "              cC_CambioCob=cC_CambioCob+1\n",
    "        elif df_ConMM['CambioCob'][i]==4.:\n",
    "              dC_CambioCob=dC_CambioCob+1\n",
    "        elif df_ConMM['CambioCob'][i]==5.:\n",
    "              eC_CambioCob=eC_CambioCob+1   \n",
    "        elif df_ConMM['CambioCob'][i]==6.:\n",
    "              fC_CambioCob=fC_CambioCob+1\n",
    "        elif df_ConMM['CambioCob'][i]==7.:\n",
    "              gC_CambioCob=gC_CambioCob+1\n",
    "        elif df_ConMM['CambioCob'][i]==8.:\n",
    "              hC_CambioCob=hC_CambioCob+1\n",
    "        elif df_ConMM['CambioCob'][i]==9.:\n",
    "              iC_CambioCob=iC_CambioCob+1  \n",
    "        elif df_ConMM['CambioCob'][i]==10.:\n",
    "              jC_CambioCob=jC_CambioCob+1 \n",
    "        elif df_ConMM['CambioCob'][i]==11.:\n",
    "              kC_CambioCob=kC_CambioCob+1 \n",
    "        elif df_ConMM['CambioCob'][i]==12.:\n",
    "              lC_CambioCob=lC_CambioCob+1 \n",
    "        elif df_ConMM['CambioCob'][i]==13.:\n",
    "              mC_CambioCob=mC_CambioCob+1 \n",
    "        elif df_ConMM['CambioCob'][i]==14.:\n",
    "              nC_CambioCob=nC_CambioCob+1 \n",
    "        elif df_ConMM['CambioCob'][i]==15.:\n",
    "              oC_CambioCob=oC_CambioCob+1 \n",
    "        elif df_ConMM['CambioCob'][i]==16.:\n",
    "              pC_CambioCob=pC_CambioCob+1 \n",
    "\n",
    "totalC_CambioCob=aC_CambioCob+bC_CambioCob+cC_CambioCob+dC_CambioCob+eC_CambioCob+fC_CambioCob+gC_CambioCob+hC_CambioCob+iC_CambioCob+jC_CambioCob+kC_CambioCob+lC_CambioCob+mC_CambioCob+nC_CambioCob+oC_CambioCob+pC_CambioCob\n",
    "list_clases_ConMM_CambioCob=[aC_CambioCob,bC_CambioCob,cC_CambioCob,dC_CambioCob,eC_CambioCob,fC_CambioCob,gC_CambioCob,hC_CambioCob,iC_CambioCob,jC_CambioCob,kC_CambioCob,lC_CambioCob,mC_CambioCob,nC_CambioCob,oC_CambioCob,pC_CambioCob]\n",
    "print(aC_CambioCob,bC_CambioCob,cC_CambioCob,dC_CambioCob,eC_CambioCob,fC_CambioCob,gC_CambioCob,hC_CambioCob,iC_CambioCob,jC_CambioCob,kC_CambioCob,lC_CambioCob,mC_CambioCob,nC_CambioCob,oC_CambioCob,pC_CambioCob,totalC_CambioCob)"
   ]
  },
  {
   "cell_type": "code",
   "execution_count": 109,
   "metadata": {
    "colab": {},
    "colab_type": "code",
    "id": "BdJTMJ0VeTv7"
   },
   "outputs": [
    {
     "name": "stdout",
     "output_type": "stream",
     "text": [
      "6 1 129 46 3 31239 1771 5149 210 21484 15400 146 21418 2831 1826 7558 109217\n"
     ]
    }
   ],
   "source": [
    "#Sin MM\n",
    "aS_CambioCob=bS_CambioCob=cS_CambioCob=dS_CambioCob=eS_CambioCob=fS_CambioCob=gS_CambioCob=hS_CambioCob=iS_CambioCob=jS_CambioCob=kS_CambioCob=lS_CambioCob=mS_CambioCob=nS_CambioCob=oS_CambioCob=pS_CambioCob=0\n",
    "for i in np.arange(len(df_SinMM['CambioCob'])):\n",
    "        if df_SinMM['CambioCob'][i]==1.:\n",
    "              aS_CambioCob=aS_CambioCob+1\n",
    "        elif df_SinMM['CambioCob'][i]==2.:\n",
    "              bS_CambioCob=bS_CambioCob+1\n",
    "        elif df_SinMM['CambioCob'][i]==3.:\n",
    "              cS_CambioCob=cS_CambioCob+1\n",
    "        elif df_SinMM['CambioCob'][i]==4.:\n",
    "              dS_CambioCob=dS_CambioCob+1\n",
    "        elif df_SinMM['CambioCob'][i]==5.:\n",
    "              eS_CambioCob=eS_CambioCob+1\n",
    "        elif df_SinMM['CambioCob'][i]==6.:\n",
    "              fS_CambioCob=fS_CambioCob+1\n",
    "        elif df_SinMM['CambioCob'][i]==7.:\n",
    "              gS_CambioCob=gS_CambioCob+1\n",
    "        elif df_SinMM['CambioCob'][i]==8.:\n",
    "              hS_CambioCob=hS_CambioCob+1\n",
    "        elif df_SinMM['CambioCob'][i]==9.:\n",
    "              iS_CambioCob=iS_CambioCob+1\n",
    "        elif df_SinMM['CambioCob'][i]==10.:\n",
    "              jS_CambioCob=jS_CambioCob+1\n",
    "        elif df_SinMM['CambioCob'][i]==11.:\n",
    "              kS_CambioCob=kS_CambioCob+1\n",
    "        elif df_SinMM['CambioCob'][i]==12.:\n",
    "              lS_CambioCob=lS_CambioCob+1\n",
    "        elif df_SinMM['CambioCob'][i]==13.:\n",
    "              mS_CambioCob=mS_CambioCob+1\n",
    "        elif df_SinMM['CambioCob'][i]==14.:\n",
    "              nS_CambioCob=nS_CambioCob+1\n",
    "        elif df_SinMM['CambioCob'][i]==15.:\n",
    "              oS_CambioCob=oS_CambioCob+1\n",
    "        elif df_SinMM['CambioCob'][i]==16.:\n",
    "              pS_CambioCob=pS_CambioCob+1\n",
    "\n",
    "\n",
    "totalS_CambioCob=aS_CambioCob+bS_CambioCob+cS_CambioCob+dS_CambioCob+eS_CambioCob+fS_CambioCob+gS_CambioCob+hS_CambioCob+iS_CambioCob+jS_CambioCob+kS_CambioCob+lS_CambioCob+mS_CambioCob+nS_CambioCob+oS_CambioCob+pS_CambioCob\n",
    "list_clases_SinMM_CambioCob=[aS_CambioCob,bS_CambioCob,cS_CambioCob,dS_CambioCob,eS_CambioCob,fS_CambioCob,gS_CambioCob,hS_CambioCob,iS_CambioCob,jS_CambioCob,kS_CambioCob,lS_CambioCob,mS_CambioCob,nS_CambioCob,oS_CambioCob,pS_CambioCob]\n",
    "print(aS_CambioCob,bS_CambioCob,cS_CambioCob,dS_CambioCob,eS_CambioCob,fS_CambioCob,gS_CambioCob,hS_CambioCob,iS_CambioCob,jS_CambioCob,kS_CambioCob,mS_CambioCob,lS_CambioCob,nS_CambioCob,oS_CambioCob,pS_CambioCob,totalS_CambioCob)"
   ]
  },
  {
   "cell_type": "code",
   "execution_count": 110,
   "metadata": {
    "colab": {},
    "colab_type": "code",
    "id": "9FZv3BRseTwI"
   },
   "outputs": [
    {
     "data": {
      "text/plain": [
       "True"
      ]
     },
     "execution_count": 110,
     "metadata": {},
     "output_type": "execute_result"
    }
   ],
   "source": [
    "totalC_CambioCob+totalS_CambioCob==len(X_train)"
   ]
  },
  {
   "cell_type": "code",
   "execution_count": 111,
   "metadata": {
    "colab": {},
    "colab_type": "code",
    "id": "D1G6nnqqeTwS"
   },
   "outputs": [
    {
     "name": "stdout",
     "output_type": "stream",
     "text": [
      "0.01 286 6 109211\n",
      "-0.4518644226275906 1.9973587921720242e-05 -0.4518843962155123\n",
      "0.01 286 1 109216\n",
      "1.3398950466004644 -2.5808298025331936e-05 1.3399208548984898\n",
      "1 285 129 109088\n",
      "1.085287792650586 -0.0023207976567210203 1.087608590307307\n",
      "0.01 286 46 109171\n",
      "-2.4887463498886304 0.0003863041503976775 -2.489132654039028\n",
      "0.01 286 3 109214\n",
      "0.24128275793235474 -7.49579516355602e-06 0.24129025372751828\n",
      "73 213 31239 77978\n",
      "-0.11386295503735644 0.04221034811594948 -0.15607330315330592\n",
      "2 284 1771 107446\n",
      "-0.8410522602106303 0.0093307604127665 -0.8503830206233968\n",
      "2 284 5149 104068\n",
      "-1.908310422473938 0.04127462456037416 -1.9495850470343121\n",
      "0.01 286 210 109007\n",
      "-4.007212484117004 0.0018896640756689614 -4.009102148192674\n",
      "103 183 21484 87733\n",
      "0.6047654342165438 -0.2274670405121956 0.8322324747287394\n",
      "50 236 15400 93817\n",
      "0.21500041403868356 -0.040169353208839936 0.2551697672475235\n",
      "33 253 21418 87799\n",
      "-0.5303792104820821 0.09568429570307134 -0.6260635061851535\n",
      "0.01 286 146 109071\n",
      "-3.643711575107872 0.0013027181037013433 -3.6450142932115734\n",
      "13 273 2831 106386\n",
      "0.5616642693618953 -0.02025727608782572 0.581921545449721\n",
      "1 285 1826 107391\n",
      "-1.5647828641426558 0.013357718618011247 -1.578140582760667\n",
      "8 278 7558 101659\n",
      "-0.9058201452173402 0.04334195646098641 -0.9491621016783266\n"
     ]
    }
   ],
   "source": [
    "CambioCob_Reclass=CambioCob\n",
    "#El contraste\n",
    "contraste_CambioCob=[]\n",
    "for i in np.arange(len(list_clases_SinMM_CambioCob)):\n",
    "    if list_clases_ConMM_CambioCob[i]==0:\n",
    "        x1_CambioCob=0.01\n",
    "    else:\n",
    "        x1_CambioCob=list_clases_ConMM_CambioCob[i] #Con MM en una clase\n",
    "        \n",
    "    x2_CambioCob=totalC_CambioCob-list_clases_ConMM_CambioCob[i] #Con MM en el resto de las clases\n",
    "    x3_CambioCob=list_clases_SinMM_CambioCob[i] #Sin MM en una clase\n",
    "    x4_CambioCob=totalS_CambioCob-list_clases_SinMM_CambioCob[i] #Sin MM el resto de las clases\n",
    "    print(x1_CambioCob,x2_CambioCob,x3_CambioCob,x4_CambioCob)\n",
    "\n",
    "    wp_CambioCob=np.log((x1_CambioCob/(x1_CambioCob+x2_CambioCob))/(x3_CambioCob/(x3_CambioCob+x4_CambioCob)))\n",
    "    wn_CambioCob=np.log((x2_CambioCob/(x1_CambioCob+x2_CambioCob))/(x4_CambioCob/(x3_CambioCob+x4_CambioCob)))\n",
    "    cont_CambioCob=wp_CambioCob-wn_CambioCob\n",
    "    print(wp_CambioCob,wn_CambioCob,cont_CambioCob)\n",
    "    contraste_CambioCob.append(cont_CambioCob)\n",
    "    CambioCob_Reclass=np.where(CambioCob_Reclass==i+1,cont_CambioCob,CambioCob_Reclass)\n"
   ]
  },
  {
   "cell_type": "code",
   "execution_count": 112,
   "metadata": {},
   "outputs": [
    {
     "name": "stdout",
     "output_type": "stream",
     "text": [
      "[-4.00910215 -3.64501429 -2.48913265 -1.94958505 -1.57814058 -0.9491621\n",
      " -0.85038302 -0.62606351 -0.4518844  -0.1560733   0.24129025  0.25516977\n",
      "  0.58192155  0.83223247  1.08760859  1.33992085]\n"
     ]
    }
   ],
   "source": [
    "print(np.unique(CambioCob_Reclass[~np.isnan(CambioCob_Reclass)])) #Para verificar que si se realizó bien la clasificación"
   ]
  },
  {
   "cell_type": "markdown",
   "metadata": {
    "colab_type": "text",
    "id": "kdvysAR7cIOx"
   },
   "source": [
    "###Fallas"
   ]
  },
  {
   "cell_type": "code",
   "execution_count": 113,
   "metadata": {
    "colab": {},
    "colab_type": "code",
    "id": "mdyXerbpfK32"
   },
   "outputs": [
    {
     "name": "stdout",
     "output_type": "stream",
     "text": [
      "17 38 27 17 53 21 30 23 60 286\n"
     ]
    }
   ],
   "source": [
    "#Con MM\n",
    "aC_Falla=bC_Falla=cC_Falla=dC_Falla=eC_Falla=fC_Falla=gC_Falla=hC_Falla=iC_Falla=0\n",
    "for i in np.arange(len(df_ConMM['Falla'])):\n",
    "        if df_ConMM['Falla'][i]==1.:\n",
    "              aC_Falla=aC_Falla+1\n",
    "        elif df_ConMM['Falla'][i]==2.:\n",
    "              bC_Falla=bC_Falla+1\n",
    "        elif df_ConMM['Falla'][i]==3.:\n",
    "              cC_Falla=cC_Falla+1\n",
    "        elif df_ConMM['Falla'][i]==4.:\n",
    "              dC_Falla=dC_Falla+1\n",
    "        elif df_ConMM['Falla'][i]==5.:\n",
    "              eC_Falla=eC_Falla+1   \n",
    "        elif df_ConMM['Falla'][i]==6.:\n",
    "              fC_Falla=fC_Falla+1\n",
    "        elif df_ConMM['Falla'][i]==7.:\n",
    "              gC_Falla=gC_Falla+1\n",
    "        elif df_ConMM['Falla'][i]==8.:\n",
    "              hC_Falla=hC_Falla+1\n",
    "        elif df_ConMM['Falla'][i]==9.:\n",
    "              iC_Falla=iC_Falla+1    \n",
    "\n",
    "totalC_Falla=aC_Falla+bC_Falla+cC_Falla+dC_Falla+eC_Falla+fC_Falla+gC_Falla+hC_Falla+iC_Falla\n",
    "list_clases_ConMM_Falla=[aC_Falla,bC_Falla,cC_Falla,dC_Falla,eC_Falla,fC_Falla,gC_Falla,hC_Falla,iC_Falla]\n",
    "print(aC_Falla,bC_Falla,cC_Falla,dC_Falla,eC_Falla,fC_Falla,gC_Falla,hC_Falla,iC_Falla,totalC_Falla)"
   ]
  },
  {
   "cell_type": "code",
   "execution_count": 114,
   "metadata": {
    "colab": {},
    "colab_type": "code",
    "id": "tON7WMLYfK4I"
   },
   "outputs": [
    {
     "name": "stdout",
     "output_type": "stream",
     "text": [
      "6997 13235 13761 12927 16427 14600 15547 8020 7703 109217\n"
     ]
    }
   ],
   "source": [
    "#Sin MM\n",
    "aS_Falla=bS_Falla=cS_Falla=dS_Falla=eS_Falla=fS_Falla=gS_Falla=hS_Falla=iS_Falla=0\n",
    "for i in np.arange(len(df_SinMM['Falla'])):\n",
    "        if df_SinMM['Falla'][i]==1.:\n",
    "              aS_Falla=aS_Falla+1\n",
    "        elif df_SinMM['Falla'][i]==2.:\n",
    "              bS_Falla=bS_Falla+1\n",
    "        elif df_SinMM['Falla'][i]==3.:\n",
    "              cS_Falla=cS_Falla+1\n",
    "        elif df_SinMM['Falla'][i]==4.:\n",
    "              dS_Falla=dS_Falla+1\n",
    "        elif df_SinMM['Falla'][i]==5.:\n",
    "              eS_Falla=eS_Falla+1\n",
    "        elif df_SinMM['Falla'][i]==6.:\n",
    "              fS_Falla=fS_Falla+1\n",
    "        elif df_SinMM['Falla'][i]==7.:\n",
    "              gS_Falla=gS_Falla+1\n",
    "        elif df_SinMM['Falla'][i]==8.:\n",
    "              hS_Falla=hS_Falla+1\n",
    "        elif df_SinMM['Falla'][i]==9.:\n",
    "              iS_Falla=iS_Falla+1\n",
    "\n",
    "totalS_Falla=aS_Falla+bS_Falla+cS_Falla+dS_Falla+eS_Falla+fS_Falla+gS_Falla+hS_Falla+iS_Falla\n",
    "list_clases_SinMM_Falla=[aS_Falla,bS_Falla,cS_Falla,dS_Falla,eS_Falla,fS_Falla,gS_Falla,hS_Falla,iS_Falla]\n",
    "print(aS_Falla,bS_Falla,cS_Falla,dS_Falla,eS_Falla,fS_Falla,gS_Falla,hS_Falla,iS_Falla,totalS_Falla)"
   ]
  },
  {
   "cell_type": "code",
   "execution_count": 115,
   "metadata": {
    "colab": {},
    "colab_type": "code",
    "id": "8wIwIQmUfK4R"
   },
   "outputs": [
    {
     "data": {
      "text/plain": [
       "True"
      ]
     },
     "execution_count": 115,
     "metadata": {},
     "output_type": "execute_result"
    }
   ],
   "source": [
    "totalC_Falla+totalS_Falla==len(X_train)"
   ]
  },
  {
   "cell_type": "code",
   "execution_count": 116,
   "metadata": {
    "colab": {},
    "colab_type": "code",
    "id": "nPDbaLZ1fK4c"
   },
   "outputs": [
    {
     "name": "stdout",
     "output_type": "stream",
     "text": [
      "17 269 6997 102220\n",
      "-0.07492322367742268 0.004928944291826529 -0.07985216796924921\n",
      "38 248 13235 95982\n",
      "0.09206624207744216 -0.013387009692410575 0.10545325176985273\n",
      "27 259 13761 95456\n",
      "-0.2886567202486947 0.035507571397320734 -0.32416429164601546\n",
      "17 269 12927 96290\n",
      "-0.6887598852154737 0.0646918263797674 -0.7534517115952412\n",
      "53 233 16427 92790\n",
      "0.20871050902318 -0.041955503769266336 0.2506660127924463\n",
      "21 265 14600 94617\n",
      "-0.5991541729607468 0.06723758008642983 -0.6663917530471766\n",
      "30 256 15547 93670\n",
      "-0.30532539427532734 0.042744395288644335 -0.34806978956397167\n",
      "23 263 8020 101197\n",
      "0.09090071208084742 -0.0075701619373049625 0.09847087401815238\n",
      "60 226 7703 101514\n",
      "1.0900796168813929 -0.16231680270230742 1.2523964195837003\n"
     ]
    }
   ],
   "source": [
    "Falla_Reclass=Falla\n",
    "#El contraste\n",
    "contraste_Falla=[]\n",
    "for i in np.arange(len(list_clases_SinMM_Falla)):\n",
    "    if list_clases_ConMM_Falla[i]==0:\n",
    "        x1_Falla=0.01\n",
    "    else:\n",
    "        x1_Falla=list_clases_ConMM_Falla[i] #Con MM en una clase\n",
    "        \n",
    "    x2_Falla=totalC_Falla-list_clases_ConMM_Falla[i] #Con MM en el resto de las clases\n",
    "    x3_Falla=list_clases_SinMM_Falla[i] #Sin MM en una clase\n",
    "    x4_Falla=totalS_Falla-list_clases_SinMM_Falla[i] #Sin MM el resto de las clases\n",
    "    print(x1_Falla,x2_Falla,x3_Falla,x4_Falla)\n",
    "\n",
    "    wp_Falla=np.log((x1_Falla/(x1_Falla+x2_Falla))/(x3_Falla/(x3_Falla+x4_Falla)))\n",
    "    wn_Falla=np.log((x2_Falla/(x1_Falla+x2_Falla))/(x4_Falla/(x3_Falla+x4_Falla)))\n",
    "    cont_Falla=wp_Falla-wn_Falla\n",
    "    print(wp_Falla,wn_Falla,cont_Falla)\n",
    "    contraste_Falla.append(cont_Falla)\n",
    "    Falla_Reclass=np.where(Falla_Reclass==i+1,cont_Falla,Falla_Reclass)\n"
   ]
  },
  {
   "cell_type": "code",
   "execution_count": 117,
   "metadata": {},
   "outputs": [
    {
     "name": "stdout",
     "output_type": "stream",
     "text": [
      "[-0.75345171 -0.66639175 -0.34806979 -0.32416429 -0.07985217  0.09847087\n",
      "  0.10545325  0.25066601  1.25239642]\n"
     ]
    }
   ],
   "source": [
    "print(np.unique(Falla_Reclass[~np.isnan(Falla_Reclass)])) #Para verificar que si se realizó bien la clasificación"
   ]
  },
  {
   "cell_type": "markdown",
   "metadata": {
    "colab_type": "text",
    "id": "Q5cGPYqgcIOy"
   },
   "source": [
    "###Cinemático"
   ]
  },
  {
   "cell_type": "code",
   "execution_count": 118,
   "metadata": {
    "colab": {},
    "colab_type": "code",
    "id": "m8JJ86zJhHkK"
   },
   "outputs": [
    {
     "name": "stdout",
     "output_type": "stream",
     "text": [
      "0 122 1 3 108 50 0 2 286\n"
     ]
    }
   ],
   "source": [
    "#Con MM\n",
    "aC_Cinem=bC_Cinem=cC_Cinem=dC_Cinem=eC_Cinem=fC_Cinem=gC_Cinem=hC_Cinem=0\n",
    "for i in np.arange(len(df_ConMM['Cinematico'])):\n",
    "        if df_ConMM['Cinematico'][i]==0.:\n",
    "              aC_Cinem=aC_Cinem+1\n",
    "        elif df_ConMM['Cinematico'][i]==1.:\n",
    "              bC_Cinem=bC_Cinem+1\n",
    "        elif df_ConMM['Cinematico'][i]==2.:\n",
    "              cC_Cinem=cC_Cinem+1\n",
    "        elif df_ConMM['Cinematico'][i]==3.:\n",
    "              dC_Cinem=dC_Cinem+1\n",
    "        elif df_ConMM['Cinematico'][i]==4.:\n",
    "              eC_Cinem=eC_Cinem+1   \n",
    "        elif df_ConMM['Cinematico'][i]==5.:\n",
    "              fC_Cinem=fC_Cinem+1\n",
    "        elif df_ConMM['Cinematico'][i]==6.:\n",
    "              gC_Cinem=gC_Cinem+1\n",
    "        elif df_ConMM['Cinematico'][i]==7.:\n",
    "              hC_Cinem=hC_Cinem+1\n",
    "\n",
    "\n",
    "totalC_Cinem=aC_Cinem+bC_Cinem+cC_Cinem+dC_Cinem+eC_Cinem+fC_Cinem+gC_Cinem+hC_Cinem\n",
    "list_clases_ConMM_Cinem=[aC_Cinem,bC_Cinem,cC_Cinem,dC_Cinem,eC_Cinem,fC_Cinem,gC_Cinem,hC_Cinem]\n",
    "print(aC_Cinem,bC_Cinem,cC_Cinem,dC_Cinem,eC_Cinem,fC_Cinem,gC_Cinem,hC_Cinem,totalC_Cinem)"
   ]
  },
  {
   "cell_type": "code",
   "execution_count": 119,
   "metadata": {
    "colab": {},
    "colab_type": "code",
    "id": "IGdoWXf0hHkc"
   },
   "outputs": [
    {
     "name": "stdout",
     "output_type": "stream",
     "text": [
      "2579 45715 669 1353 47615 6080 207 4999 109217\n"
     ]
    }
   ],
   "source": [
    "#Sin MM\n",
    "aS_Cinem=bS_Cinem=cS_Cinem=dS_Cinem=eS_Cinem=fS_Cinem=gS_Cinem=hS_Cinem=0\n",
    "for i in np.arange(len(df_SinMM['Cinematico'])):\n",
    "        if df_SinMM['Cinematico'][i]==0.:\n",
    "              aS_Cinem=aS_Cinem+1\n",
    "        elif df_SinMM['Cinematico'][i]==1.:\n",
    "              bS_Cinem=bS_Cinem+1\n",
    "        elif df_SinMM['Cinematico'][i]==2.:\n",
    "              cS_Cinem=cS_Cinem+1\n",
    "        elif df_SinMM['Cinematico'][i]==3.:\n",
    "              dS_Cinem=dS_Cinem+1\n",
    "        elif df_SinMM['Cinematico'][i]==4.:\n",
    "              eS_Cinem=eS_Cinem+1\n",
    "        elif df_SinMM['Cinematico'][i]==5.:\n",
    "              fS_Cinem=fS_Cinem+1\n",
    "        elif df_SinMM['Cinematico'][i]==6.:\n",
    "              gS_Cinem=gS_Cinem+1\n",
    "        elif df_SinMM['Cinematico'][i]==7.:\n",
    "              hS_Cinem=hS_Cinem+1\n",
    "\n",
    "totalS_Cinem=aS_Cinem+bS_Cinem+cS_Cinem+dS_Cinem+eS_Cinem+fS_Cinem+gS_Cinem+hS_Cinem\n",
    "list_clases_SinMM_Cinem=[aS_Cinem,bS_Cinem,cS_Cinem,dS_Cinem,eS_Cinem,fS_Cinem,gS_Cinem,hS_Cinem]\n",
    "print(aS_Cinem,bS_Cinem,cS_Cinem,dS_Cinem,eS_Cinem,fS_Cinem,gS_Cinem,hS_Cinem,totalS_Cinem)"
   ]
  },
  {
   "cell_type": "code",
   "execution_count": 120,
   "metadata": {},
   "outputs": [
    {
     "name": "stdout",
     "output_type": "stream",
     "text": [
      "Counter({4.0: 59654, 1.0: 57237, 5.0: 7668, 7.0: 6292, 0.0: 3237, 3.0: 1717, 2.0: 814, 6.0: 260})\n"
     ]
    }
   ],
   "source": [
    "print(Counter((Cinematico[~np.isnan(Cinematico)].ravel())))"
   ]
  },
  {
   "cell_type": "code",
   "execution_count": 121,
   "metadata": {
    "colab": {},
    "colab_type": "code",
    "id": "aRyrQlr6hHkl"
   },
   "outputs": [
    {
     "data": {
      "text/plain": [
       "True"
      ]
     },
     "execution_count": 121,
     "metadata": {},
     "output_type": "execute_result"
    }
   ],
   "source": [
    "totalC_Cinem+totalS_Cinem==len(X_train)"
   ]
  },
  {
   "cell_type": "code",
   "execution_count": 122,
   "metadata": {
    "colab": {},
    "colab_type": "code",
    "id": "ggWM5igJhHkt",
    "scrolled": true
   },
   "outputs": [
    {
     "name": "stdout",
     "output_type": "stream",
     "text": [
      "0.01 286 2579 106638\n",
      "-6.51526195928088 0.02386184342036149 -6.5391238027012415\n",
      "122 164 45715 63502\n",
      "0.01893949114698771 -0.013860055611328024 0.032799546758315735\n",
      "1 285 669 108548\n",
      "-0.5606838631159704 0.002641626833290715 -0.5633254899492611\n",
      "3 283 1353 107864\n",
      "-0.16636714249042026 0.0019206413415852038 -0.16828778383200546\n",
      "108 178 47615 61602\n",
      "-0.14367169249166867 0.09843413077732349 -0.24210582326899216\n",
      "50 236 6080 103137\n",
      "1.1443632274801914 -0.13488147846575485 1.2792447059459462\n",
      "0.01 286 207 109010\n",
      "-3.9928237466649046 0.0018621432860039602 -3.9946858899509086\n",
      "2 284 4999 104218\n",
      "-1.8787457938413672 0.039834297069022896 -1.91858009091039\n"
     ]
    }
   ],
   "source": [
    "Cinematico_Reclass=Cinematico\n",
    "#El contraste\n",
    "contraste_Cinem=[]\n",
    "for i in np.arange(len(list_clases_SinMM_Cinem)):\n",
    "    if list_clases_ConMM_Cinem[i]==0:\n",
    "        x1_Cinem=0.01\n",
    "    else:\n",
    "        x1_Cinem=list_clases_ConMM_Cinem[i] #Con MM en una clase\n",
    "   \n",
    "    x2_Cinem=totalC_Cinem-list_clases_ConMM_Cinem[i] #Con MM en el resto de las clases\n",
    "    x3_Cinem=list_clases_SinMM_Cinem[i] #Sin MM en una clase\n",
    "    x4_Cinem=totalS_Cinem-list_clases_SinMM_Cinem[i] #Sin MM el resto de las clases\n",
    "    print(x1_Cinem,x2_Cinem,x3_Cinem,x4_Cinem)\n",
    "\n",
    "    wp_Cinem=np.log((x1_Cinem/(x1_Cinem+x2_Cinem))/(x3_Cinem/(x3_Cinem+x4_Cinem)))\n",
    "    wn_Cinem=np.log((x2_Cinem/(x1_Cinem+x2_Cinem))/(x4_Cinem/(x3_Cinem+x4_Cinem)))\n",
    "    cont_Cinem=wp_Cinem-wn_Cinem\n",
    "    print(wp_Cinem,wn_Cinem,cont_Cinem)\n",
    "    contraste_Cinem.append(cont_Cinem)\n",
    "    Cinematico_Reclass=np.where(Cinematico_Reclass==i,cont_Cinem,Cinematico_Reclass)\n",
    " "
   ]
  },
  {
   "cell_type": "code",
   "execution_count": 123,
   "metadata": {},
   "outputs": [
    {
     "name": "stdout",
     "output_type": "stream",
     "text": [
      "[-6.5391238  -3.99468589 -1.91858009 -0.56332549 -0.24210582 -0.16828778\n",
      "  0.03279955  1.27924471]\n"
     ]
    }
   ],
   "source": [
    "print(np.unique(Cinematico_Reclass[~np.isnan(Cinematico_Reclass)])) #Para verificar que si se realizó bien la clasificación"
   ]
  },
  {
   "cell_type": "markdown",
   "metadata": {
    "colab_type": "text",
    "id": "FTd0vx9Umwkm"
   },
   "source": [
    "##Contraste"
   ]
  },
  {
   "cell_type": "code",
   "execution_count": 124,
   "metadata": {
    "colab": {},
    "colab_type": "code",
    "id": "-HMJmvQrljEt",
    "scrolled": true
   },
   "outputs": [
    {
     "data": {
      "text/html": [
       "<div>\n",
       "<style scoped>\n",
       "    .dataframe tbody tr th:only-of-type {\n",
       "        vertical-align: middle;\n",
       "    }\n",
       "\n",
       "    .dataframe tbody tr th {\n",
       "        vertical-align: top;\n",
       "    }\n",
       "\n",
       "    .dataframe thead th {\n",
       "        text-align: right;\n",
       "    }\n",
       "</style>\n",
       "<table border=\"1\" class=\"dataframe\">\n",
       "  <thead>\n",
       "    <tr style=\"text-align: right;\">\n",
       "      <th></th>\n",
       "      <th>Curvatura</th>\n",
       "      <th>TWI</th>\n",
       "      <th>CambioCob</th>\n",
       "      <th>Litología</th>\n",
       "      <th>RR</th>\n",
       "      <th>Slope</th>\n",
       "      <th>Falla</th>\n",
       "      <th>Cinemático</th>\n",
       "    </tr>\n",
       "  </thead>\n",
       "  <tbody>\n",
       "    <tr>\n",
       "      <th>0</th>\n",
       "      <td>0.102438</td>\n",
       "      <td>-0.491465</td>\n",
       "      <td>-0.451884</td>\n",
       "      <td>-1.331627</td>\n",
       "      <td>-8.126864</td>\n",
       "      <td>-1.896587</td>\n",
       "      <td>-0.079852</td>\n",
       "      <td>-6.539124</td>\n",
       "    </tr>\n",
       "    <tr>\n",
       "      <th>1</th>\n",
       "      <td>-0.258475</td>\n",
       "      <td>0.913479</td>\n",
       "      <td>1.339921</td>\n",
       "      <td>0.974530</td>\n",
       "      <td>0.150097</td>\n",
       "      <td>-0.390952</td>\n",
       "      <td>0.105453</td>\n",
       "      <td>0.032800</td>\n",
       "    </tr>\n",
       "    <tr>\n",
       "      <th>2</th>\n",
       "      <td>-0.191241</td>\n",
       "      <td>0.032727</td>\n",
       "      <td>1.087609</td>\n",
       "      <td>2.893545</td>\n",
       "      <td>-0.291551</td>\n",
       "      <td>-0.950015</td>\n",
       "      <td>-0.324164</td>\n",
       "      <td>-0.563325</td>\n",
       "    </tr>\n",
       "    <tr>\n",
       "      <th>3</th>\n",
       "      <td>-0.289946</td>\n",
       "      <td>-0.088985</td>\n",
       "      <td>-2.489133</td>\n",
       "      <td>-6.539124</td>\n",
       "      <td>-0.155008</td>\n",
       "      <td>-0.656368</td>\n",
       "      <td>-0.753452</td>\n",
       "      <td>-0.168288</td>\n",
       "    </tr>\n",
       "    <tr>\n",
       "      <th>4</th>\n",
       "      <td>0.533166</td>\n",
       "      <td>-0.306611</td>\n",
       "      <td>0.241290</td>\n",
       "      <td>NaN</td>\n",
       "      <td>0.286005</td>\n",
       "      <td>-0.637627</td>\n",
       "      <td>0.250666</td>\n",
       "      <td>-0.242106</td>\n",
       "    </tr>\n",
       "    <tr>\n",
       "      <th>5</th>\n",
       "      <td>-3.055261</td>\n",
       "      <td>-0.372013</td>\n",
       "      <td>-0.156073</td>\n",
       "      <td>NaN</td>\n",
       "      <td>0.530532</td>\n",
       "      <td>2.036899</td>\n",
       "      <td>-0.666392</td>\n",
       "      <td>1.279245</td>\n",
       "    </tr>\n",
       "    <tr>\n",
       "      <th>6</th>\n",
       "      <td>-3.361558</td>\n",
       "      <td>NaN</td>\n",
       "      <td>-0.850383</td>\n",
       "      <td>NaN</td>\n",
       "      <td>NaN</td>\n",
       "      <td>1.346722</td>\n",
       "      <td>-0.348070</td>\n",
       "      <td>-3.994686</td>\n",
       "    </tr>\n",
       "    <tr>\n",
       "      <th>7</th>\n",
       "      <td>-1.225138</td>\n",
       "      <td>NaN</td>\n",
       "      <td>-1.949585</td>\n",
       "      <td>NaN</td>\n",
       "      <td>NaN</td>\n",
       "      <td>NaN</td>\n",
       "      <td>0.098471</td>\n",
       "      <td>-1.918580</td>\n",
       "    </tr>\n",
       "    <tr>\n",
       "      <th>8</th>\n",
       "      <td>-0.269554</td>\n",
       "      <td>NaN</td>\n",
       "      <td>-4.009102</td>\n",
       "      <td>NaN</td>\n",
       "      <td>NaN</td>\n",
       "      <td>NaN</td>\n",
       "      <td>1.252396</td>\n",
       "      <td>NaN</td>\n",
       "    </tr>\n",
       "    <tr>\n",
       "      <th>9</th>\n",
       "      <td>NaN</td>\n",
       "      <td>NaN</td>\n",
       "      <td>0.832232</td>\n",
       "      <td>NaN</td>\n",
       "      <td>NaN</td>\n",
       "      <td>NaN</td>\n",
       "      <td>NaN</td>\n",
       "      <td>NaN</td>\n",
       "    </tr>\n",
       "    <tr>\n",
       "      <th>10</th>\n",
       "      <td>NaN</td>\n",
       "      <td>NaN</td>\n",
       "      <td>0.255170</td>\n",
       "      <td>NaN</td>\n",
       "      <td>NaN</td>\n",
       "      <td>NaN</td>\n",
       "      <td>NaN</td>\n",
       "      <td>NaN</td>\n",
       "    </tr>\n",
       "    <tr>\n",
       "      <th>11</th>\n",
       "      <td>NaN</td>\n",
       "      <td>NaN</td>\n",
       "      <td>-0.626064</td>\n",
       "      <td>NaN</td>\n",
       "      <td>NaN</td>\n",
       "      <td>NaN</td>\n",
       "      <td>NaN</td>\n",
       "      <td>NaN</td>\n",
       "    </tr>\n",
       "    <tr>\n",
       "      <th>12</th>\n",
       "      <td>NaN</td>\n",
       "      <td>NaN</td>\n",
       "      <td>-3.645014</td>\n",
       "      <td>NaN</td>\n",
       "      <td>NaN</td>\n",
       "      <td>NaN</td>\n",
       "      <td>NaN</td>\n",
       "      <td>NaN</td>\n",
       "    </tr>\n",
       "    <tr>\n",
       "      <th>13</th>\n",
       "      <td>NaN</td>\n",
       "      <td>NaN</td>\n",
       "      <td>0.581922</td>\n",
       "      <td>NaN</td>\n",
       "      <td>NaN</td>\n",
       "      <td>NaN</td>\n",
       "      <td>NaN</td>\n",
       "      <td>NaN</td>\n",
       "    </tr>\n",
       "    <tr>\n",
       "      <th>14</th>\n",
       "      <td>NaN</td>\n",
       "      <td>NaN</td>\n",
       "      <td>-1.578141</td>\n",
       "      <td>NaN</td>\n",
       "      <td>NaN</td>\n",
       "      <td>NaN</td>\n",
       "      <td>NaN</td>\n",
       "      <td>NaN</td>\n",
       "    </tr>\n",
       "    <tr>\n",
       "      <th>15</th>\n",
       "      <td>NaN</td>\n",
       "      <td>NaN</td>\n",
       "      <td>-0.949162</td>\n",
       "      <td>NaN</td>\n",
       "      <td>NaN</td>\n",
       "      <td>NaN</td>\n",
       "      <td>NaN</td>\n",
       "      <td>NaN</td>\n",
       "    </tr>\n",
       "  </tbody>\n",
       "</table>\n",
       "</div>"
      ],
      "text/plain": [
       "    Curvatura       TWI  CambioCob  Litología        RR     Slope     Falla  \\\n",
       "0    0.102438 -0.491465  -0.451884  -1.331627 -8.126864 -1.896587 -0.079852   \n",
       "1   -0.258475  0.913479   1.339921   0.974530  0.150097 -0.390952  0.105453   \n",
       "2   -0.191241  0.032727   1.087609   2.893545 -0.291551 -0.950015 -0.324164   \n",
       "3   -0.289946 -0.088985  -2.489133  -6.539124 -0.155008 -0.656368 -0.753452   \n",
       "4    0.533166 -0.306611   0.241290        NaN  0.286005 -0.637627  0.250666   \n",
       "5   -3.055261 -0.372013  -0.156073        NaN  0.530532  2.036899 -0.666392   \n",
       "6   -3.361558       NaN  -0.850383        NaN       NaN  1.346722 -0.348070   \n",
       "7   -1.225138       NaN  -1.949585        NaN       NaN       NaN  0.098471   \n",
       "8   -0.269554       NaN  -4.009102        NaN       NaN       NaN  1.252396   \n",
       "9         NaN       NaN   0.832232        NaN       NaN       NaN       NaN   \n",
       "10        NaN       NaN   0.255170        NaN       NaN       NaN       NaN   \n",
       "11        NaN       NaN  -0.626064        NaN       NaN       NaN       NaN   \n",
       "12        NaN       NaN  -3.645014        NaN       NaN       NaN       NaN   \n",
       "13        NaN       NaN   0.581922        NaN       NaN       NaN       NaN   \n",
       "14        NaN       NaN  -1.578141        NaN       NaN       NaN       NaN   \n",
       "15        NaN       NaN  -0.949162        NaN       NaN       NaN       NaN   \n",
       "\n",
       "    Cinemático  \n",
       "0    -6.539124  \n",
       "1     0.032800  \n",
       "2    -0.563325  \n",
       "3    -0.168288  \n",
       "4    -0.242106  \n",
       "5     1.279245  \n",
       "6    -3.994686  \n",
       "7    -1.918580  \n",
       "8          NaN  \n",
       "9          NaN  \n",
       "10         NaN  \n",
       "11         NaN  \n",
       "12         NaN  \n",
       "13         NaN  \n",
       "14         NaN  \n",
       "15         NaN  "
      ]
     },
     "execution_count": 124,
     "metadata": {},
     "output_type": "execute_result"
    }
   ],
   "source": [
    "Contraste_df=pd.concat([\n",
    "                # contraste_Inclina_lad,\n",
    "                # contraste_Aspecto,\n",
    "                 pd.DataFrame(contraste_Curv),\n",
    "                # contraste_Rugosidad,\n",
    "                # contraste_Posic_topo,\n",
    "                pd.DataFrame(contraste_TWI),\n",
    "                 pd.DataFrame(contraste_CambioCob),\n",
    "                 pd.DataFrame(contrasteLit),\n",
    "                # contraste_EAS,\n",
    "                #  contraste_DDS,\n",
    "                 pd.DataFrame(contraste_RR),\n",
    "                 pd.DataFrame(contraste_Slope),\n",
    "                 pd.DataFrame(contraste_Falla),\n",
    "                 pd.DataFrame(contraste_Cinem)\n",
    "                 ], axis=1)\n",
    "Contraste_df.columns=[\n",
    "                # 'Inclinación de Ladera',\n",
    "                #  'Aspecto',\n",
    "                 'Curvatura',\n",
    "                #  'Rugosidad',\n",
    "                #  'TPI',\n",
    "                 'TWI',\n",
    "                 'CambioCob',\n",
    "                 'Litología',\n",
    "                #  'EAS',\n",
    "#                  'DDS',\n",
    "                 'RR',\n",
    "                 'Slope',\n",
    "                 'Falla',\n",
    "                 'Cinemático']\n",
    "Contraste_df"
   ]
  },
  {
   "cell_type": "code",
   "execution_count": 126,
   "metadata": {
    "scrolled": true
   },
   "outputs": [],
   "source": [
    "# Contraste_df.to_excel('G:/Unidades compartidas/ETCRS/IS/Contraste'+'/Contraste_LaFila.xlsx')"
   ]
  }
 ],
 "metadata": {
  "accelerator": "GPU",
  "colab": {
   "authorship_tag": "ABX9TyMG4zpuT9BwELLge7/vouJ1",
   "collapsed_sections": [],
   "name": "Peso de la evidencia_LaFila.ipynb",
   "provenance": [],
   "toc_visible": true
  },
  "kernelspec": {
   "display_name": "Python 3",
   "language": "python",
   "name": "python3"
  },
  "language_info": {
   "codemirror_mode": {
    "name": "ipython",
    "version": 3
   },
   "file_extension": ".py",
   "mimetype": "text/x-python",
   "name": "python",
   "nbconvert_exporter": "python",
   "pygments_lexer": "ipython3",
   "version": "3.7.7"
  }
 },
 "nbformat": 4,
 "nbformat_minor": 1
}
